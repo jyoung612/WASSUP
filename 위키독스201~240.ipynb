{
 "cells": [
  {
   "cell_type": "markdown",
   "id": "22864af8",
   "metadata": {},
   "source": [
    "# 파이썬 함수"
   ]
  },
  {
   "cell_type": "markdown",
   "id": "fa1445aa",
   "metadata": {},
   "source": [
    "* 201~210"
   ]
  },
  {
   "cell_type": "code",
   "execution_count": 1,
   "id": "6b41867f",
   "metadata": {},
   "outputs": [],
   "source": [
    "def print_coin():\n",
    "    print(\"비트코인\")"
   ]
  },
  {
   "cell_type": "code",
   "execution_count": 2,
   "id": "143b1904",
   "metadata": {},
   "outputs": [
    {
     "name": "stdout",
     "output_type": "stream",
     "text": [
      "비트코인\n"
     ]
    }
   ],
   "source": [
    "print_coin()"
   ]
  },
  {
   "cell_type": "code",
   "execution_count": 3,
   "id": "b648fa72",
   "metadata": {},
   "outputs": [
    {
     "name": "stdout",
     "output_type": "stream",
     "text": [
      "비트코인\n",
      "비트코인\n",
      "비트코인\n",
      "비트코인\n",
      "비트코인\n",
      "비트코인\n",
      "비트코인\n",
      "비트코인\n",
      "비트코인\n",
      "비트코인\n",
      "비트코인\n",
      "비트코인\n",
      "비트코인\n",
      "비트코인\n",
      "비트코인\n",
      "비트코인\n",
      "비트코인\n",
      "비트코인\n",
      "비트코인\n",
      "비트코인\n",
      "비트코인\n",
      "비트코인\n",
      "비트코인\n",
      "비트코인\n",
      "비트코인\n",
      "비트코인\n",
      "비트코인\n",
      "비트코인\n",
      "비트코인\n",
      "비트코인\n",
      "비트코인\n",
      "비트코인\n",
      "비트코인\n",
      "비트코인\n",
      "비트코인\n",
      "비트코인\n",
      "비트코인\n",
      "비트코인\n",
      "비트코인\n",
      "비트코인\n",
      "비트코인\n",
      "비트코인\n",
      "비트코인\n",
      "비트코인\n",
      "비트코인\n",
      "비트코인\n",
      "비트코인\n",
      "비트코인\n",
      "비트코인\n",
      "비트코인\n",
      "비트코인\n",
      "비트코인\n",
      "비트코인\n",
      "비트코인\n",
      "비트코인\n",
      "비트코인\n",
      "비트코인\n",
      "비트코인\n",
      "비트코인\n",
      "비트코인\n",
      "비트코인\n",
      "비트코인\n",
      "비트코인\n",
      "비트코인\n",
      "비트코인\n",
      "비트코인\n",
      "비트코인\n",
      "비트코인\n",
      "비트코인\n",
      "비트코인\n",
      "비트코인\n",
      "비트코인\n",
      "비트코인\n",
      "비트코인\n",
      "비트코인\n",
      "비트코인\n",
      "비트코인\n",
      "비트코인\n",
      "비트코인\n",
      "비트코인\n",
      "비트코인\n",
      "비트코인\n",
      "비트코인\n",
      "비트코인\n",
      "비트코인\n",
      "비트코인\n",
      "비트코인\n",
      "비트코인\n",
      "비트코인\n",
      "비트코인\n",
      "비트코인\n",
      "비트코인\n",
      "비트코인\n",
      "비트코인\n",
      "비트코인\n",
      "비트코인\n",
      "비트코인\n",
      "비트코인\n",
      "비트코인\n",
      "비트코인\n"
     ]
    }
   ],
   "source": [
    "for i in range(1,101):\n",
    "    print_coin()"
   ]
  },
  {
   "cell_type": "code",
   "execution_count": 6,
   "id": "fa441a02",
   "metadata": {},
   "outputs": [],
   "source": [
    "def print_coins():\n",
    "    for i in range(100):\n",
    "        print(\"비트코인\")"
   ]
  },
  {
   "cell_type": "code",
   "execution_count": 31,
   "id": "b2704fef",
   "metadata": {},
   "outputs": [
    {
     "ename": "NameError",
     "evalue": "name 'hello' is not defined",
     "output_type": "error",
     "traceback": [
      "\u001b[1;31m---------------------------------------------------------------------------\u001b[0m",
      "\u001b[1;31mNameError\u001b[0m                                 Traceback (most recent call last)",
      "Cell \u001b[1;32mIn[31], line 1\u001b[0m\n\u001b[1;32m----> 1\u001b[0m hello()\n\u001b[0;32m      2\u001b[0m \u001b[38;5;28;01mdef\u001b[39;00m \u001b[38;5;21mhello\u001b[39m():\n\u001b[0;32m      3\u001b[0m     \u001b[38;5;28mprint\u001b[39m(\u001b[38;5;124m\"\u001b[39m\u001b[38;5;124mHi\u001b[39m\u001b[38;5;124m\"\u001b[39m)\n",
      "\u001b[1;31mNameError\u001b[0m: name 'hello' is not defined"
     ]
    }
   ],
   "source": [
    "hello()\n",
    "def hello():\n",
    "    print(\"Hi\")\n",
    "\n",
    "#에러 발생 원인 : 함수가 정의되기 전에 호출되었음. 함수를 정의하고 호출할 것"
   ]
  },
  {
   "cell_type": "code",
   "execution_count": 32,
   "id": "a53e3826",
   "metadata": {},
   "outputs": [
    {
     "name": "stdout",
     "output_type": "stream",
     "text": [
      "A\n",
      "B\n",
      "C\n",
      "A\n",
      "B\n"
     ]
    }
   ],
   "source": [
    "def message():\n",
    "    print(\"A\")\n",
    "    print(\"B\")\n",
    "    \n",
    "message()  #message 함수 호출 : 'A','B' 출력\n",
    "print(\"C\")  #'C'출력\n",
    "message()  #message 함수 호출 : 'A','B' 출력\n",
    "\n",
    "#결과 예측 : ABCAB"
   ]
  },
  {
   "cell_type": "code",
   "execution_count": null,
   "id": "d13dea2a",
   "metadata": {},
   "outputs": [],
   "source": [
    "print(\"A\")\n",
    "\n",
    "def message():\n",
    "    print(\"B\")\n",
    "    \n",
    "print(\"C\")\n",
    "message()\n",
    "\n",
    "#결과값 예측 : ACB"
   ]
  },
  {
   "cell_type": "code",
   "execution_count": 1,
   "id": "1c31d3fc",
   "metadata": {},
   "outputs": [
    {
     "name": "stdout",
     "output_type": "stream",
     "text": [
      "A\n",
      "C\n",
      "B\n",
      "E\n",
      "D\n"
     ]
    }
   ],
   "source": [
    "print('A')\n",
    "def message1():\n",
    "    print(\"B\")\n",
    "print(\"C\")\n",
    "def message2():\n",
    "    print(\"D\")\n",
    "message1()\n",
    "print('E')\n",
    "message2()\n",
    "\n",
    "#결과값 예측 : ACBED"
   ]
  },
  {
   "cell_type": "code",
   "execution_count": 4,
   "id": "02ff0ffb",
   "metadata": {},
   "outputs": [
    {
     "name": "stdout",
     "output_type": "stream",
     "text": [
      "B\n",
      "A\n"
     ]
    }
   ],
   "source": [
    "def message1():  #5번째\n",
    "    print(\"A\")  #6번째\n",
    "    \n",
    "def message2():  #2번째 \n",
    "    print(\"B\")  #3번째\n",
    "    message1()  #4번째\n",
    "    \n",
    "message2() #실행순서 : 1번째\n",
    "\n",
    "#결과값 예측 : BA"
   ]
  },
  {
   "cell_type": "code",
   "execution_count": 5,
   "id": "33392650",
   "metadata": {},
   "outputs": [
    {
     "name": "stdout",
     "output_type": "stream",
     "text": [
      "B\n",
      "C\n",
      "B\n",
      "C\n",
      "B\n",
      "C\n",
      "A\n"
     ]
    }
   ],
   "source": [
    "def message1():\n",
    "    print(\"A\")\n",
    "    \n",
    "def message2():\n",
    "    print(\"B\")\n",
    "    \n",
    "def message3():  \n",
    "    for i in range(3):\n",
    "        message2()\n",
    "        print(\"C\")\n",
    "    message1()\n",
    "    \n",
    "message3()  \n",
    "\n",
    "#결과값 예측 : B \\n C \\n B \\n C \\n B \\n C \\n A"
   ]
  },
  {
   "cell_type": "markdown",
   "id": "578e317e",
   "metadata": {},
   "source": [
    "* 211~220"
   ]
  },
  {
   "cell_type": "code",
   "execution_count": 6,
   "id": "101a5583",
   "metadata": {},
   "outputs": [
    {
     "name": "stdout",
     "output_type": "stream",
     "text": [
      "안녕\n",
      "Hi\n"
     ]
    }
   ],
   "source": [
    "def 함수(문자열):\n",
    "    print(문자열)\n",
    "    \n",
    "함수(\"안녕\")\n",
    "함수(\"Hi\")\n",
    "\n",
    "#결과값 예측 : 안녕 \\n Hi"
   ]
  },
  {
   "cell_type": "code",
   "execution_count": 7,
   "id": "4bb76294",
   "metadata": {},
   "outputs": [
    {
     "name": "stdout",
     "output_type": "stream",
     "text": [
      "7\n",
      "15\n"
     ]
    }
   ],
   "source": [
    "def 함수(a,b):\n",
    "    print(a+b)\n",
    "    \n",
    "함수(3,4)\n",
    "함수(7,8)\n",
    "\n",
    "#결과값 예측 : 7 \\n 15"
   ]
  },
  {
   "cell_type": "code",
   "execution_count": 8,
   "id": "58837427",
   "metadata": {},
   "outputs": [
    {
     "ename": "TypeError",
     "evalue": "함수() missing 1 required positional argument: '문자열'",
     "output_type": "error",
     "traceback": [
      "\u001b[1;31m---------------------------------------------------------------------------\u001b[0m",
      "\u001b[1;31mTypeError\u001b[0m                                 Traceback (most recent call last)",
      "Cell \u001b[1;32mIn[8], line 4\u001b[0m\n\u001b[0;32m      1\u001b[0m \u001b[38;5;28;01mdef\u001b[39;00m \u001b[38;5;21m함수\u001b[39m(문자열):\n\u001b[0;32m      2\u001b[0m     \u001b[38;5;28mprint\u001b[39m(문자열)\n\u001b[1;32m----> 4\u001b[0m 함수()\n",
      "\u001b[1;31mTypeError\u001b[0m: 함수() missing 1 required positional argument: '문자열'"
     ]
    }
   ],
   "source": [
    "def 함수(문자열):\n",
    "    print(문자열)\n",
    "    \n",
    "함수()\n",
    "\n",
    "#에러 발생 원인 :정의된 함수와는 다르게 함수의 매개변수가 지정이 안되어있음."
   ]
  },
  {
   "cell_type": "code",
   "execution_count": 9,
   "id": "7cff0d34",
   "metadata": {},
   "outputs": [
    {
     "ename": "TypeError",
     "evalue": "can only concatenate str (not \"int\") to str",
     "output_type": "error",
     "traceback": [
      "\u001b[1;31m---------------------------------------------------------------------------\u001b[0m",
      "\u001b[1;31mTypeError\u001b[0m                                 Traceback (most recent call last)",
      "Cell \u001b[1;32mIn[9], line 4\u001b[0m\n\u001b[0;32m      1\u001b[0m \u001b[38;5;28;01mdef\u001b[39;00m \u001b[38;5;21m함수\u001b[39m(a,b):\n\u001b[0;32m      2\u001b[0m     \u001b[38;5;28mprint\u001b[39m(a\u001b[38;5;241m+\u001b[39mb)\n\u001b[1;32m----> 4\u001b[0m 함수(\u001b[38;5;124m\"\u001b[39m\u001b[38;5;124m안녕\u001b[39m\u001b[38;5;124m\"\u001b[39m,\u001b[38;5;241m3\u001b[39m)\n",
      "Cell \u001b[1;32mIn[9], line 2\u001b[0m, in \u001b[0;36m함수\u001b[1;34m(a, b)\u001b[0m\n\u001b[0;32m      1\u001b[0m \u001b[38;5;28;01mdef\u001b[39;00m \u001b[38;5;21m함수\u001b[39m(a,b):\n\u001b[1;32m----> 2\u001b[0m     \u001b[38;5;28mprint\u001b[39m(a\u001b[38;5;241m+\u001b[39mb)\n",
      "\u001b[1;31mTypeError\u001b[0m: can only concatenate str (not \"int\") to str"
     ]
    }
   ],
   "source": [
    "def 함수(a,b):\n",
    "    print(a+b)\n",
    "    \n",
    "함수(\"안녕\",3)\n",
    "\n",
    "#에러 발생 원인 : 정의된 함수의 파라미터는 같은 타입이지만, 호출된 함수는 같은 타입을 호출한 것이 아님."
   ]
  },
  {
   "cell_type": "code",
   "execution_count": 10,
   "id": "5da1616b",
   "metadata": {},
   "outputs": [
    {
     "name": "stdout",
     "output_type": "stream",
     "text": [
      "Hi :D\n"
     ]
    }
   ],
   "source": [
    "def print_with_smile(a):\n",
    "    print(a,':D')\n",
    "    \n",
    "print_with_smile(\"Hi\") "
   ]
  },
  {
   "cell_type": "code",
   "execution_count": 11,
   "id": "7dcaaf9f",
   "metadata": {},
   "outputs": [
    {
     "name": "stdout",
     "output_type": "stream",
     "text": [
      "안녕하세요 :D\n"
     ]
    }
   ],
   "source": [
    "def print_with_smile(a):\n",
    "    print(a,':D')\n",
    "\n",
    "print_with_smile(\"안녕하세요\")"
   ]
  },
  {
   "cell_type": "code",
   "execution_count": 16,
   "id": "1fff16ec",
   "metadata": {},
   "outputs": [
    {
     "name": "stdout",
     "output_type": "stream",
     "text": [
      "2600.0\n"
     ]
    }
   ],
   "source": [
    "def print_upper_price(price):\n",
    "    print(price*1.3)\n",
    "    \n",
    "print_upper_price(2000)"
   ]
  },
  {
   "cell_type": "code",
   "execution_count": 15,
   "id": "c7ded404",
   "metadata": {},
   "outputs": [
    {
     "name": "stdout",
     "output_type": "stream",
     "text": [
      "10\n",
      "12\n",
      "1012\n"
     ]
    }
   ],
   "source": [
    "def print_sum(a,b):\n",
    "    print(a+b)\n",
    "\n",
    "#x=int(input())\n",
    "#y=int(input())\n",
    "\n",
    "x=input()\n",
    "y=input()\n",
    "\n",
    "print_sum(x,y)"
   ]
  },
  {
   "cell_type": "code",
   "execution_count": 17,
   "id": "f93b5224",
   "metadata": {},
   "outputs": [
    {
     "name": "stdout",
     "output_type": "stream",
     "text": [
      "3 + 4 = 7\n",
      "3 - 4 = -1\n",
      "3 * 4 = 12\n",
      "3 / 4 = 0.75\n"
     ]
    }
   ],
   "source": [
    "def print_arithmetic_operation(a,b):\n",
    "    print(a,'+',b,'=',a+b)\n",
    "    print(a,'-',b,'=',a-b)\n",
    "    print(a,'*',b,'=',a*b)\n",
    "    print(a,'/',b,'=',a/b)\n",
    "    \n",
    "print_arithmetic_operation(3,4)"
   ]
  },
  {
   "cell_type": "code",
   "execution_count": 18,
   "id": "fddff6cc",
   "metadata": {},
   "outputs": [
    {
     "name": "stdout",
     "output_type": "stream",
     "text": [
      "30\n"
     ]
    }
   ],
   "source": [
    "def print_max(a,b,c):\n",
    "    if a>=b and a>=c:\n",
    "        print(a)\n",
    "    elif b>=a and b>=c:\n",
    "        print(b)\n",
    "    else:\n",
    "        print(c)\n",
    "    \n",
    "print_max(10,30,20)"
   ]
  },
  {
   "cell_type": "code",
   "execution_count": 20,
   "id": "314f67bc",
   "metadata": {},
   "outputs": [
    {
     "name": "stdout",
     "output_type": "stream",
     "text": [
      "30\n"
     ]
    }
   ],
   "source": [
    "#다른방법\n",
    "\n",
    "def print_max(a,b,c):\n",
    "    max_val=0\n",
    "    if a > max_val:\n",
    "        max_val=a\n",
    "    if b > max_val:\n",
    "        max_val=b\n",
    "    if c > max_val:\n",
    "        max_val=c\n",
    "    \n",
    "    print(max_val)\n",
    "    \n",
    "print_max(10,30,20)"
   ]
  },
  {
   "cell_type": "markdown",
   "id": "edf010d8",
   "metadata": {},
   "source": [
    "* 221~230"
   ]
  },
  {
   "cell_type": "code",
   "execution_count": 10,
   "id": "77c93ab2",
   "metadata": {},
   "outputs": [
    {
     "name": "stdout",
     "output_type": "stream",
     "text": [
      "nohtyp\n"
     ]
    }
   ],
   "source": [
    "def print_reverse(string):  # print_reverse 함수 정의\n",
    "    print(string[::-1])  # 배열을 통해 역순으로 출력\n",
    "    \n",
    "print_reverse(\"python\")   # 함수 호출"
   ]
  },
  {
   "cell_type": "code",
   "execution_count": 11,
   "id": "58d2c31e",
   "metadata": {},
   "outputs": [
    {
     "name": "stdout",
     "output_type": "stream",
     "text": [
      "2.0\n"
     ]
    }
   ],
   "source": [
    "def print_score(score):   #print_score 함수 정의\n",
    "    print(sum(score)/len(score))   #sum함수와 len함수를 이용하여 평균 구하기\n",
    "\n",
    "print_score([1,2,3])   #함수 호출"
   ]
  },
  {
   "cell_type": "code",
   "execution_count": 16,
   "id": "7c14e979",
   "metadata": {},
   "outputs": [
    {
     "name": "stdout",
     "output_type": "stream",
     "text": [
      "2\n",
      "10\n",
      "12\n"
     ]
    }
   ],
   "source": [
    "def print_even(num):   #print_even함수 정의\n",
    "    for i in num:   # for문을 통해 반복 \n",
    "        if i%2==0:   # if문을 통해 짝수값 구하기\n",
    "            print(i)\n",
    "    \n",
    "print_even([1,3,2,10,12,11,15])   #함수 호출"
   ]
  },
  {
   "cell_type": "code",
   "execution_count": 18,
   "id": "8999147d",
   "metadata": {},
   "outputs": [
    {
     "name": "stdout",
     "output_type": "stream",
     "text": [
      "이름\n",
      "나이\n",
      "성별\n"
     ]
    }
   ],
   "source": [
    "def print_keys(dict):   # print_keys 함수 정의\n",
    "    for key in dict.keys():   # 반복문을 통해 key값 출력하기\n",
    "        print(key)   \n",
    "        \n",
    "print_keys({\"이름\":\"김말똥\",\"나이\":30,\"성별\":0})   #함수 호출"
   ]
  },
  {
   "cell_type": "code",
   "execution_count": 21,
   "id": "6319238e",
   "metadata": {},
   "outputs": [
    {
     "name": "stdout",
     "output_type": "stream",
     "text": [
      "[100, 130, 100, 100]\n"
     ]
    }
   ],
   "source": [
    "# my_dict와 날짜 키 값을 입력받아 OHLC 리스트를 추력하는 함수 정의\n",
    "\n",
    "def print_value_by_key(my_dict,key):\n",
    "    print(my_dict[key])\n",
    "\n",
    "my_dict={\"10/26\":[100,130,100,100], \"10/27\":[10,12,10,11]}\n",
    "print_value_by_key(my_dict,\"10/26\")"
   ]
  },
  {
   "cell_type": "code",
   "execution_count": 33,
   "id": "1d1890a0",
   "metadata": {},
   "outputs": [
    {
     "name": "stdout",
     "output_type": "stream",
     "text": [
      "아이엠어보\n",
      "이유알어걸\n"
     ]
    }
   ],
   "source": [
    "#입력 문자열을 한 줄에 다섯 글자씩 출력하는 함수 작성\n",
    "\n",
    "def print_5xn(string):\n",
    "    chunk_num=int(len(string) / 5)  #float 타입이기 때문에 int형으로 반환해줘야 함.\n",
    "    for x in range(chunk_num +1) :  #나머지가 있을때를 대비하여 +1\n",
    "        print(string[x*5 : x*5 + 5 ])  #string[0]~ string[4], string[5] ~string[9] 출력\n",
    "    \n",
    "print_5xn(\"아이엠어보이유알어걸\")    "
   ]
  },
  {
   "cell_type": "code",
   "execution_count": 48,
   "id": "b5619747",
   "metadata": {
    "scrolled": true
   },
   "outputs": [
    {
     "name": "stdout",
     "output_type": "stream",
     "text": [
      "아이엠\n",
      "어보이\n",
      "유알어\n",
      "걸\n"
     ]
    }
   ],
   "source": [
    "def print_mxn(string,num):\n",
    "    string_len=int(len(string)/num)\n",
    "    for i in range(string_len+1):\n",
    "        print(string[i*num : i*num+num])\n",
    "    \n",
    "print_mxn(\"아이엠어보이유알어걸\",3)"
   ]
  },
  {
   "cell_type": "code",
   "execution_count": 41,
   "id": "762e5b47",
   "metadata": {},
   "outputs": [
    {
     "name": "stdout",
     "output_type": "stream",
     "text": [
      "1000000\n"
     ]
    }
   ],
   "source": [
    "import math\n",
    "\n",
    "def calc_monthly_salary(num):\n",
    "    salary=math.trunc(num/12)  #trunc()는 math라이브러리의 소수점 버리는 함수\n",
    "    print(salary)\n",
    "    \n",
    "calc_monthly_salary(12000000)"
   ]
  },
  {
   "cell_type": "code",
   "execution_count": 42,
   "id": "1d488467",
   "metadata": {},
   "outputs": [
    {
     "data": {
      "text/plain": [
       "1000000"
      ]
     },
     "execution_count": 42,
     "metadata": {},
     "output_type": "execute_result"
    }
   ],
   "source": [
    "# 다른 방법\n",
    "\n",
    "def calc_monthly_salary(annual_pay):\n",
    "    monthly_pay=int(annual_pay/12)\n",
    "    return monthly_pay\n",
    "\n",
    "calc_monthly_salary(12000000)"
   ]
  },
  {
   "cell_type": "code",
   "execution_count": 45,
   "id": "a844882d",
   "metadata": {},
   "outputs": [
    {
     "name": "stdout",
     "output_type": "stream",
     "text": [
      "왼쪽:  100\n",
      "오른쪽:  200\n"
     ]
    }
   ],
   "source": [
    "def my_print(a,b):\n",
    "    print(\"왼쪽: \",a)\n",
    "    print(\"오른쪽: \",b)\n",
    "    \n",
    "#입력변수 a에 100, b에 200 바인딩\n",
    "my_print(a=100,b=200)  #a가 아닌 x, b가 아닌 y를 출력 -> 오류 발생\n",
    "\n",
    "#실행결과 예측하기 \n",
    "# 왼쪽: 100\n",
    "# 오른쪽: 200"
   ]
  },
  {
   "cell_type": "code",
   "execution_count": 46,
   "id": "eccd3b55",
   "metadata": {},
   "outputs": [
    {
     "name": "stdout",
     "output_type": "stream",
     "text": [
      "왼쪽:  200\n",
      "오른쪽:  100\n"
     ]
    }
   ],
   "source": [
    "def my_print(a,b):\n",
    "    print(\"왼쪽: \", a)\n",
    "    print(\"오른쪽: \",b)\n",
    "    \n",
    "my_print(b=100, a=200)  # 입력변수가 지정되어 있으므로 순서는 무관함.\n",
    "\n",
    "#실행결과 예측하기 \n",
    "# 왼쪽: 200\n",
    "# 오른쪽: 100"
   ]
  },
  {
   "cell_type": "markdown",
   "id": "da502851",
   "metadata": {},
   "source": [
    "* 231~240"
   ]
  },
  {
   "cell_type": "code",
   "execution_count": 49,
   "id": "d34b051b",
   "metadata": {},
   "outputs": [
    {
     "ename": "NameError",
     "evalue": "name 'result' is not defined",
     "output_type": "error",
     "traceback": [
      "\u001b[1;31m---------------------------------------------------------------------------\u001b[0m",
      "\u001b[1;31mNameError\u001b[0m                                 Traceback (most recent call last)",
      "Cell \u001b[1;32mIn[49], line 5\u001b[0m\n\u001b[0;32m      2\u001b[0m     result\u001b[38;5;241m=\u001b[39mn\u001b[38;5;241m+\u001b[39m\u001b[38;5;241m1\u001b[39m\n\u001b[0;32m      4\u001b[0m n_plus_1(\u001b[38;5;241m3\u001b[39m)\n\u001b[1;32m----> 5\u001b[0m \u001b[38;5;28mprint\u001b[39m(result)\n",
      "\u001b[1;31mNameError\u001b[0m: name 'result' is not defined"
     ]
    }
   ],
   "source": [
    "def n_plus_1(n):\n",
    "    result=n+1\n",
    "    \n",
    "n_plus_1(3)\n",
    "print(result)\n",
    "\n",
    "#실행 결과 예상 : 4\n",
    "#실제 결과 예상 : 에러 발생 \n",
    "# -> result는 전역변수가 아닌 지역변수임. 따라서 함수 밖에서는 접근이 불가능함. return을 사용해야 함."
   ]
  },
  {
   "cell_type": "code",
   "execution_count": 50,
   "id": "8fdcabcb",
   "metadata": {},
   "outputs": [
    {
     "name": "stdout",
     "output_type": "stream",
     "text": [
      "www.naver.com\n"
     ]
    }
   ],
   "source": [
    "def make_url(string):\n",
    "    url='www.'+string+'.com'\n",
    "    print(url)\n",
    "\n",
    "make_url(\"naver\")"
   ]
  },
  {
   "cell_type": "code",
   "execution_count": 51,
   "id": "84cdfc3c",
   "metadata": {},
   "outputs": [
    {
     "name": "stdout",
     "output_type": "stream",
     "text": [
      "['a', 'b', 'c', 'd']\n"
     ]
    }
   ],
   "source": [
    "def make_list(string):\n",
    "    string=list(string)\n",
    "    print(string)\n",
    "    \n",
    "make_list('abcd')"
   ]
  },
  {
   "cell_type": "code",
   "execution_count": 53,
   "id": "7c02f1f9",
   "metadata": {},
   "outputs": [
    {
     "data": {
      "text/plain": [
       "['a', 'b', 'c', 'd']"
      ]
     },
     "execution_count": 53,
     "metadata": {},
     "output_type": "execute_result"
    }
   ],
   "source": [
    "#다른 방법\n",
    "\n",
    "def make_list(string):\n",
    "    return list(string)\n",
    "\n",
    "make_list('abcd')"
   ]
  },
  {
   "cell_type": "code",
   "execution_count": null,
   "id": "a4dc1d51",
   "metadata": {},
   "outputs": [],
   "source": [
    "# 또 다른 방법\n",
    "\n",
    "def make_list(string):\n",
    "    my_list=[]\n",
    "    for a in string:\n",
    "        my_list.append(a)\n",
    "    return my_list\n",
    "    \n",
    "make_list('abcd') "
   ]
  },
  {
   "cell_type": "code",
   "execution_count": 58,
   "id": "a5d3c81b",
   "metadata": {},
   "outputs": [
    {
     "data": {
      "text/plain": [
       "[4, 6, 8]"
      ]
     },
     "execution_count": 58,
     "metadata": {},
     "output_type": "execute_result"
    }
   ],
   "source": [
    "# 들여쓰기에 주의할 문제\n",
    "\n",
    "def pickup_even(items):\n",
    "    result=[]\n",
    "    for i in items:\n",
    "        if i%2==0:\n",
    "            result.append(i)\n",
    "    return result\n",
    "    \n",
    "pickup_even([3,4,5,6,7,8])"
   ]
  },
  {
   "cell_type": "code",
   "execution_count": 64,
   "id": "2cc07222",
   "metadata": {},
   "outputs": [
    {
     "data": {
      "text/plain": [
       "1234567"
      ]
     },
     "execution_count": 64,
     "metadata": {},
     "output_type": "execute_result"
    }
   ],
   "source": [
    "def convert_int(num):\n",
    "    return int(num.replace(',',''))\n",
    "    \n",
    "convert_int(\"1,234,567\")"
   ]
  },
  {
   "cell_type": "code",
   "execution_count": 65,
   "id": "6bba0941",
   "metadata": {
    "scrolled": true
   },
   "outputs": [
    {
     "name": "stdout",
     "output_type": "stream",
     "text": [
      "22\n"
     ]
    }
   ],
   "source": [
    "def 함수(num):\n",
    "    return num+4\n",
    "\n",
    "a=함수(10)   #a=14\n",
    "b=함수(a)   #b=18\n",
    "c=함수(b)   #c=22\n",
    "print(c)\n",
    "\n",
    "#실행결과 예측 : 22"
   ]
  },
  {
   "cell_type": "code",
   "execution_count": 66,
   "id": "29910a32",
   "metadata": {},
   "outputs": [
    {
     "name": "stdout",
     "output_type": "stream",
     "text": [
      "22\n"
     ]
    }
   ],
   "source": [
    "def 함수(num):\n",
    "    return num+4\n",
    "\n",
    "c=함수(함수(함수(10)))\n",
    "print(c)\n",
    "\n",
    "#실행결과 예측 : 22"
   ]
  },
  {
   "cell_type": "code",
   "execution_count": 67,
   "id": "1d954054",
   "metadata": {},
   "outputs": [
    {
     "name": "stdout",
     "output_type": "stream",
     "text": [
      "140\n"
     ]
    }
   ],
   "source": [
    "def 함수1(num):\n",
    "    return num+4\n",
    "\n",
    "def 함수2(num):\n",
    "    return num*10\n",
    "\n",
    "a=함수1(10)  #a=14\n",
    "c=함수2(a)  #c=140\n",
    "print(c)\n",
    "\n",
    "#실행 결과 예측 : 140"
   ]
  },
  {
   "cell_type": "code",
   "execution_count": 68,
   "id": "fdd8e007",
   "metadata": {},
   "outputs": [
    {
     "name": "stdout",
     "output_type": "stream",
     "text": [
      "16\n"
     ]
    }
   ],
   "source": [
    "def 함수1(num):   #num=12\n",
    "    return num+4   #16 리턴\n",
    "\n",
    "def 함수2(num):  #num=10\n",
    "    num=num+2    #num=12\n",
    "    return 함수1(num)  #함수1(12) 호출\n",
    "\n",
    "c=함수2(10)  #함수2호출 -> c=16\n",
    "print(c)\n",
    "\n",
    "#실행결과 예측 : 16\n"
   ]
  },
  {
   "cell_type": "code",
   "execution_count": 72,
   "id": "b0345c9e",
   "metadata": {},
   "outputs": [
    {
     "name": "stdout",
     "output_type": "stream",
     "text": [
      "28\n"
     ]
    }
   ],
   "source": [
    "def 함수0(num):   #num=14\n",
    "    return num*2   #28 리턴\n",
    "\n",
    "def 함수1(num):   #num=12\n",
    "    return 함수0(num+2)   #함수0(14) 호출\n",
    "\n",
    "def 함수2(num):  #num=2\n",
    "    num+=10   #num=12\n",
    "    return 함수1(num)   #함수1 호출\n",
    "\n",
    "c=함수2(2)  #함수2 호출 -> c=28\n",
    "print(c)\n",
    "\n",
    "#실행 결과 예측 : 28"
   ]
  },
  {
   "cell_type": "code",
   "execution_count": null,
   "id": "77deb49f",
   "metadata": {},
   "outputs": [],
   "source": []
  }
 ],
 "metadata": {
  "kernelspec": {
   "display_name": "Python 3 (ipykernel)",
   "language": "python",
   "name": "python3"
  },
  "language_info": {
   "codemirror_mode": {
    "name": "ipython",
    "version": 3
   },
   "file_extension": ".py",
   "mimetype": "text/x-python",
   "name": "python",
   "nbconvert_exporter": "python",
   "pygments_lexer": "ipython3",
   "version": "3.11.5"
  },
  "toc": {
   "base_numbering": 1,
   "nav_menu": {},
   "number_sections": true,
   "sideBar": true,
   "skip_h1_title": false,
   "title_cell": "Table of Contents",
   "title_sidebar": "Contents",
   "toc_cell": false,
   "toc_position": {},
   "toc_section_display": true,
   "toc_window_display": false
  }
 },
 "nbformat": 4,
 "nbformat_minor": 5
}
