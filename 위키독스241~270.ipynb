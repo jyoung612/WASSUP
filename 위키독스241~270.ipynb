{
 "cells": [
  {
   "cell_type": "markdown",
   "id": "f2376ab7",
   "metadata": {},
   "source": [
    "# 파이썬 모듈"
   ]
  },
  {
   "cell_type": "markdown",
   "id": "fcec093d",
   "metadata": {},
   "source": [
    "* 241~250"
   ]
  },
  {
   "cell_type": "code",
   "execution_count": 3,
   "id": "b308bab0",
   "metadata": {},
   "outputs": [
    {
     "name": "stdout",
     "output_type": "stream",
     "text": [
      "2023-12-04 17:09:58.224390\n"
     ]
    }
   ],
   "source": [
    "import datetime\n",
    "\n",
    "now= datetime.datetime.now()\n",
    "print(now)"
   ]
  },
  {
   "cell_type": "code",
   "execution_count": 4,
   "id": "7f13f181",
   "metadata": {},
   "outputs": [
    {
     "name": "stdout",
     "output_type": "stream",
     "text": [
      "2023-12-04 17:13:17.789622 <class 'datetime.datetime'>\n"
     ]
    }
   ],
   "source": [
    "import datetime\n",
    "\n",
    "now=datetime.datetime.now()\n",
    "print(now,type(now))"
   ]
  },
  {
   "cell_type": "code",
   "execution_count": 6,
   "id": "358bb905",
   "metadata": {},
   "outputs": [
    {
     "name": "stdout",
     "output_type": "stream",
     "text": [
      "2023-11-29 17:19:36.049454\n",
      "2023-11-30 17:19:36.049454\n",
      "2023-12-01 17:19:36.049454\n",
      "2023-12-02 17:19:36.049454\n",
      "2023-12-03 17:19:36.049454\n"
     ]
    }
   ],
   "source": [
    "import datetime\n",
    "\n",
    "now=datetime.datetime.now()   \n",
    "\n",
    "for day in range(5,0,-1):\n",
    "    #datetime.timedelta() : 두 날짜의 차이를 계산할 때 사용하는 함수\n",
    "    delta=datetime.timedelta(days=day)   #datetime.timedelta(days=day) : 오늘로부터 day일 후의 날짜 얻기\n",
    "    date=now - delta\n",
    "\n",
    "    print(date)"
   ]
  },
  {
   "cell_type": "code",
   "execution_count": 7,
   "id": "d4cabf8a",
   "metadata": {},
   "outputs": [
    {
     "name": "stdout",
     "output_type": "stream",
     "text": [
      "00:01:02\n"
     ]
    }
   ],
   "source": [
    "import datetime\n",
    "\n",
    "now=datetime.datetime.now()  \n",
    "\n",
    "#strftime() : 날짜/시간을 스트링으로 변환\n",
    "print(now.strftime(\"%H:%M:%S\"))"
   ]
  },
  {
   "cell_type": "code",
   "execution_count": 8,
   "id": "0155e11d",
   "metadata": {},
   "outputs": [
    {
     "name": "stdout",
     "output_type": "stream",
     "text": [
      "2020-05-04 00:00:00 <class 'datetime.datetime'>\n"
     ]
    }
   ],
   "source": [
    "import datetime\n",
    "\n",
    "day=\"2020-05-04\"\n",
    "\n",
    "#문자열형식의 시간을 datetime.datetime 타입의 시간 값으로\n",
    "now=datetime.datetime.strptime(day,\"%Y-%m-%d\") \n",
    "\n",
    "print(now,type(now))"
   ]
  },
  {
   "cell_type": "code",
   "execution_count": 10,
   "id": "93d2c421",
   "metadata": {},
   "outputs": [
    {
     "name": "stdout",
     "output_type": "stream",
     "text": [
      "2023-12-05 00:06:29.339513\n",
      "2023-12-05 00:06:30.340049\n",
      "2023-12-05 00:06:31.340662\n",
      "2023-12-05 00:06:32.341141\n",
      "2023-12-05 00:06:33.341555\n"
     ]
    },
    {
     "ename": "KeyboardInterrupt",
     "evalue": "",
     "output_type": "error",
     "traceback": [
      "\u001b[1;31m---------------------------------------------------------------------------\u001b[0m",
      "\u001b[1;31mKeyboardInterrupt\u001b[0m                         Traceback (most recent call last)",
      "Cell \u001b[1;32mIn[10], line 8\u001b[0m\n\u001b[0;32m      6\u001b[0m now\u001b[38;5;241m=\u001b[39mdatetime\u001b[38;5;241m.\u001b[39mdatetime\u001b[38;5;241m.\u001b[39mnow()\n\u001b[0;32m      7\u001b[0m \u001b[38;5;28mprint\u001b[39m(now)\n\u001b[1;32m----> 8\u001b[0m time\u001b[38;5;241m.\u001b[39msleep(\u001b[38;5;241m1\u001b[39m)\n",
      "\u001b[1;31mKeyboardInterrupt\u001b[0m: "
     ]
    }
   ],
   "source": [
    "import datetime\n",
    "import time\n",
    "\n",
    "while True:\n",
    "    now=datetime.datetime.now()\n",
    "    print(now)\n",
    "    time.sleep(1)  #1초에 한 번 현재 시간을 출력\n"
   ]
  },
  {
   "cell_type": "code",
   "execution_count": 11,
   "id": "73549e2d",
   "metadata": {},
   "outputs": [
    {
     "name": "stdout",
     "output_type": "stream",
     "text": [
      "C:\\workspace\\python\\WASSUP <class 'str'>\n"
     ]
    }
   ],
   "source": [
    "#현재 디렉터리의 경로 출력\n",
    "\n",
    "import os\n",
    "ret=os.getcwd()\n",
    "print(ret,type(ret))"
   ]
  },
  {
   "cell_type": "code",
   "execution_count": 12,
   "id": "017d1b24",
   "metadata": {},
   "outputs": [
    {
     "ename": "TypeError",
     "evalue": "rename() missing required argument 'src' (pos 1)",
     "output_type": "error",
     "traceback": [
      "\u001b[1;31m---------------------------------------------------------------------------\u001b[0m",
      "\u001b[1;31mTypeError\u001b[0m                                 Traceback (most recent call last)",
      "Cell \u001b[1;32mIn[12], line 2\u001b[0m\n\u001b[0;32m      1\u001b[0m \u001b[38;5;28;01mimport\u001b[39;00m \u001b[38;5;21;01mos\u001b[39;00m\n\u001b[1;32m----> 2\u001b[0m ret\u001b[38;5;241m=\u001b[39mos\u001b[38;5;241m.\u001b[39mrename()\n",
      "\u001b[1;31mTypeError\u001b[0m: rename() missing required argument 'src' (pos 1)"
     ]
    }
   ],
   "source": [
    "# 해당 파일의 이름을 변경해보기\n",
    "\n",
    "import os\n",
    "os.rename(\"C:/A~~~\",\"C:/B~~~~\")   #A의 이름에서 B로 이름을 변경함."
   ]
  },
  {
   "cell_type": "code",
   "execution_count": 13,
   "id": "be21c7c0",
   "metadata": {},
   "outputs": [
    {
     "name": "stdout",
     "output_type": "stream",
     "text": [
      "0.0\n",
      "0.1\n",
      "0.2\n",
      "0.30000000000000004\n",
      "0.4\n",
      "0.5\n",
      "0.6000000000000001\n",
      "0.7000000000000001\n",
      "0.8\n",
      "0.9\n",
      "1.0\n",
      "1.1\n",
      "1.2000000000000002\n",
      "1.3\n",
      "1.4000000000000001\n",
      "1.5\n",
      "1.6\n",
      "1.7000000000000002\n",
      "1.8\n",
      "1.9000000000000001\n",
      "2.0\n",
      "2.1\n",
      "2.2\n",
      "2.3000000000000003\n",
      "2.4000000000000004\n",
      "2.5\n",
      "2.6\n",
      "2.7\n",
      "2.8000000000000003\n",
      "2.9000000000000004\n",
      "3.0\n",
      "3.1\n",
      "3.2\n",
      "3.3000000000000003\n",
      "3.4000000000000004\n",
      "3.5\n",
      "3.6\n",
      "3.7\n",
      "3.8000000000000003\n",
      "3.9000000000000004\n",
      "4.0\n",
      "4.1000000000000005\n",
      "4.2\n",
      "4.3\n",
      "4.4\n",
      "4.5\n",
      "4.6000000000000005\n",
      "4.7\n",
      "4.800000000000001\n",
      "4.9\n"
     ]
    }
   ],
   "source": [
    "import numpy\n",
    "\n",
    "for i in numpy.arange(0,5,0.1):\n",
    "    print(i)"
   ]
  },
  {
   "cell_type": "code",
   "execution_count": null,
   "id": "bf9e85c1",
   "metadata": {},
   "outputs": [],
   "source": []
  }
 ],
 "metadata": {
  "kernelspec": {
   "display_name": "Python 3 (ipykernel)",
   "language": "python",
   "name": "python3"
  },
  "language_info": {
   "codemirror_mode": {
    "name": "ipython",
    "version": 3
   },
   "file_extension": ".py",
   "mimetype": "text/x-python",
   "name": "python",
   "nbconvert_exporter": "python",
   "pygments_lexer": "ipython3",
   "version": "3.11.5"
  },
  "toc": {
   "base_numbering": 1,
   "nav_menu": {},
   "number_sections": true,
   "sideBar": true,
   "skip_h1_title": false,
   "title_cell": "Table of Contents",
   "title_sidebar": "Contents",
   "toc_cell": false,
   "toc_position": {},
   "toc_section_display": true,
   "toc_window_display": false
  }
 },
 "nbformat": 4,
 "nbformat_minor": 5
}
