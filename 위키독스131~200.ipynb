{
 "cells": [
  {
   "cell_type": "markdown",
   "id": "3f461162",
   "metadata": {},
   "source": [
    "# 반복문"
   ]
  },
  {
   "cell_type": "markdown",
   "id": "961cce84",
   "metadata": {},
   "source": [
    "* 131~140"
   ]
  },
  {
   "cell_type": "code",
   "execution_count": 1,
   "id": "e07fc513",
   "metadata": {},
   "outputs": [
    {
     "name": "stdout",
     "output_type": "stream",
     "text": [
      "사과\n",
      "귤\n",
      "수박\n"
     ]
    }
   ],
   "source": [
    "과일=[\"사과\",\"귤\",\"수박\"]\n",
    "for 변수 in 과일:\n",
    "    print(변수)\n",
    "    \n",
    "#실행결과 예측 :\n",
    "#사과\n",
    "#귤\n",
    "#수박"
   ]
  },
  {
   "cell_type": "code",
   "execution_count": 21,
   "id": "77865c85",
   "metadata": {},
   "outputs": [
    {
     "name": "stdout",
     "output_type": "stream",
     "text": [
      "#####\n",
      "#####\n",
      "#####\n"
     ]
    },
    {
     "data": {
      "text/plain": [
       "'\\n#####\\n#####\\n#####\\n'"
      ]
     },
     "execution_count": 21,
     "metadata": {},
     "output_type": "execute_result"
    }
   ],
   "source": [
    "과일 = [\"사과\", \"귤\",\"수박\"]\n",
    "for 변수 in 과일:\n",
    "    print(\"#####\")\n",
    "\n",
    "#실행결과 예측 : \n",
    "'''\n",
    "#####\n",
    "#####\n",
    "#####\n",
    "'''"
   ]
  },
  {
   "cell_type": "code",
   "execution_count": 4,
   "id": "64d4d75f",
   "metadata": {},
   "outputs": [
    {
     "name": "stdout",
     "output_type": "stream",
     "text": [
      "A\n",
      "B\n",
      "C\n"
     ]
    }
   ],
   "source": [
    "#for문과 동일 기능 수행하는 코드\n",
    "# 1번째\n",
    "\n",
    "for 변수 in [\"A\",\"B\",\"C\"]:\n",
    "    print(변수) "
   ]
  },
  {
   "cell_type": "code",
   "execution_count": 5,
   "id": "3b0cfaff",
   "metadata": {},
   "outputs": [
    {
     "name": "stdout",
     "output_type": "stream",
     "text": [
      "A\n",
      "B\n",
      "C\n"
     ]
    }
   ],
   "source": [
    "#2번째\n",
    "\n",
    "print(\"A\")\n",
    "print(\"B\")\n",
    "print(\"C\")"
   ]
  },
  {
   "cell_type": "code",
   "execution_count": 8,
   "id": "8db8328d",
   "metadata": {},
   "outputs": [
    {
     "name": "stdout",
     "output_type": "stream",
     "text": [
      "A\n",
      "B\n",
      "C\n"
     ]
    }
   ],
   "source": [
    "#3번째\n",
    "\n",
    "a=['A','B','C']\n",
    "\n",
    "for 변수 in range(0,3):\n",
    "    print(a[변수])"
   ]
  },
  {
   "cell_type": "code",
   "execution_count": 9,
   "id": "48d1c0bb",
   "metadata": {},
   "outputs": [
    {
     "name": "stdout",
     "output_type": "stream",
     "text": [
      "출력 : A\n",
      "출력 : B\n",
      "출력 : C\n"
     ]
    }
   ],
   "source": [
    "#for문과 동일 기능 수행하는 코드\n",
    "#1번째\n",
    "\n",
    "for 변수 in [\"A\",\"B\",\"C\"]:\n",
    "    print(\"출력 :\", 변수)"
   ]
  },
  {
   "cell_type": "code",
   "execution_count": 10,
   "id": "92dfd480",
   "metadata": {},
   "outputs": [
    {
     "name": "stdout",
     "output_type": "stream",
     "text": [
      "출력 : A\n",
      "출력 : B\n",
      "출력 : C\n"
     ]
    }
   ],
   "source": [
    "#2번째\n",
    "\n",
    "print(\"출력 : A\")\n",
    "print(\"출력 : B\")\n",
    "print(\"출력 : C\")"
   ]
  },
  {
   "cell_type": "code",
   "execution_count": 11,
   "id": "16792550",
   "metadata": {},
   "outputs": [
    {
     "name": "stdout",
     "output_type": "stream",
     "text": [
      "출력 : A\n",
      "출력 : B\n",
      "출력 : C\n"
     ]
    }
   ],
   "source": [
    "#3번째\n",
    "\n",
    "변수 = \"A\"\n",
    "print(\"출력 :\", 변수)\n",
    "변수 = \"B\"\n",
    "print(\"출력 :\", 변수)\n",
    "변수 = \"C\"\n",
    "print(\"출력 :\", 변수)"
   ]
  },
  {
   "cell_type": "code",
   "execution_count": 13,
   "id": "618be86e",
   "metadata": {
    "scrolled": true
   },
   "outputs": [
    {
     "name": "stdout",
     "output_type": "stream",
     "text": [
      "변환: a\n",
      "변환: b\n",
      "변환: c\n"
     ]
    }
   ],
   "source": [
    "#for문과 동일 기능 수행하는 코드\n",
    "#1번째\n",
    "\n",
    "for 변수 in [\"A\",\"B\",\"C\"]:\n",
    "    b=변수.lower()\n",
    "    print(\"변환:\",b)"
   ]
  },
  {
   "cell_type": "code",
   "execution_count": 16,
   "id": "0558efff",
   "metadata": {},
   "outputs": [
    {
     "name": "stdout",
     "output_type": "stream",
     "text": [
      "변환:  a\n",
      "변환:  b\n",
      "변환:  c\n"
     ]
    }
   ],
   "source": [
    "#2번째\n",
    "\n",
    "a=['A',\"B\",\"C\"]\n",
    "\n",
    "for i in range(0,3):\n",
    "    print(\"변환: \",a[i].lower())"
   ]
  },
  {
   "cell_type": "code",
   "execution_count": 18,
   "id": "41e275c6",
   "metadata": {},
   "outputs": [
    {
     "name": "stdout",
     "output_type": "stream",
     "text": [
      "변환: a\n",
      "변환: b\n",
      "변환: c\n"
     ]
    }
   ],
   "source": [
    "변수=\"A\"\n",
    "a=변수.lower()\n",
    "print(\"변환:\",a)\n",
    "변수=\"B\"\n",
    "a=변수.lower()\n",
    "print(\"변환:\",a)\n",
    "변수=\"C\"\n",
    "a=변수.lower()\n",
    "print(\"변환:\",a)"
   ]
  },
  {
   "cell_type": "code",
   "execution_count": 22,
   "id": "119256ba",
   "metadata": {},
   "outputs": [
    {
     "data": {
      "text/plain": [
       "'\\n변수=10\\nprint(변수)\\n변수=20\\nprint(변수)\\n변수=30\\nprint(변수)\\n'"
      ]
     },
     "execution_count": 22,
     "metadata": {},
     "output_type": "execute_result"
    }
   ],
   "source": [
    "#for문으로 작성하기\n",
    "'''\n",
    "변수=10\n",
    "print(변수)\n",
    "변수=20\n",
    "print(변수)\n",
    "변수=30\n",
    "print(변수)\n",
    "'''"
   ]
  },
  {
   "cell_type": "code",
   "execution_count": 25,
   "id": "d3359e22",
   "metadata": {},
   "outputs": [
    {
     "name": "stdout",
     "output_type": "stream",
     "text": [
      "변수= 10\n",
      "변수= 20\n",
      "변수= 30\n"
     ]
    }
   ],
   "source": [
    "for i in [10,20,30]:\n",
    "    print(\"변수=\",i)"
   ]
  },
  {
   "cell_type": "code",
   "execution_count": 28,
   "id": "1897b9ac",
   "metadata": {},
   "outputs": [
    {
     "name": "stdout",
     "output_type": "stream",
     "text": [
      "10\n",
      "20\n",
      "30\n"
     ]
    }
   ],
   "source": [
    "#for문으로 작성\n",
    "'''\n",
    "print(10)\n",
    "print(20)\n",
    "print(30)\n",
    "'''\n",
    "\n",
    "for i in [10,20,30]:\n",
    "    print(i)"
   ]
  },
  {
   "cell_type": "code",
   "execution_count": 29,
   "id": "742b63cf",
   "metadata": {
    "scrolled": true
   },
   "outputs": [
    {
     "name": "stdout",
     "output_type": "stream",
     "text": [
      "10\n",
      "------\n",
      "20\n",
      "------\n",
      "30\n",
      "------\n"
     ]
    }
   ],
   "source": [
    "#for문으로 작성\n",
    "'''\n",
    "print(10)\n",
    "print(\"------\")\n",
    "print(20)\n",
    "print(\"------\")\n",
    "print(30)\n",
    "print(\"------\")\n",
    "'''\n",
    "\n",
    "for i in [10,20,30]:\n",
    "    print(i)\n",
    "    print('------')"
   ]
  },
  {
   "cell_type": "code",
   "execution_count": 30,
   "id": "c60a98b1",
   "metadata": {},
   "outputs": [
    {
     "name": "stdout",
     "output_type": "stream",
     "text": [
      "++++\n",
      "10\n",
      "20\n",
      "30\n"
     ]
    }
   ],
   "source": [
    "#for문으로 작성\n",
    "'''\n",
    "print('++++')\n",
    "print(10)\n",
    "print(20)\n",
    "print(30)\n",
    "'''\n",
    "\n",
    "print('++++')\n",
    "for i in [10,20,30]:\n",
    "    print(i)"
   ]
  },
  {
   "cell_type": "code",
   "execution_count": 31,
   "id": "ab2b86f9",
   "metadata": {},
   "outputs": [
    {
     "name": "stdout",
     "output_type": "stream",
     "text": [
      "-------\n",
      "-------\n",
      "-------\n",
      "-------\n"
     ]
    }
   ],
   "source": [
    "#for문으로 작성\n",
    "'''\n",
    "print('-------')\n",
    "'''\n",
    "\n",
    "for i in range(4):\n",
    "    print('-------')"
   ]
  },
  {
   "cell_type": "markdown",
   "id": "99340546",
   "metadata": {},
   "source": [
    "* 141~150"
   ]
  },
  {
   "cell_type": "code",
   "execution_count": 34,
   "id": "2d7e3176",
   "metadata": {},
   "outputs": [
    {
     "name": "stdout",
     "output_type": "stream",
     "text": [
      "110\n",
      "210\n",
      "310\n"
     ]
    }
   ],
   "source": [
    "리스트=[100,200,300]\n",
    "\n",
    "for i in 리스트:\n",
    "    print(i+10)"
   ]
  },
  {
   "cell_type": "code",
   "execution_count": 35,
   "id": "a6727db8",
   "metadata": {},
   "outputs": [
    {
     "name": "stdout",
     "output_type": "stream",
     "text": [
      "오늘의 메뉴:  김밥\n",
      "오늘의 메뉴:  라면\n",
      "오늘의 메뉴:  튀김\n"
     ]
    }
   ],
   "source": [
    "리스트=[\"김밥\",\"라면\",\"튀김\"]\n",
    "\n",
    "for i in 리스트:\n",
    "    print(\"오늘의 메뉴: \", i)"
   ]
  },
  {
   "cell_type": "code",
   "execution_count": 36,
   "id": "e955a559",
   "metadata": {},
   "outputs": [
    {
     "name": "stdout",
     "output_type": "stream",
     "text": [
      "6\n",
      "4\n",
      "4\n"
     ]
    }
   ],
   "source": [
    "리스트=['SK하이닉스','삼성전자','LG전자']\n",
    "\n",
    "for i in 리스트:\n",
    "    print(len(i))"
   ]
  },
  {
   "cell_type": "code",
   "execution_count": 37,
   "id": "1635c848",
   "metadata": {},
   "outputs": [
    {
     "name": "stdout",
     "output_type": "stream",
     "text": [
      "dog 3\n",
      "cat 3\n",
      "parrot 6\n"
     ]
    }
   ],
   "source": [
    "리스트=['dog','cat','parrot']\n",
    "\n",
    "for i in 리스트:\n",
    "    print(i,len(i))"
   ]
  },
  {
   "cell_type": "code",
   "execution_count": 38,
   "id": "54418f5f",
   "metadata": {},
   "outputs": [
    {
     "name": "stdout",
     "output_type": "stream",
     "text": [
      "d\n",
      "c\n",
      "p\n"
     ]
    }
   ],
   "source": [
    "리스트=['dog','cat','parrot']\n",
    "\n",
    "for i in 리스트:\n",
    "    print(i[0])"
   ]
  },
  {
   "cell_type": "code",
   "execution_count": 39,
   "id": "0cb26572",
   "metadata": {},
   "outputs": [
    {
     "name": "stdout",
     "output_type": "stream",
     "text": [
      "3 x 1\n",
      "3 x 2\n",
      "3 x 3\n"
     ]
    }
   ],
   "source": [
    "리스트=[1,2,3]\n",
    "\n",
    "for i in 리스트:\n",
    "    print('3 x',i)"
   ]
  },
  {
   "cell_type": "code",
   "execution_count": 40,
   "id": "ff943abf",
   "metadata": {},
   "outputs": [
    {
     "name": "stdout",
     "output_type": "stream",
     "text": [
      "3 x 1 = 3\n",
      "3 x 2 = 6\n",
      "3 x 3 = 9\n"
     ]
    }
   ],
   "source": [
    "리스트=[1,2,3]\n",
    "\n",
    "for i in 리스트:\n",
    "    print('3 x',i,'=',3*i)"
   ]
  },
  {
   "cell_type": "code",
   "execution_count": 45,
   "id": "38d31e0e",
   "metadata": {},
   "outputs": [
    {
     "name": "stdout",
     "output_type": "stream",
     "text": [
      "나\n",
      "다\n",
      "라\n"
     ]
    }
   ],
   "source": [
    "리스트=['가','나','다','라']\n",
    "리스트=리스트[1:]\n",
    "\n",
    "for i in 리스트:\n",
    "    print(i)"
   ]
  },
  {
   "cell_type": "code",
   "execution_count": 46,
   "id": "cf085781",
   "metadata": {},
   "outputs": [
    {
     "name": "stdout",
     "output_type": "stream",
     "text": [
      "가\n",
      "다\n"
     ]
    }
   ],
   "source": [
    "리스트=['가','나','다','라']\n",
    "\n",
    "for i in 리스트[::2]:\n",
    "    print(i)"
   ]
  },
  {
   "cell_type": "code",
   "execution_count": 47,
   "id": "4b53fa30",
   "metadata": {},
   "outputs": [
    {
     "name": "stdout",
     "output_type": "stream",
     "text": [
      "라\n",
      "다\n",
      "나\n",
      "가\n"
     ]
    }
   ],
   "source": [
    "리스트=['가','나','다','라']\n",
    "\n",
    "for i in 리스트[::-1]:\n",
    "    print(i)"
   ]
  },
  {
   "cell_type": "markdown",
   "id": "bfa572e6",
   "metadata": {},
   "source": [
    "* 151 ~ 160"
   ]
  },
  {
   "cell_type": "code",
   "execution_count": 48,
   "id": "69cec4d9",
   "metadata": {},
   "outputs": [
    {
     "name": "stdout",
     "output_type": "stream",
     "text": [
      "-20\n",
      "-3\n"
     ]
    }
   ],
   "source": [
    "리스트=[3,-20,-3,44]\n",
    "\n",
    "for i in 리스트:\n",
    "    if i<0:\n",
    "        print(i)"
   ]
  },
  {
   "cell_type": "code",
   "execution_count": 49,
   "id": "a8e24f72",
   "metadata": {},
   "outputs": [
    {
     "name": "stdout",
     "output_type": "stream",
     "text": [
      "3\n"
     ]
    }
   ],
   "source": [
    "리스트=[3,100,23,44]\n",
    "\n",
    "for i in 리스트:\n",
    "    if i%3==0:\n",
    "        print(i)"
   ]
  },
  {
   "cell_type": "code",
   "execution_count": 50,
   "id": "04afcb91",
   "metadata": {},
   "outputs": [
    {
     "name": "stdout",
     "output_type": "stream",
     "text": [
      "12\n",
      "18\n"
     ]
    }
   ],
   "source": [
    "리스트=[13,21,12,14,30,18]\n",
    "\n",
    "for i in 리스트:\n",
    "    if i%3==0 and i<20:\n",
    "        print(i)"
   ]
  },
  {
   "cell_type": "code",
   "execution_count": 51,
   "id": "0fc3dc85",
   "metadata": {},
   "outputs": [
    {
     "name": "stdout",
     "output_type": "stream",
     "text": [
      "study\n",
      "python\n",
      "language\n"
     ]
    }
   ],
   "source": [
    "리스트=[\"I\",\"study\",\"python\",\"language\",\"!\"]\n",
    "\n",
    "for i in 리스트:\n",
    "    if len(i)>=3:\n",
    "        print(i)"
   ]
  },
  {
   "cell_type": "code",
   "execution_count": 52,
   "id": "778d3327",
   "metadata": {},
   "outputs": [
    {
     "name": "stdout",
     "output_type": "stream",
     "text": [
      "A\n",
      "D\n"
     ]
    }
   ],
   "source": [
    "리스트=['A','b','c','D']\n",
    "\n",
    "for i in 리스트:\n",
    "    #isupper() 메서드는 대문자 여부 판별\n",
    "    if i.isupper()==True:\n",
    "        print(i)"
   ]
  },
  {
   "cell_type": "code",
   "execution_count": 53,
   "id": "45ce65ae",
   "metadata": {},
   "outputs": [
    {
     "name": "stdout",
     "output_type": "stream",
     "text": [
      "b\n",
      "c\n"
     ]
    }
   ],
   "source": [
    "리스트=['A','b','c','D']\n",
    "\n",
    "for i in 리스트:\n",
    "    if i.islower()==True:\n",
    "        print(i)"
   ]
  },
  {
   "cell_type": "code",
   "execution_count": 56,
   "id": "553e647f",
   "metadata": {},
   "outputs": [
    {
     "name": "stdout",
     "output_type": "stream",
     "text": [
      "Dog\n",
      "Cat\n",
      "Parrot\n"
     ]
    }
   ],
   "source": [
    "리스트=['dog','cat','parrot']\n",
    "\n",
    "for i in 리스트:\n",
    "    i_upper=i[0].upper()\n",
    "    print(i_upper+i[1:])"
   ]
  },
  {
   "cell_type": "code",
   "execution_count": 58,
   "id": "44930894",
   "metadata": {},
   "outputs": [
    {
     "name": "stdout",
     "output_type": "stream",
     "text": [
      "hello\n",
      "ex01\n",
      "intro\n"
     ]
    }
   ],
   "source": [
    "리스트=['hello.py','ex01.py','intro.hwp']\n",
    "\n",
    "for i in 리스트:\n",
    "    i=i.split('.')\n",
    "    print(i[0])"
   ]
  },
  {
   "cell_type": "code",
   "execution_count": 62,
   "id": "6248c9cb",
   "metadata": {},
   "outputs": [
    {
     "name": "stdout",
     "output_type": "stream",
     "text": [
      "intra.h\n",
      "define.h\n"
     ]
    }
   ],
   "source": [
    "리스트=['intra.h','intra.c','define.h','run.py']\n",
    "\n",
    "for i in 리스트:\n",
    "    split=i.split('.')\n",
    "    if split[1]=='h':\n",
    "        print(i)\n",
    "  "
   ]
  },
  {
   "cell_type": "code",
   "execution_count": 70,
   "id": "9ecfa46b",
   "metadata": {},
   "outputs": [
    {
     "name": "stdout",
     "output_type": "stream",
     "text": [
      "intra.h\n",
      "intra.c\n",
      "define.h\n"
     ]
    }
   ],
   "source": [
    "리스트=['intra.h','intra.c','define.h','run.py']\n",
    "\n",
    "for i in 리스트:\n",
    "    split=i.split('.')\n",
    "    if split[1]=='c' or split[1]=='h':\n",
    "        print(i)"
   ]
  },
  {
   "cell_type": "markdown",
   "id": "34d9e924",
   "metadata": {},
   "source": [
    "* 161~170"
   ]
  },
  {
   "cell_type": "code",
   "execution_count": 72,
   "id": "945a14ca",
   "metadata": {},
   "outputs": [
    {
     "name": "stdout",
     "output_type": "stream",
     "text": [
      "0 1 2 3 4 5 6 7 8 9 10 11 12 13 14 15 16 17 18 19 20 21 22 23 24 25 26 27 28 29 30 31 32 33 34 35 36 37 38 39 40 41 42 43 44 45 46 47 48 49 50 51 52 53 54 55 56 57 58 59 60 61 62 63 64 65 66 67 68 69 70 71 72 73 74 75 76 77 78 79 80 81 82 83 84 85 86 87 88 89 90 91 92 93 94 95 96 97 98 99 "
     ]
    }
   ],
   "source": [
    "for i in range(0,100):\n",
    "    print(i, end=' ')"
   ]
  },
  {
   "cell_type": "code",
   "execution_count": 75,
   "id": "24f2a324",
   "metadata": {},
   "outputs": [
    {
     "name": "stdout",
     "output_type": "stream",
     "text": [
      "2002\n",
      "2006\n",
      "2010\n",
      "2014\n",
      "2018\n",
      "2022\n",
      "2026\n",
      "2030\n",
      "2034\n",
      "2038\n",
      "2042\n",
      "2046\n",
      "2050\n"
     ]
    }
   ],
   "source": [
    "for i in range(2002,2051,4):\n",
    "    print(i)"
   ]
  },
  {
   "cell_type": "code",
   "execution_count": 77,
   "id": "adf846f4",
   "metadata": {},
   "outputs": [
    {
     "name": "stdout",
     "output_type": "stream",
     "text": [
      "3\n",
      "6\n",
      "9\n",
      "12\n",
      "15\n",
      "18\n",
      "21\n",
      "24\n",
      "27\n",
      "30\n"
     ]
    }
   ],
   "source": [
    "for i in range(3,31,3):\n",
    "    print(i)"
   ]
  },
  {
   "cell_type": "code",
   "execution_count": 79,
   "id": "bac82a3e",
   "metadata": {},
   "outputs": [
    {
     "name": "stdout",
     "output_type": "stream",
     "text": [
      "99\n",
      "98\n",
      "97\n",
      "96\n",
      "95\n",
      "94\n",
      "93\n",
      "92\n",
      "91\n",
      "90\n",
      "89\n",
      "88\n",
      "87\n",
      "86\n",
      "85\n",
      "84\n",
      "83\n",
      "82\n",
      "81\n",
      "80\n",
      "79\n",
      "78\n",
      "77\n",
      "76\n",
      "75\n",
      "74\n",
      "73\n",
      "72\n",
      "71\n",
      "70\n",
      "69\n",
      "68\n",
      "67\n",
      "66\n",
      "65\n",
      "64\n",
      "63\n",
      "62\n",
      "61\n",
      "60\n",
      "59\n",
      "58\n",
      "57\n",
      "56\n",
      "55\n",
      "54\n",
      "53\n",
      "52\n",
      "51\n",
      "50\n",
      "49\n",
      "48\n",
      "47\n",
      "46\n",
      "45\n",
      "44\n",
      "43\n",
      "42\n",
      "41\n",
      "40\n",
      "39\n",
      "38\n",
      "37\n",
      "36\n",
      "35\n",
      "34\n",
      "33\n",
      "32\n",
      "31\n",
      "30\n",
      "29\n",
      "28\n",
      "27\n",
      "26\n",
      "25\n",
      "24\n",
      "23\n",
      "22\n",
      "21\n",
      "20\n",
      "19\n",
      "18\n",
      "17\n",
      "16\n",
      "15\n",
      "14\n",
      "13\n",
      "12\n",
      "11\n",
      "10\n",
      "9\n",
      "8\n",
      "7\n",
      "6\n",
      "5\n",
      "4\n",
      "3\n",
      "2\n",
      "1\n",
      "0\n"
     ]
    }
   ],
   "source": [
    "for i in range(100):\n",
    "    print(99-i)"
   ]
  },
  {
   "cell_type": "code",
   "execution_count": 82,
   "id": "4ad3a822",
   "metadata": {},
   "outputs": [
    {
     "name": "stdout",
     "output_type": "stream",
     "text": [
      "0.0\n",
      "0.1\n",
      "0.2\n",
      "0.3\n",
      "0.4\n",
      "0.5\n",
      "0.6\n",
      "0.7\n",
      "0.8\n",
      "0.9\n"
     ]
    }
   ],
   "source": [
    "for i in range(10):\n",
    "    print(float(i/10))"
   ]
  },
  {
   "cell_type": "code",
   "execution_count": 87,
   "id": "9cbb2edc",
   "metadata": {},
   "outputs": [
    {
     "name": "stdout",
     "output_type": "stream",
     "text": [
      "3 x 1 = 3\n",
      "3 x 2 = 6\n",
      "3 x 3 = 9\n",
      "3 x 4 = 12\n",
      "3 x 5 = 15\n",
      "3 x 6 = 18\n",
      "3 x 7 = 21\n",
      "3 x 8 = 24\n",
      "3 x 9 = 27\n"
     ]
    }
   ],
   "source": [
    "for i in range(1,10):\n",
    "    print(\"3 x\",i,'=',(i*3))"
   ]
  },
  {
   "cell_type": "code",
   "execution_count": 88,
   "id": "4a63e20f",
   "metadata": {},
   "outputs": [
    {
     "name": "stdout",
     "output_type": "stream",
     "text": [
      "3 x 1 = 3\n",
      "3 x 3 = 9\n",
      "3 x 5 = 15\n",
      "3 x 7 = 21\n",
      "3 x 9 = 27\n"
     ]
    }
   ],
   "source": [
    "for i in range(1,10,2):\n",
    "    print(\"3 x\",i,'=',3*i)"
   ]
  },
  {
   "cell_type": "code",
   "execution_count": 96,
   "id": "4d081b45",
   "metadata": {},
   "outputs": [
    {
     "name": "stdout",
     "output_type": "stream",
     "text": [
      "합: 55\n"
     ]
    }
   ],
   "source": [
    "sum=0\n",
    "for i in range(1,11):\n",
    "    sum+=i\n",
    "print(\"합:\", sum)"
   ]
  },
  {
   "cell_type": "code",
   "execution_count": 97,
   "id": "94eb9d4e",
   "metadata": {},
   "outputs": [
    {
     "name": "stdout",
     "output_type": "stream",
     "text": [
      "합: 25\n"
     ]
    }
   ],
   "source": [
    "sum=0\n",
    "for i in range(1,11):\n",
    "    if i%2==1:\n",
    "        sum+=i\n",
    "print(\"합:\",sum)"
   ]
  },
  {
   "cell_type": "code",
   "execution_count": 100,
   "id": "4d6f75f3",
   "metadata": {},
   "outputs": [
    {
     "name": "stdout",
     "output_type": "stream",
     "text": [
      "3628800\n"
     ]
    }
   ],
   "source": [
    "result=1\n",
    "for i in range(1,11):\n",
    "    result*=i\n",
    "print(result)"
   ]
  },
  {
   "cell_type": "markdown",
   "id": "7d9cda6d",
   "metadata": {},
   "source": [
    "* 171~180"
   ]
  },
  {
   "cell_type": "code",
   "execution_count": 104,
   "id": "2c7e86cc",
   "metadata": {},
   "outputs": [
    {
     "name": "stdout",
     "output_type": "stream",
     "text": [
      "32100\n",
      "32150\n",
      "32000\n",
      "32500\n"
     ]
    }
   ],
   "source": [
    "price_list=[32100, 32150, 32000, 32500]\n",
    "\n",
    "for i in range(4):\n",
    "    print(price_list[i])"
   ]
  },
  {
   "cell_type": "code",
   "execution_count": 106,
   "id": "bb5db34d",
   "metadata": {},
   "outputs": [
    {
     "name": "stdout",
     "output_type": "stream",
     "text": [
      "0 32100\n",
      "1 32150\n",
      "2 32000\n",
      "3 32500\n"
     ]
    }
   ],
   "source": [
    "price_list=[32100,32150,32000,32500]\n",
    "\n",
    "for i in range(4):\n",
    "    print(i, price_list[i])\n"
   ]
  },
  {
   "cell_type": "code",
   "execution_count": 107,
   "id": "13105f8f",
   "metadata": {},
   "outputs": [
    {
     "name": "stdout",
     "output_type": "stream",
     "text": [
      "0 32100\n",
      "1 32150\n",
      "2 32000\n",
      "3 32500\n"
     ]
    }
   ],
   "source": [
    "#다른 방법\n",
    "\n",
    "price_list=[32100,32150,32000,32500]\n",
    "\n",
    "for i, data in enumerate(price_list):   # enumerate : 인덱스와 원소를 동시에 접근\n",
    "    print(i,data)"
   ]
  },
  {
   "cell_type": "code",
   "execution_count": 108,
   "id": "5a2738eb",
   "metadata": {},
   "outputs": [
    {
     "name": "stdout",
     "output_type": "stream",
     "text": [
      "3 32100\n",
      "2 32150\n",
      "1 32000\n",
      "0 32500\n"
     ]
    }
   ],
   "source": [
    "price_list=[32100,32150,32000,32500]\n",
    "\n",
    "for i in range(4):\n",
    "    print(3-i, price_list[i])"
   ]
  },
  {
   "cell_type": "code",
   "execution_count": 109,
   "id": "07763d47",
   "metadata": {},
   "outputs": [
    {
     "name": "stdout",
     "output_type": "stream",
     "text": [
      "3 32100\n",
      "2 32150\n",
      "1 32000\n",
      "0 32500\n"
     ]
    }
   ],
   "source": [
    "#다른 방법\n",
    "\n",
    "for i in range(len(price_list)):\n",
    "    print((len(price_list)-1)-i,price_list[i])\n"
   ]
  },
  {
   "cell_type": "code",
   "execution_count": 112,
   "id": "09579b2a",
   "metadata": {},
   "outputs": [
    {
     "name": "stdout",
     "output_type": "stream",
     "text": [
      "100 32100\n",
      "110 32150\n",
      "120 32000\n"
     ]
    }
   ],
   "source": [
    "price_list=[32100,32150,32000,32500]\n",
    "\n",
    "for i in range(len(price_list)-1):\n",
    "    print(100+i*10, price_list[i])"
   ]
  },
  {
   "cell_type": "code",
   "execution_count": 114,
   "id": "9c6396e9",
   "metadata": {},
   "outputs": [
    {
     "name": "stdout",
     "output_type": "stream",
     "text": [
      "가 나\n",
      "나 다\n",
      "다 라\n"
     ]
    }
   ],
   "source": [
    "my_list=[\"가\",\"나\",\"다\",\"라\"]\n",
    "\n",
    "for i in range(len(my_list)-1):\n",
    "    print(my_list[i], my_list[i+1])"
   ]
  },
  {
   "cell_type": "code",
   "execution_count": 116,
   "id": "fb2ce41a",
   "metadata": {},
   "outputs": [
    {
     "name": "stdout",
     "output_type": "stream",
     "text": [
      "가 나 다\n",
      "나 다 라\n",
      "다 라 마\n"
     ]
    }
   ],
   "source": [
    "my_list=[\"가\",\"나\",\"다\",\"라\",\"마\"]\n",
    "\n",
    "for i in range(len(my_list)-2):\n",
    "    print(my_list[i], my_list[i+1], my_list[i+2])"
   ]
  },
  {
   "cell_type": "code",
   "execution_count": 118,
   "id": "90afde1b",
   "metadata": {},
   "outputs": [
    {
     "name": "stdout",
     "output_type": "stream",
     "text": [
      "라 다\n",
      "다 나\n",
      "나 가\n"
     ]
    }
   ],
   "source": [
    "my_list=[\"가\",\"나\",\"다\",\"라\"]\n",
    "\n",
    "for i in range(1,len(my_list)):\n",
    "    print(my_list[len(my_list)-i], my_list[len(my_list)-1-i])"
   ]
  },
  {
   "cell_type": "code",
   "execution_count": 119,
   "id": "e1f46b89",
   "metadata": {},
   "outputs": [
    {
     "name": "stdout",
     "output_type": "stream",
     "text": [
      "100\n",
      "200\n",
      "400\n"
     ]
    }
   ],
   "source": [
    "my_list=[100,200,400,800]\n",
    "\n",
    "for i in range(len(my_list)-1):\n",
    "    print(abs(my_list[i+1]-my_list[i]))"
   ]
  },
  {
   "cell_type": "code",
   "execution_count": 122,
   "id": "2a7670d2",
   "metadata": {},
   "outputs": [
    {
     "name": "stdout",
     "output_type": "stream",
     "text": [
      "233.33333333333334\n",
      "466.6666666666667\n",
      "733.3333333333334\n",
      "1033.3333333333333\n"
     ]
    }
   ],
   "source": [
    "my_list=[100,200,400,800,1000,1300]\n",
    "sum=0\n",
    "for i in range(1,len(my_list)-1):\n",
    "    sum=my_list[i-1]+my_list[i]+my_list[i+1]\n",
    "    print(sum/3)"
   ]
  },
  {
   "cell_type": "code",
   "execution_count": 126,
   "id": "4b141e24",
   "metadata": {},
   "outputs": [
    {
     "name": "stdout",
     "output_type": "stream",
     "text": [
      "[50, 100, 30, 80, 0]\n"
     ]
    }
   ],
   "source": [
    "low_prices=[100,200,400,800,1000]\n",
    "high_prices=[150,300,430,880,1000]\n",
    "\n",
    "volatility=[]\n",
    "for i in range(len(low_prices)):\n",
    "    volatility.append(high_prices[i]-low_prices[i])\n",
    "\n",
    "print(volatility)"
   ]
  },
  {
   "cell_type": "markdown",
   "id": "ae244d3c",
   "metadata": {},
   "source": [
    "* 181~190"
   ]
  },
  {
   "cell_type": "code",
   "execution_count": 130,
   "id": "5e08ffaf",
   "metadata": {},
   "outputs": [
    {
     "data": {
      "text/plain": [
       "[['101호', '102호'], ['201호', '202호'], ['301호', '302호']]"
      ]
     },
     "execution_count": 130,
     "metadata": {},
     "output_type": "execute_result"
    }
   ],
   "source": [
    "apart=[[\"101호\",\"102호\"],[\"201호\",\"202호\"],[\"301호\",\"302호\"]]\n",
    "\n",
    "apart"
   ]
  },
  {
   "cell_type": "code",
   "execution_count": 131,
   "id": "3635c4ef",
   "metadata": {},
   "outputs": [
    {
     "data": {
      "text/plain": [
       "[['시가', 100, 200, 300], ['종가', 80, 210, 330]]"
      ]
     },
     "execution_count": 131,
     "metadata": {},
     "output_type": "execute_result"
    }
   ],
   "source": [
    "stock=[[\"시가\",100,200,300],[\"종가\",80,210,330]]\n",
    "\n",
    "stock"
   ]
  },
  {
   "cell_type": "code",
   "execution_count": 134,
   "id": "a6bd827f",
   "metadata": {},
   "outputs": [
    {
     "data": {
      "text/plain": [
       "{'시가': [100, 200, 300], '종가': [80, 210, 330]}"
      ]
     },
     "execution_count": 134,
     "metadata": {},
     "output_type": "execute_result"
    }
   ],
   "source": [
    "stock={'시가':[100,200,300],'종가':[80,210,330]}\n",
    "\n",
    "stock"
   ]
  },
  {
   "cell_type": "code",
   "execution_count": 136,
   "id": "e69747e2",
   "metadata": {},
   "outputs": [
    {
     "data": {
      "text/plain": [
       "{'10/10': [80, 110, 70, 90], '10/11': [210, 230, 190, 200]}"
      ]
     },
     "execution_count": 136,
     "metadata": {},
     "output_type": "execute_result"
    }
   ],
   "source": [
    "stock={\"10/10\":[80,110,70,90],\"10/11\":[210,230,190,200]}\n",
    "\n",
    "stock"
   ]
  },
  {
   "cell_type": "code",
   "execution_count": 139,
   "id": "5cd8eea9",
   "metadata": {},
   "outputs": [
    {
     "name": "stdout",
     "output_type": "stream",
     "text": [
      "101 호\n",
      "102 호\n",
      "201 호\n",
      "202 호\n",
      "301 호\n",
      "302 호\n"
     ]
    }
   ],
   "source": [
    "apart=[[101,102],[201,202],[301,302]]\n",
    "\n",
    "for row in apart:\n",
    "    for col in row:\n",
    "        print(col,'호')"
   ]
  },
  {
   "cell_type": "code",
   "execution_count": 142,
   "id": "1d6a6c16",
   "metadata": {},
   "outputs": [
    {
     "name": "stdout",
     "output_type": "stream",
     "text": [
      "301 호\n",
      "302 호\n",
      "201 호\n",
      "202 호\n",
      "101 호\n",
      "102 호\n"
     ]
    }
   ],
   "source": [
    "apart=[[101,102],[201,202],[301,302]]\n",
    "\n",
    "for row in apart[::-1]:\n",
    "    for col in row:\n",
    "       print(col,\"호\")"
   ]
  },
  {
   "cell_type": "code",
   "execution_count": 143,
   "id": "9ed12834",
   "metadata": {},
   "outputs": [
    {
     "name": "stdout",
     "output_type": "stream",
     "text": [
      "302 호\n",
      "301 호\n",
      "202 호\n",
      "201 호\n",
      "102 호\n",
      "101 호\n"
     ]
    }
   ],
   "source": [
    "apart=[[101,102],[201,202],[301,302]]\n",
    "\n",
    "for row in apart[::-1]:\n",
    "    for col in row[::-1]:\n",
    "        print(col,\"호\")"
   ]
  },
  {
   "cell_type": "code",
   "execution_count": 145,
   "id": "5812e20a",
   "metadata": {},
   "outputs": [
    {
     "name": "stdout",
     "output_type": "stream",
     "text": [
      "101 호\n",
      "----\n",
      "102 호\n",
      "----\n",
      "201 호\n",
      "----\n",
      "202 호\n",
      "----\n",
      "301 호\n",
      "----\n",
      "302 호\n",
      "----\n"
     ]
    }
   ],
   "source": [
    "apart=[[101,102],[201,202],[301,302]]\n",
    "\n",
    "for row in apart:\n",
    "    for col in row:\n",
    "        print(col,\"호\")\n",
    "        print(\"----\")"
   ]
  },
  {
   "cell_type": "code",
   "execution_count": 146,
   "id": "7ec88f0f",
   "metadata": {},
   "outputs": [
    {
     "name": "stdout",
     "output_type": "stream",
     "text": [
      "101 호\n",
      "102 호\n",
      "----\n",
      "201 호\n",
      "202 호\n",
      "----\n",
      "301 호\n",
      "302 호\n",
      "----\n"
     ]
    }
   ],
   "source": [
    "apart=[[101,102],[201,202],[301,302]]\n",
    "\n",
    "for row in apart:\n",
    "    for col in row:\n",
    "        print(col,\"호\")\n",
    "    print(\"----\")"
   ]
  },
  {
   "cell_type": "code",
   "execution_count": 148,
   "id": "a42384dc",
   "metadata": {},
   "outputs": [
    {
     "name": "stdout",
     "output_type": "stream",
     "text": [
      "101 호\n",
      "102 호\n",
      "201 호\n",
      "202 호\n",
      "301 호\n",
      "302 호\n",
      "-----\n"
     ]
    }
   ],
   "source": [
    "apart=[[101,102],[201,202],[301,302]]\n",
    "\n",
    "for row in apart:\n",
    "    for col in row:\n",
    "        print(col,'호')\n",
    "        \n",
    "print('-'*5)"
   ]
  },
  {
   "cell_type": "markdown",
   "id": "28cecf6f",
   "metadata": {},
   "source": [
    "* 191~200"
   ]
  },
  {
   "cell_type": "code",
   "execution_count": 149,
   "id": "783f7056",
   "metadata": {},
   "outputs": [
    {
     "name": "stdout",
     "output_type": "stream",
     "text": [
      "2000.28\n",
      "3050.427\n",
      "2050.2870000000003\n",
      "1980.2772\n",
      "7501.05\n",
      "2050.2870000000003\n",
      "2050.2870000000003\n",
      "1980.2772\n",
      "15452.163\n",
      "15052.107\n",
      "15552.177\n",
      "14902.086000000001\n"
     ]
    }
   ],
   "source": [
    "data=[\n",
    "    [2000,3050,2050,1980],\n",
    "    [7500,2050,2050,1980],\n",
    "    [15450,15050,15550,14900]\n",
    "]\n",
    "\n",
    "for i in data:\n",
    "    for j in i:\n",
    "        print(j*1.00014)"
   ]
  },
  {
   "cell_type": "code",
   "execution_count": 150,
   "id": "7648dffa",
   "metadata": {},
   "outputs": [
    {
     "name": "stdout",
     "output_type": "stream",
     "text": [
      "2000.28\n",
      "3050.427\n",
      "2050.2870000000003\n",
      "1980.2772\n",
      "----\n",
      "7501.05\n",
      "2050.2870000000003\n",
      "2050.2870000000003\n",
      "1980.2772\n",
      "----\n",
      "15452.163\n",
      "15052.107\n",
      "15552.177\n",
      "14902.086000000001\n",
      "----\n"
     ]
    }
   ],
   "source": [
    "data=[\n",
    "    [2000,3050,2050,1980],\n",
    "    [7500,2050,2050,1980],\n",
    "    [15450,15050,15550,14900]\n",
    "]\n",
    "\n",
    "for i in data:\n",
    "    for j in i:\n",
    "        print(j*1.00014)\n",
    "    print(\"-\"*4)"
   ]
  },
  {
   "cell_type": "code",
   "execution_count": 151,
   "id": "1d779076",
   "metadata": {},
   "outputs": [
    {
     "name": "stdout",
     "output_type": "stream",
     "text": [
      "[2000.28, 3050.427, 2050.2870000000003, 1980.2772, 7501.05, 2050.2870000000003, 2050.2870000000003, 1980.2772, 15452.163, 15052.107, 15552.177, 14902.086000000001]\n"
     ]
    }
   ],
   "source": [
    "data=[\n",
    "    [2000,3050,2050,1980],\n",
    "    [7500,2050,2050,1980],\n",
    "    [15450,15050,15550,14900]\n",
    "]\n",
    "\n",
    "result=[]\n",
    "for i in data:\n",
    "    for j in i:\n",
    "        result.append(j*1.00014)\n",
    "\n",
    "print(result)"
   ]
  },
  {
   "cell_type": "code",
   "execution_count": 156,
   "id": "749d990c",
   "metadata": {},
   "outputs": [
    {
     "name": "stdout",
     "output_type": "stream",
     "text": [
      "[[2000.28, 3050.427, 2050.2870000000003, 1980.2772], [7501.05, 2050.2870000000003, 2050.2870000000003, 1980.2772], [15452.163, 15052.107, 15552.177, 14902.086000000001]]\n"
     ]
    }
   ],
   "source": [
    "data=[\n",
    "    [2000,3050,2050,1980],\n",
    "    [7500,2050,2050,1980],\n",
    "    [15450,15050,15550,14900]\n",
    "]\n",
    "\n",
    "result=[]\n",
    "for i in data:\n",
    "    sub=[]\n",
    "    for j in i:\n",
    "        sub.append(j*1.00014)\n",
    "    result.append(sub)\n",
    "print(result)"
   ]
  },
  {
   "cell_type": "code",
   "execution_count": 163,
   "id": "10094e1b",
   "metadata": {},
   "outputs": [
    {
     "name": "stdout",
     "output_type": "stream",
     "text": [
      "100\n",
      "190\n",
      "310\n"
     ]
    }
   ],
   "source": [
    "ohlc=[['open','high','low','close'],\n",
    "     [100,110,70,100],\n",
    "     [200,210,180,190],\n",
    "     [300,310,300,310]]\n",
    "\n",
    "for row in ohlc[1:]:\n",
    "    print(row[3])"
   ]
  },
  {
   "cell_type": "code",
   "execution_count": 164,
   "id": "331bcade",
   "metadata": {},
   "outputs": [
    {
     "name": "stdout",
     "output_type": "stream",
     "text": [
      "190\n",
      "310\n"
     ]
    }
   ],
   "source": [
    "ohlc=[['open','high','low','close'],\n",
    "     [100,110,70,100],\n",
    "     [200,210,180,190],\n",
    "     [300,310,300,310]]\n",
    "\n",
    "for row in ohlc[1:]:\n",
    "    if row[3]>=150:\n",
    "        print(row[3])"
   ]
  },
  {
   "cell_type": "code",
   "execution_count": 165,
   "id": "15808ec1",
   "metadata": {},
   "outputs": [
    {
     "name": "stdout",
     "output_type": "stream",
     "text": [
      "100\n",
      "310\n"
     ]
    }
   ],
   "source": [
    "ohlc=[['open','high','low','close'],\n",
    "     [100,110,70,100],\n",
    "     [200,210,180,190],\n",
    "     [300,310,300,310]]\n",
    "\n",
    "for row in ohlc[1:]:\n",
    "    if row[3]>=row[0]:\n",
    "        print(row[3])"
   ]
  },
  {
   "cell_type": "code",
   "execution_count": 169,
   "id": "671e14c5",
   "metadata": {},
   "outputs": [
    {
     "name": "stdout",
     "output_type": "stream",
     "text": [
      "[40, 30, 10]\n"
     ]
    }
   ],
   "source": [
    "ohlc=[['open','high','low','close'],\n",
    "     [100,110,70,100],\n",
    "     [200,210,180,190],\n",
    "     [300,310,300,310]]\n",
    "\n",
    "volatility=[]\n",
    "for row in ohlc[1:]:\n",
    "    volatility.append(row[1]-row[2])\n",
    "print(volatility)"
   ]
  },
  {
   "cell_type": "code",
   "execution_count": 173,
   "id": "8b022b44",
   "metadata": {},
   "outputs": [
    {
     "name": "stdout",
     "output_type": "stream",
     "text": [
      "10\n"
     ]
    }
   ],
   "source": [
    "ohlc=[['open','high','low','close'],\n",
    "     [100,110,70,100],\n",
    "     [200,210,180,190],\n",
    "     [300,310,300,310]]\n",
    "\n",
    "for row in ohlc[1:]:\n",
    "        if row[3] > row[0]:\n",
    "            print(row[1]-row[2])"
   ]
  },
  {
   "cell_type": "code",
   "execution_count": 177,
   "id": "83cfb36c",
   "metadata": {},
   "outputs": [
    {
     "name": "stdout",
     "output_type": "stream",
     "text": [
      "0\n"
     ]
    }
   ],
   "source": [
    "#총 수익금 계산\n",
    "\n",
    "ohlc=[['open','high','low','close'],\n",
    "     [100,110,70,100],\n",
    "     [200,210,180,190],\n",
    "     [300,310,300,310]]    \n",
    "\n",
    "profit=0\n",
    "for row in ohlc[1:]:\n",
    "    profit+=(row[3]-row[0])\n",
    "print(profit)\n"
   ]
  },
  {
   "cell_type": "code",
   "execution_count": null,
   "id": "79fcaa1e",
   "metadata": {},
   "outputs": [],
   "source": []
  }
 ],
 "metadata": {
  "kernelspec": {
   "display_name": "Python 3 (ipykernel)",
   "language": "python",
   "name": "python3"
  },
  "language_info": {
   "codemirror_mode": {
    "name": "ipython",
    "version": 3
   },
   "file_extension": ".py",
   "mimetype": "text/x-python",
   "name": "python",
   "nbconvert_exporter": "python",
   "pygments_lexer": "ipython3",
   "version": "3.11.5"
  },
  "toc": {
   "base_numbering": 1,
   "nav_menu": {},
   "number_sections": true,
   "sideBar": true,
   "skip_h1_title": false,
   "title_cell": "Table of Contents",
   "title_sidebar": "Contents",
   "toc_cell": false,
   "toc_position": {},
   "toc_section_display": true,
   "toc_window_display": false
  }
 },
 "nbformat": 4,
 "nbformat_minor": 5
}
