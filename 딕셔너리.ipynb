{
 "cells": [
  {
   "cell_type": "markdown",
   "id": "cd148012",
   "metadata": {},
   "source": [
    "# 딕셔너리"
   ]
  },
  {
   "cell_type": "markdown",
   "id": "50c00af4",
   "metadata": {},
   "source": [
    "## 딕셔너리 쌍 추가하기"
   ]
  },
  {
   "cell_type": "code",
   "execution_count": 1,
   "id": "864aa8ac",
   "metadata": {},
   "outputs": [
    {
     "data": {
      "text/plain": [
       "{1: 'a', 2: 'b'}"
      ]
     },
     "execution_count": 1,
     "metadata": {},
     "output_type": "execute_result"
    }
   ],
   "source": [
    "a={1:'a'}\n",
    "a[2]='b'\n",
    "a"
   ]
  },
  {
   "cell_type": "code",
   "execution_count": 2,
   "id": "4df72dc1",
   "metadata": {},
   "outputs": [
    {
     "data": {
      "text/plain": [
       "{1: 'a', 2: 'b', 'name': 'pey'}"
      ]
     },
     "execution_count": 2,
     "metadata": {},
     "output_type": "execute_result"
    }
   ],
   "source": [
    "a['name']='pey'\n",
    "a"
   ]
  },
  {
   "cell_type": "code",
   "execution_count": 3,
   "id": "53287096",
   "metadata": {},
   "outputs": [
    {
     "data": {
      "text/plain": [
       "{1: 'a', 2: 'b', 'name': 'pey', 3: [1, 2, 3]}"
      ]
     },
     "execution_count": 3,
     "metadata": {},
     "output_type": "execute_result"
    }
   ],
   "source": [
    "a[3]=[1,2,3]\n",
    "a\n"
   ]
  },
  {
   "cell_type": "markdown",
   "id": "21c017e0",
   "metadata": {},
   "source": [
    "## 딕셔너리 삭제"
   ]
  },
  {
   "cell_type": "code",
   "execution_count": 4,
   "id": "2845e7d5",
   "metadata": {},
   "outputs": [
    {
     "data": {
      "text/plain": [
       "{2: 'b', 'name': 'pey', 3: [1, 2, 3]}"
      ]
     },
     "execution_count": 4,
     "metadata": {},
     "output_type": "execute_result"
    }
   ],
   "source": [
    "del a[1]  #1은 인덱스가 아님!! 주의할 것\n",
    "a"
   ]
  },
  {
   "cell_type": "markdown",
   "id": "7c7c21af",
   "metadata": {},
   "source": [
    "## 딕셔너리에서 key를 사용해 value 얻기"
   ]
  },
  {
   "cell_type": "code",
   "execution_count": 6,
   "id": "8a0b03ca",
   "metadata": {},
   "outputs": [
    {
     "data": {
      "text/plain": [
       "99"
      ]
     },
     "execution_count": 6,
     "metadata": {},
     "output_type": "execute_result"
    }
   ],
   "source": [
    "grade={'pey':10,'julliet':99}\n",
    "grade['pey']\n",
    "grade['julliet']"
   ]
  },
  {
   "cell_type": "code",
   "execution_count": 7,
   "id": "413156ad",
   "metadata": {},
   "outputs": [
    {
     "data": {
      "text/plain": [
       "'b'"
      ]
     },
     "execution_count": 7,
     "metadata": {},
     "output_type": "execute_result"
    }
   ],
   "source": [
    "a={1:'a',2:'b'}\n",
    "a[1]\n",
    "a[2]"
   ]
  },
  {
   "cell_type": "code",
   "execution_count": 10,
   "id": "5f630289",
   "metadata": {},
   "outputs": [
    {
     "data": {
      "text/plain": [
       "1"
      ]
     },
     "execution_count": 10,
     "metadata": {},
     "output_type": "execute_result"
    }
   ],
   "source": [
    "a={'a':1,'b':2}\n",
    "a['a']"
   ]
  },
  {
   "cell_type": "code",
   "execution_count": 11,
   "id": "4a3063c2",
   "metadata": {},
   "outputs": [
    {
     "data": {
      "text/plain": [
       "2"
      ]
     },
     "execution_count": 11,
     "metadata": {},
     "output_type": "execute_result"
    }
   ],
   "source": [
    "a['b']"
   ]
  },
  {
   "cell_type": "code",
   "execution_count": 12,
   "id": "a83e6f42",
   "metadata": {},
   "outputs": [
    {
     "data": {
      "text/plain": [
       "'pey'"
      ]
     },
     "execution_count": 12,
     "metadata": {},
     "output_type": "execute_result"
    }
   ],
   "source": [
    "dic={'name':'pey','phone':'010-9999-1234','birth':'1118'}\n",
    "dic['name']"
   ]
  },
  {
   "cell_type": "code",
   "execution_count": 13,
   "id": "104eab0d",
   "metadata": {},
   "outputs": [
    {
     "data": {
      "text/plain": [
       "'010-9999-1234'"
      ]
     },
     "execution_count": 13,
     "metadata": {},
     "output_type": "execute_result"
    }
   ],
   "source": [
    "dic['phone']"
   ]
  },
  {
   "cell_type": "code",
   "execution_count": 14,
   "id": "18597004",
   "metadata": {},
   "outputs": [
    {
     "data": {
      "text/plain": [
       "'1118'"
      ]
     },
     "execution_count": 14,
     "metadata": {},
     "output_type": "execute_result"
    }
   ],
   "source": [
    "dic['birth']"
   ]
  },
  {
   "cell_type": "code",
   "execution_count": 61,
   "id": "b1c4154d",
   "metadata": {},
   "outputs": [
    {
     "ename": "SyntaxError",
     "evalue": "invalid syntax (2304307974.py, line 1)",
     "output_type": "error",
     "traceback": [
      "\u001b[1;36m  Cell \u001b[1;32mIn[61], line 1\u001b[1;36m\u001b[0m\n\u001b[1;33m    a{1:'a',1:'b'}  #중복은 안됨 -> 오류\u001b[0m\n\u001b[1;37m     ^\u001b[0m\n\u001b[1;31mSyntaxError\u001b[0m\u001b[1;31m:\u001b[0m invalid syntax\n"
     ]
    }
   ],
   "source": [
    "a{1:'a',1:'b'}  #중복은 안됨 -> 오류\n",
    "a[1]"
   ]
  },
  {
   "cell_type": "code",
   "execution_count": 18,
   "id": "df89a99b",
   "metadata": {},
   "outputs": [],
   "source": [
    "#딕셔너리의 Key로 쓸 수 있느냐, 없느냐는 Key가 변하는(mutable) 값인지, 변하지 않는(immutable) 값인지에 달려 있다.\n",
    "#리스트는 그 값이 변할 수 있기 때문에 Key로 쓸 수 없다. "
   ]
  },
  {
   "cell_type": "markdown",
   "id": "636776ca",
   "metadata": {},
   "source": [
    "## 딕셔너리 관련 함수"
   ]
  },
  {
   "cell_type": "code",
   "execution_count": 19,
   "id": "0d9b2dcb",
   "metadata": {},
   "outputs": [],
   "source": [
    "a={'name':'pey','phone':'010-9999-1234','birth':'1118'}"
   ]
  },
  {
   "cell_type": "code",
   "execution_count": 20,
   "id": "c7d34390",
   "metadata": {},
   "outputs": [
    {
     "data": {
      "text/plain": [
       "dict_keys(['name', 'phone', 'birth'])"
      ]
     },
     "execution_count": 20,
     "metadata": {},
     "output_type": "execute_result"
    }
   ],
   "source": [
    "a.keys()  #키값 뽑기"
   ]
  },
  {
   "cell_type": "code",
   "execution_count": 105,
   "id": "3fbae084",
   "metadata": {},
   "outputs": [
    {
     "ename": "AttributeError",
     "evalue": "'int' object has no attribute 'keys'",
     "output_type": "error",
     "traceback": [
      "\u001b[1;31m---------------------------------------------------------------------------\u001b[0m",
      "\u001b[1;31mAttributeError\u001b[0m                            Traceback (most recent call last)",
      "Cell \u001b[1;32mIn[105], line 1\u001b[0m\n\u001b[1;32m----> 1\u001b[0m a\u001b[38;5;241m.\u001b[39mkeys(\u001b[38;5;124m'\u001b[39m\u001b[38;5;124mpey\u001b[39m\u001b[38;5;124m'\u001b[39m)\n",
      "\u001b[1;31mAttributeError\u001b[0m: 'int' object has no attribute 'keys'"
     ]
    }
   ],
   "source": [
    "a.keys('pey') #오류발생"
   ]
  },
  {
   "cell_type": "code",
   "execution_count": 21,
   "id": "a834143a",
   "metadata": {},
   "outputs": [
    {
     "data": {
      "text/plain": [
       "dict_values(['pey', '010-9999-1234', '1118'])"
      ]
     },
     "execution_count": 21,
     "metadata": {},
     "output_type": "execute_result"
    }
   ],
   "source": [
    "a.values()  #밸류값 뽑기"
   ]
  },
  {
   "cell_type": "code",
   "execution_count": 22,
   "id": "5e313482",
   "metadata": {},
   "outputs": [
    {
     "data": {
      "text/plain": [
       "dict_items([('name', 'pey'), ('phone', '010-9999-1234'), ('birth', '1118')])"
      ]
     },
     "execution_count": 22,
     "metadata": {},
     "output_type": "execute_result"
    }
   ],
   "source": [
    "a.items()  #key, value 쌍 얻기"
   ]
  },
  {
   "cell_type": "code",
   "execution_count": 24,
   "id": "b64c88c2",
   "metadata": {},
   "outputs": [
    {
     "data": {
      "text/plain": [
       "{}"
      ]
     },
     "execution_count": 24,
     "metadata": {},
     "output_type": "execute_result"
    }
   ],
   "source": [
    "a.clear()  #value 쌍 모두 지우기\n",
    "a"
   ]
  },
  {
   "cell_type": "code",
   "execution_count": 26,
   "id": "14e44749",
   "metadata": {},
   "outputs": [
    {
     "data": {
      "text/plain": [
       "'pey'"
      ]
     },
     "execution_count": 26,
     "metadata": {},
     "output_type": "execute_result"
    }
   ],
   "source": [
    "a={'name':'pey','phone':'010-9999-1234','birth':'1118'}\n",
    "a.get('name')"
   ]
  },
  {
   "cell_type": "code",
   "execution_count": 27,
   "id": "e90dc1c0",
   "metadata": {},
   "outputs": [
    {
     "data": {
      "text/plain": [
       "'010-9999-1234'"
      ]
     },
     "execution_count": 27,
     "metadata": {},
     "output_type": "execute_result"
    }
   ],
   "source": [
    "a.get('phone')"
   ]
  },
  {
   "cell_type": "code",
   "execution_count": 28,
   "id": "a99d3bd9",
   "metadata": {},
   "outputs": [
    {
     "data": {
      "text/plain": [
       "True"
      ]
     },
     "execution_count": 28,
     "metadata": {},
     "output_type": "execute_result"
    }
   ],
   "source": [
    "#해당 key가 딕셔너리 안에 있는지 조사하기 -in\n",
    "a={'name':'pey','phone':'010-9999-1234','birth':'1118'}\n",
    "'name' in a"
   ]
  },
  {
   "cell_type": "code",
   "execution_count": 29,
   "id": "6fa4b79a",
   "metadata": {},
   "outputs": [
    {
     "data": {
      "text/plain": [
       "False"
      ]
     },
     "execution_count": 29,
     "metadata": {},
     "output_type": "execute_result"
    }
   ],
   "source": [
    "'email' in a"
   ]
  },
  {
   "cell_type": "code",
   "execution_count": 31,
   "id": "497392c0",
   "metadata": {},
   "outputs": [
    {
     "data": {
      "text/plain": [
       "False"
      ]
     },
     "execution_count": 31,
     "metadata": {},
     "output_type": "execute_result"
    }
   ],
   "source": [
    "'name ' in a  #공백도 요소로 포함함."
   ]
  },
  {
   "cell_type": "markdown",
   "id": "c753d160",
   "metadata": {},
   "source": [
    "# 집합 자료형"
   ]
  },
  {
   "cell_type": "code",
   "execution_count": 32,
   "id": "ff4fc8b3",
   "metadata": {},
   "outputs": [
    {
     "data": {
      "text/plain": [
       "{1, 2, 3}"
      ]
     },
     "execution_count": 32,
     "metadata": {},
     "output_type": "execute_result"
    }
   ],
   "source": [
    "s1=set([1,2,3])\n",
    "s1"
   ]
  },
  {
   "cell_type": "code",
   "execution_count": 54,
   "id": "d668f6fd",
   "metadata": {},
   "outputs": [
    {
     "data": {
      "text/plain": [
       "{'H', 'e', 'l', 'o'}"
      ]
     },
     "execution_count": 54,
     "metadata": {},
     "output_type": "execute_result"
    }
   ],
   "source": [
    "s2=set(\"Hello\")\n",
    "s2"
   ]
  },
  {
   "cell_type": "code",
   "execution_count": 55,
   "id": "35087689",
   "metadata": {},
   "outputs": [
    {
     "data": {
      "text/plain": [
       "{'a'}"
      ]
     },
     "execution_count": 55,
     "metadata": {},
     "output_type": "execute_result"
    }
   ],
   "source": [
    "s3=set(\"aaaaaaaaaaaaaaaa\") \n",
    "s3   #중복이 있더라도 결과값은 1개"
   ]
  },
  {
   "cell_type": "code",
   "execution_count": 34,
   "id": "ee0c85b7",
   "metadata": {},
   "outputs": [
    {
     "data": {
      "text/plain": [
       "[1, 2, 3]"
      ]
     },
     "execution_count": 34,
     "metadata": {},
     "output_type": "execute_result"
    }
   ],
   "source": [
    "s1=set([1,2,3])\n",
    "l1=list(s1)  #리스트형으로 변경\n",
    "l1"
   ]
  },
  {
   "cell_type": "code",
   "execution_count": 35,
   "id": "2941daa3",
   "metadata": {},
   "outputs": [
    {
     "data": {
      "text/plain": [
       "1"
      ]
     },
     "execution_count": 35,
     "metadata": {},
     "output_type": "execute_result"
    }
   ],
   "source": [
    "l1[0]"
   ]
  },
  {
   "cell_type": "code",
   "execution_count": 37,
   "id": "7e1161fc",
   "metadata": {},
   "outputs": [
    {
     "data": {
      "text/plain": [
       "(1, 2, 3)"
      ]
     },
     "execution_count": 37,
     "metadata": {},
     "output_type": "execute_result"
    }
   ],
   "source": [
    "t1=tuple(s1)  #튜플로 변경\n",
    "t1"
   ]
  },
  {
   "cell_type": "code",
   "execution_count": 56,
   "id": "1761a9f7",
   "metadata": {},
   "outputs": [
    {
     "data": {
      "text/plain": [
       "1"
      ]
     },
     "execution_count": 56,
     "metadata": {},
     "output_type": "execute_result"
    }
   ],
   "source": [
    "t1[0]"
   ]
  },
  {
   "cell_type": "markdown",
   "id": "744b44a7",
   "metadata": {},
   "source": [
    "## 교집합, 합집합, 차집합"
   ]
  },
  {
   "cell_type": "code",
   "execution_count": 40,
   "id": "3588b246",
   "metadata": {},
   "outputs": [],
   "source": [
    "s1 = set([1, 2, 3, 4, 5, 6])\n",
    "s2 = set([4, 5, 6, 7, 8, 9])"
   ]
  },
  {
   "cell_type": "code",
   "execution_count": 42,
   "id": "4a3adbcc",
   "metadata": {},
   "outputs": [
    {
     "data": {
      "text/plain": [
       "{4, 5, 6}"
      ]
     },
     "execution_count": 42,
     "metadata": {},
     "output_type": "execute_result"
    }
   ],
   "source": [
    "#교집합\n",
    "s1&s2"
   ]
  },
  {
   "cell_type": "code",
   "execution_count": 43,
   "id": "a8e7d0be",
   "metadata": {},
   "outputs": [
    {
     "data": {
      "text/plain": [
       "{1, 2, 3, 4, 5, 6, 7, 8, 9}"
      ]
     },
     "execution_count": 43,
     "metadata": {},
     "output_type": "execute_result"
    }
   ],
   "source": [
    "#합집합\n",
    "s1|s2"
   ]
  },
  {
   "cell_type": "code",
   "execution_count": 44,
   "id": "f45ab1e6",
   "metadata": {},
   "outputs": [
    {
     "data": {
      "text/plain": [
       "{1, 2, 3, 4, 5, 6, 7, 8, 9}"
      ]
     },
     "execution_count": 44,
     "metadata": {},
     "output_type": "execute_result"
    }
   ],
   "source": [
    "s1.union(s2)"
   ]
  },
  {
   "cell_type": "code",
   "execution_count": 45,
   "id": "29dd11d5",
   "metadata": {},
   "outputs": [
    {
     "data": {
      "text/plain": [
       "{1, 2, 3}"
      ]
     },
     "execution_count": 45,
     "metadata": {},
     "output_type": "execute_result"
    }
   ],
   "source": [
    "#차집합\n",
    "s1-s2"
   ]
  },
  {
   "cell_type": "code",
   "execution_count": 46,
   "id": "2009ab5e",
   "metadata": {},
   "outputs": [
    {
     "data": {
      "text/plain": [
       "{7, 8, 9}"
      ]
     },
     "execution_count": 46,
     "metadata": {},
     "output_type": "execute_result"
    }
   ],
   "source": [
    "s2-s1"
   ]
  },
  {
   "cell_type": "code",
   "execution_count": 47,
   "id": "023b3045",
   "metadata": {},
   "outputs": [
    {
     "data": {
      "text/plain": [
       "{1, 2, 3}"
      ]
     },
     "execution_count": 47,
     "metadata": {},
     "output_type": "execute_result"
    }
   ],
   "source": [
    "s1.difference(s2)"
   ]
  },
  {
   "cell_type": "code",
   "execution_count": 49,
   "id": "3f34d78d",
   "metadata": {},
   "outputs": [
    {
     "data": {
      "text/plain": [
       "{7, 8, 9}"
      ]
     },
     "execution_count": 49,
     "metadata": {},
     "output_type": "execute_result"
    }
   ],
   "source": [
    "s2.difference(s1)"
   ]
  },
  {
   "cell_type": "markdown",
   "id": "2a5be575",
   "metadata": {},
   "source": [
    "## 집합 자료형 관련 함수"
   ]
  },
  {
   "cell_type": "markdown",
   "id": "93b4f990",
   "metadata": {},
   "source": [
    "* 값 1개 추가하기 -add"
   ]
  },
  {
   "cell_type": "code",
   "execution_count": 50,
   "id": "87590cdf",
   "metadata": {},
   "outputs": [
    {
     "data": {
      "text/plain": [
       "{1, 2, 3, 4}"
      ]
     },
     "execution_count": 50,
     "metadata": {},
     "output_type": "execute_result"
    }
   ],
   "source": [
    "s1=set([1,2,3])\n",
    "s1.add(4)\n",
    "s1"
   ]
  },
  {
   "cell_type": "markdown",
   "id": "7da3e44b",
   "metadata": {},
   "source": [
    "* 값 여러개 추가하기 - update"
   ]
  },
  {
   "cell_type": "code",
   "execution_count": 51,
   "id": "8d68d068",
   "metadata": {},
   "outputs": [
    {
     "data": {
      "text/plain": [
       "{1, 2, 3, 4, 5, 6}"
      ]
     },
     "execution_count": 51,
     "metadata": {},
     "output_type": "execute_result"
    }
   ],
   "source": [
    "s1=set([1,2,3])\n",
    "s1.update([4,5,6])\n",
    "s1"
   ]
  },
  {
   "cell_type": "markdown",
   "id": "aa7a7c3d",
   "metadata": {},
   "source": [
    "* 특정 값 제거하기 - remove"
   ]
  },
  {
   "cell_type": "code",
   "execution_count": 52,
   "id": "448a5864",
   "metadata": {},
   "outputs": [
    {
     "data": {
      "text/plain": [
       "{1, 3}"
      ]
     },
     "execution_count": 52,
     "metadata": {},
     "output_type": "execute_result"
    }
   ],
   "source": [
    "s1=set([1,2,3])\n",
    "s1.remove(2)\n",
    "s1"
   ]
  },
  {
   "cell_type": "markdown",
   "id": "f7972156",
   "metadata": {},
   "source": [
    "# 불 자료형"
   ]
  },
  {
   "cell_type": "code",
   "execution_count": 58,
   "id": "f75c82b2",
   "metadata": {},
   "outputs": [],
   "source": [
    "a=True\n",
    "b=False"
   ]
  },
  {
   "cell_type": "code",
   "execution_count": 60,
   "id": "d0bef2a5",
   "metadata": {},
   "outputs": [
    {
     "data": {
      "text/plain": [
       "bool"
      ]
     },
     "execution_count": 60,
     "metadata": {},
     "output_type": "execute_result"
    }
   ],
   "source": [
    "type(a)\n",
    "type(b)"
   ]
  },
  {
   "cell_type": "code",
   "execution_count": 64,
   "id": "212b1ddc",
   "metadata": {},
   "outputs": [
    {
     "name": "stdout",
     "output_type": "stream",
     "text": [
      "4\n",
      "3\n",
      "2\n",
      "1\n"
     ]
    }
   ],
   "source": [
    "a=[1,2,3,4]  \n",
    "while a:  # a자체가 참이냐 아니냐\n",
    "    print(a.pop())"
   ]
  },
  {
   "cell_type": "code",
   "execution_count": 65,
   "id": "d8899428",
   "metadata": {},
   "outputs": [
    {
     "name": "stdout",
     "output_type": "stream",
     "text": [
      "거짓\n"
     ]
    }
   ],
   "source": [
    "if []:\n",
    "    print(\"참\")\n",
    "else:\n",
    "    print(\"거짓\")\n",
    "#값이 없기 때문에 거짓 출력함"
   ]
  },
  {
   "cell_type": "code",
   "execution_count": 68,
   "id": "4a3891df",
   "metadata": {},
   "outputs": [
    {
     "data": {
      "text/plain": [
       "False"
      ]
     },
     "execution_count": 68,
     "metadata": {},
     "output_type": "execute_result"
    }
   ],
   "source": [
    "\"python\"==True  #True는 1로 보기 때문에 비교했을 때 결과값 False"
   ]
  },
  {
   "cell_type": "code",
   "execution_count": 69,
   "id": "89bedb72",
   "metadata": {},
   "outputs": [
    {
     "name": "stdout",
     "output_type": "stream",
     "text": [
      "참\n"
     ]
    }
   ],
   "source": [
    "if [1,2,3]:\n",
    "    print(\"참\")\n",
    "else:\n",
    "    print(\"거짓\")"
   ]
  },
  {
   "cell_type": "code",
   "execution_count": 70,
   "id": "0905ec2c",
   "metadata": {},
   "outputs": [
    {
     "data": {
      "text/plain": [
       "True"
      ]
     },
     "execution_count": 70,
     "metadata": {},
     "output_type": "execute_result"
    }
   ],
   "source": [
    "bool('python') #문자열이 비어있지 않으므로 True 리턴"
   ]
  },
  {
   "cell_type": "code",
   "execution_count": 71,
   "id": "462f9778",
   "metadata": {},
   "outputs": [
    {
     "data": {
      "text/plain": [
       "False"
      ]
     },
     "execution_count": 71,
     "metadata": {},
     "output_type": "execute_result"
    }
   ],
   "source": [
    "bool('')  # 문자열이 비어있으므로 False"
   ]
  },
  {
   "cell_type": "code",
   "execution_count": 72,
   "id": "32ecdc87",
   "metadata": {},
   "outputs": [
    {
     "data": {
      "text/plain": [
       "True"
      ]
     },
     "execution_count": 72,
     "metadata": {},
     "output_type": "execute_result"
    }
   ],
   "source": [
    "bool([1,2,3])"
   ]
  },
  {
   "cell_type": "code",
   "execution_count": 73,
   "id": "c86ee656",
   "metadata": {},
   "outputs": [
    {
     "data": {
      "text/plain": [
       "False"
      ]
     },
     "execution_count": 73,
     "metadata": {},
     "output_type": "execute_result"
    }
   ],
   "source": [
    "bool([])"
   ]
  },
  {
   "cell_type": "code",
   "execution_count": 74,
   "id": "231e441a",
   "metadata": {},
   "outputs": [
    {
     "data": {
      "text/plain": [
       "False"
      ]
     },
     "execution_count": 74,
     "metadata": {},
     "output_type": "execute_result"
    }
   ],
   "source": [
    "bool(0)"
   ]
  },
  {
   "cell_type": "code",
   "execution_count": 75,
   "id": "0fb99d16",
   "metadata": {},
   "outputs": [
    {
     "data": {
      "text/plain": [
       "True"
      ]
     },
     "execution_count": 75,
     "metadata": {},
     "output_type": "execute_result"
    }
   ],
   "source": [
    "bool(3)"
   ]
  },
  {
   "cell_type": "markdown",
   "id": "71cb3ed5",
   "metadata": {},
   "source": [
    "# 변수"
   ]
  },
  {
   "cell_type": "code",
   "execution_count": 77,
   "id": "14ef5616",
   "metadata": {},
   "outputs": [],
   "source": [
    "a=[1,2,3]"
   ]
  },
  {
   "cell_type": "code",
   "execution_count": 78,
   "id": "5db22ccd",
   "metadata": {
    "scrolled": true
   },
   "outputs": [
    {
     "data": {
      "text/plain": [
       "2462469701312"
      ]
     },
     "execution_count": 78,
     "metadata": {},
     "output_type": "execute_result"
    }
   ],
   "source": [
    "id(a)  #주소값"
   ]
  },
  {
   "cell_type": "code",
   "execution_count": 80,
   "id": "0747c9d8",
   "metadata": {},
   "outputs": [
    {
     "data": {
      "text/plain": [
       "2462469701312"
      ]
     },
     "execution_count": 80,
     "metadata": {},
     "output_type": "execute_result"
    }
   ],
   "source": [
    "b=a\n",
    "id(a)\n"
   ]
  },
  {
   "cell_type": "code",
   "execution_count": 81,
   "id": "43355e66",
   "metadata": {},
   "outputs": [
    {
     "data": {
      "text/plain": [
       "2462469701312"
      ]
     },
     "execution_count": 81,
     "metadata": {},
     "output_type": "execute_result"
    }
   ],
   "source": [
    "id(b)"
   ]
  },
  {
   "cell_type": "markdown",
   "id": "54f2aee9",
   "metadata": {},
   "source": [
    "## [:] 이용하기"
   ]
  },
  {
   "cell_type": "code",
   "execution_count": 84,
   "id": "83967a9d",
   "metadata": {},
   "outputs": [
    {
     "data": {
      "text/plain": [
       "False"
      ]
     },
     "execution_count": 84,
     "metadata": {},
     "output_type": "execute_result"
    }
   ],
   "source": [
    "a is b"
   ]
  },
  {
   "cell_type": "code",
   "execution_count": 85,
   "id": "710d1654",
   "metadata": {},
   "outputs": [
    {
     "data": {
      "text/plain": [
       "[1, 4, 3]"
      ]
     },
     "execution_count": 85,
     "metadata": {},
     "output_type": "execute_result"
    }
   ],
   "source": [
    "a=[1,2,3]\n",
    "b=a[:]\n",
    "a[1]=4\n",
    "a"
   ]
  },
  {
   "cell_type": "code",
   "execution_count": 86,
   "id": "c1bfb374",
   "metadata": {},
   "outputs": [
    {
     "data": {
      "text/plain": [
       "[1, 2, 3]"
      ]
     },
     "execution_count": 86,
     "metadata": {},
     "output_type": "execute_result"
    }
   ],
   "source": [
    "b"
   ]
  },
  {
   "cell_type": "code",
   "execution_count": 89,
   "id": "88f07cc8",
   "metadata": {},
   "outputs": [],
   "source": [
    "from copy import copy\n",
    "a=[1,2,3]\n",
    "b=copy(a)  #b=a[:]"
   ]
  },
  {
   "cell_type": "code",
   "execution_count": 90,
   "id": "99e31363",
   "metadata": {},
   "outputs": [
    {
     "data": {
      "text/plain": [
       "False"
      ]
     },
     "execution_count": 90,
     "metadata": {},
     "output_type": "execute_result"
    }
   ],
   "source": [
    "b is a  #객체 비교, id가 다름"
   ]
  },
  {
   "cell_type": "code",
   "execution_count": 91,
   "id": "e3b22ada",
   "metadata": {},
   "outputs": [
    {
     "data": {
      "text/plain": [
       "[1, 2, 3]"
      ]
     },
     "execution_count": 91,
     "metadata": {},
     "output_type": "execute_result"
    }
   ],
   "source": [
    "b"
   ]
  },
  {
   "cell_type": "code",
   "execution_count": 92,
   "id": "3fdcda18",
   "metadata": {},
   "outputs": [
    {
     "data": {
      "text/plain": [
       "True"
      ]
     },
     "execution_count": 92,
     "metadata": {},
     "output_type": "execute_result"
    }
   ],
   "source": [
    "b==a  #요소 비교, 실제 값을 비교한 것"
   ]
  },
  {
   "cell_type": "markdown",
   "id": "c29d949a",
   "metadata": {},
   "source": [
    "## 변수를 만드는 여러가지 방법"
   ]
  },
  {
   "cell_type": "code",
   "execution_count": 95,
   "id": "47a3e193",
   "metadata": {},
   "outputs": [
    {
     "data": {
      "text/plain": [
       "'python'"
      ]
     },
     "execution_count": 95,
     "metadata": {},
     "output_type": "execute_result"
    }
   ],
   "source": [
    "a,b =('python','life')\n",
    "a"
   ]
  },
  {
   "cell_type": "code",
   "execution_count": 96,
   "id": "0b28cab4",
   "metadata": {},
   "outputs": [
    {
     "data": {
      "text/plain": [
       "'life'"
      ]
     },
     "execution_count": 96,
     "metadata": {},
     "output_type": "execute_result"
    }
   ],
   "source": [
    "b"
   ]
  },
  {
   "cell_type": "code",
   "execution_count": 97,
   "id": "ee1d0c91",
   "metadata": {},
   "outputs": [
    {
     "data": {
      "text/plain": [
       "'python'"
      ]
     },
     "execution_count": 97,
     "metadata": {},
     "output_type": "execute_result"
    }
   ],
   "source": [
    "(a,b)='python','life'  #바로 위의 코드랑 동일한 결과값 출력\n",
    "a"
   ]
  },
  {
   "cell_type": "code",
   "execution_count": 98,
   "id": "522d42e7",
   "metadata": {},
   "outputs": [
    {
     "data": {
      "text/plain": [
       "'life'"
      ]
     },
     "execution_count": 98,
     "metadata": {},
     "output_type": "execute_result"
    }
   ],
   "source": [
    "b"
   ]
  },
  {
   "cell_type": "code",
   "execution_count": 101,
   "id": "eb10a127",
   "metadata": {},
   "outputs": [
    {
     "data": {
      "text/plain": [
       "'python'"
      ]
     },
     "execution_count": 101,
     "metadata": {},
     "output_type": "execute_result"
    }
   ],
   "source": [
    "[a,b] = ['python','life']\n",
    "a=b='python'\n",
    "a"
   ]
  },
  {
   "cell_type": "code",
   "execution_count": 102,
   "id": "b846970f",
   "metadata": {},
   "outputs": [
    {
     "data": {
      "text/plain": [
       "'python'"
      ]
     },
     "execution_count": 102,
     "metadata": {},
     "output_type": "execute_result"
    }
   ],
   "source": [
    "b"
   ]
  },
  {
   "cell_type": "code",
   "execution_count": 103,
   "id": "e5f8811e",
   "metadata": {},
   "outputs": [
    {
     "data": {
      "text/plain": [
       "5"
      ]
     },
     "execution_count": 103,
     "metadata": {},
     "output_type": "execute_result"
    }
   ],
   "source": [
    "# 두 변수 서로 바꾸기\n",
    "\n",
    "a=3\n",
    "b=5\n",
    "a,b=b,a\n",
    "a"
   ]
  },
  {
   "cell_type": "code",
   "execution_count": 104,
   "id": "da12c80c",
   "metadata": {},
   "outputs": [
    {
     "data": {
      "text/plain": [
       "3"
      ]
     },
     "execution_count": 104,
     "metadata": {},
     "output_type": "execute_result"
    }
   ],
   "source": [
    "b"
   ]
  },
  {
   "cell_type": "code",
   "execution_count": null,
   "id": "466f08ed",
   "metadata": {},
   "outputs": [],
   "source": []
  }
 ],
 "metadata": {
  "kernelspec": {
   "display_name": "Python 3 (ipykernel)",
   "language": "python",
   "name": "python3"
  },
  "language_info": {
   "codemirror_mode": {
    "name": "ipython",
    "version": 3
   },
   "file_extension": ".py",
   "mimetype": "text/x-python",
   "name": "python",
   "nbconvert_exporter": "python",
   "pygments_lexer": "ipython3",
   "version": "3.11.5"
  },
  "toc": {
   "base_numbering": 1,
   "nav_menu": {},
   "number_sections": true,
   "sideBar": true,
   "skip_h1_title": false,
   "title_cell": "Table of Contents",
   "title_sidebar": "Contents",
   "toc_cell": false,
   "toc_position": {},
   "toc_section_display": true,
   "toc_window_display": false
  }
 },
 "nbformat": 4,
 "nbformat_minor": 5
}
