{
 "cells": [
  {
   "cell_type": "markdown",
   "id": "9a8fcba4",
   "metadata": {},
   "source": [
    "# 클래스&예외처리"
   ]
  },
  {
   "cell_type": "markdown",
   "id": "d32ecf04",
   "metadata": {},
   "source": [
    "## 클래스"
   ]
  },
  {
   "cell_type": "code",
   "execution_count": 1,
   "id": "775212fa",
   "metadata": {},
   "outputs": [
    {
     "name": "stdout",
     "output_type": "stream",
     "text": [
      "3\n",
      "7\n"
     ]
    }
   ],
   "source": [
    "result=0\n",
    "\n",
    "def add(num):\n",
    "    global result  #global : 전역변수\n",
    "    result+=num\n",
    "    return result\n",
    "\n",
    "print(add(3))\n",
    "print(add(4))"
   ]
  },
  {
   "cell_type": "code",
   "execution_count": 2,
   "id": "04f7ebbe",
   "metadata": {},
   "outputs": [
    {
     "name": "stdout",
     "output_type": "stream",
     "text": [
      "3\n",
      "4\n",
      "7\n",
      "14\n"
     ]
    }
   ],
   "source": [
    "result1=0\n",
    "result2=0\n",
    "\n",
    "def add1(num):\n",
    "    global result1\n",
    "    result1+=num\n",
    "    return result1\n",
    "\n",
    "def add2(num):   \n",
    "    global result2\n",
    "    result2+=num\n",
    "    return result2\n",
    "\n",
    "\n",
    "print(add1(3))\n",
    "print(add2(4))\n",
    "print(add2(3))\n",
    "print(add2(7))"
   ]
  },
  {
   "cell_type": "code",
   "execution_count": 6,
   "id": "603b4845",
   "metadata": {},
   "outputs": [
    {
     "name": "stdout",
     "output_type": "stream",
     "text": [
      "3\n",
      "7\n",
      "3\n",
      "10\n"
     ]
    }
   ],
   "source": [
    "class Calculator:\n",
    "    def __init__(self):   #초기화\n",
    "        self.result=0\n",
    "        \n",
    "    def add(self, num):  #덧셈\n",
    "        self.result+=num\n",
    "        return self.result\n",
    "    \n",
    "    def sub(self,num):   #뺄셈\n",
    "    self.result-=num\n",
    "    return self.result\n",
    "    \n",
    "cal1=Calculator()\n",
    "cal2=Calculator()\n",
    "\n",
    "print(cal1.add(3))\n",
    "print(cal1.add(4))\n",
    "print(cal2.add(3))\n",
    "print(cal2.add(7))"
   ]
  },
  {
   "cell_type": "markdown",
   "id": "f1e00705",
   "metadata": {},
   "source": [
    "## 클래스와 객체"
   ]
  },
  {
   "cell_type": "markdown",
   "id": "28ff11d0",
   "metadata": {},
   "source": [
    "### 클래스 구조 만들기"
   ]
  },
  {
   "cell_type": "code",
   "execution_count": 8,
   "id": "9b61dead",
   "metadata": {},
   "outputs": [],
   "source": [
    "class FourCal:\n",
    "    pass"
   ]
  },
  {
   "cell_type": "code",
   "execution_count": 9,
   "id": "5f68395a",
   "metadata": {},
   "outputs": [
    {
     "data": {
      "text/plain": [
       "__main__.FourCal"
      ]
     },
     "execution_count": 9,
     "metadata": {},
     "output_type": "execute_result"
    }
   ],
   "source": [
    "a=FourCal()\n",
    "type(a)"
   ]
  },
  {
   "cell_type": "markdown",
   "id": "e990f4f5",
   "metadata": {},
   "source": [
    "### 객체에 연산할 숫자 지정하기"
   ]
  },
  {
   "cell_type": "code",
   "execution_count": 11,
   "id": "f92fcb50",
   "metadata": {},
   "outputs": [],
   "source": [
    "class FourCal:\n",
    "    def setdata(self, first, second):   # 메서드의 매개변수\n",
    "        self.first=first   #메서드의 수행문\n",
    "        self.second=second   #메서드의 수행문\n",
    "        "
   ]
  },
  {
   "cell_type": "markdown",
   "id": "19d57153",
   "metadata": {},
   "source": [
    "### setdata 메서드의 매개변수"
   ]
  },
  {
   "cell_type": "code",
   "execution_count": 12,
   "id": "07373fae",
   "metadata": {},
   "outputs": [],
   "source": [
    "a=FourCal()\n",
    "a.setdata(4,2)"
   ]
  },
  {
   "cell_type": "markdown",
   "id": "14d58f40",
   "metadata": {},
   "source": [
    "### 메서드를 호출하는 또 다른 방법"
   ]
  },
  {
   "cell_type": "code",
   "execution_count": 14,
   "id": "4fd59d1c",
   "metadata": {},
   "outputs": [],
   "source": [
    "a=FourCal()\n",
    "FourCal.setdata(a,4,2)"
   ]
  },
  {
   "cell_type": "code",
   "execution_count": 16,
   "id": "c76fbda2",
   "metadata": {},
   "outputs": [],
   "source": [
    "a=FourCal()\n",
    "a.setdata(4,2)"
   ]
  },
  {
   "cell_type": "markdown",
   "id": "3f6f19f6",
   "metadata": {},
   "source": [
    "### setdata 메서드의 수행문"
   ]
  },
  {
   "cell_type": "code",
   "execution_count": 17,
   "id": "74ce6558",
   "metadata": {},
   "outputs": [],
   "source": [
    "def setdata(self, first, second):   #메서드의 매개변수\n",
    "    self.first=first   # 메서드의 수행문\n",
    "    self.second=second   #메서드의 수행문"
   ]
  },
  {
   "cell_type": "code",
   "execution_count": 20,
   "id": "c28a96d6",
   "metadata": {},
   "outputs": [],
   "source": [
    "a.setdata(4,2)\n",
    "# self.first=4 -> a.first=4\n",
    "# self.second=2 -> a.second=2"
   ]
  },
  {
   "cell_type": "code",
   "execution_count": 21,
   "id": "b2ad64d3",
   "metadata": {},
   "outputs": [
    {
     "data": {
      "text/plain": [
       "4"
      ]
     },
     "execution_count": 21,
     "metadata": {},
     "output_type": "execute_result"
    }
   ],
   "source": [
    "a=FourCal()\n",
    "a.setdata(4,2)\n",
    "a.first"
   ]
  },
  {
   "cell_type": "code",
   "execution_count": 24,
   "id": "58844427",
   "metadata": {},
   "outputs": [
    {
     "data": {
      "text/plain": [
       "3"
      ]
     },
     "execution_count": 24,
     "metadata": {},
     "output_type": "execute_result"
    }
   ],
   "source": [
    "b=FourCal()\n",
    "b.setdata(3,7)\n",
    "b.first"
   ]
  },
  {
   "cell_type": "markdown",
   "id": "0a54a911",
   "metadata": {},
   "source": [
    "### 더하기 기능 만들기"
   ]
  },
  {
   "cell_type": "code",
   "execution_count": 26,
   "id": "dd7e9b63",
   "metadata": {},
   "outputs": [],
   "source": [
    "class FourCal:\n",
    "    def setdata(self, first, second):\n",
    "        self.first=first\n",
    "        self.second=second\n",
    "    def add(self):\n",
    "        result=self.first+self.second\n",
    "        return result"
   ]
  },
  {
   "cell_type": "code",
   "execution_count": 27,
   "id": "a33dbcf3",
   "metadata": {},
   "outputs": [
    {
     "data": {
      "text/plain": [
       "6"
      ]
     },
     "execution_count": 27,
     "metadata": {},
     "output_type": "execute_result"
    }
   ],
   "source": [
    "a=FourCal()\n",
    "a.setdata(4,2)\n",
    "a.add()"
   ]
  },
  {
   "cell_type": "markdown",
   "id": "3cb415f4",
   "metadata": {},
   "source": [
    "### 곱하기, 빼기, 나누기 기능 만들기"
   ]
  },
  {
   "cell_type": "code",
   "execution_count": 34,
   "id": "483e1415",
   "metadata": {},
   "outputs": [],
   "source": [
    "class FourCal:\n",
    "    def setdata(self, first, second):\n",
    "        self.first=first\n",
    "        self.second=second\n",
    "    \n",
    "    def add(self):\n",
    "        result=self.first+self.second\n",
    "        return result\n",
    "    \n",
    "    def sub(self):\n",
    "        result=self.first-self.second\n",
    "        return result\n",
    "    \n",
    "    def mul(self):\n",
    "        result=self.first * self.second\n",
    "        return result\n",
    "    \n",
    "    def div(self):\n",
    "        result=self.first/self.second\n",
    "        return result"
   ]
  },
  {
   "cell_type": "code",
   "execution_count": 36,
   "id": "27ab18d6",
   "metadata": {},
   "outputs": [
    {
     "name": "stdout",
     "output_type": "stream",
     "text": [
      "6\n",
      "8\n",
      "2\n",
      "2.0\n",
      "11\n",
      "24\n",
      "-5\n",
      "0.375\n"
     ]
    }
   ],
   "source": [
    "a=FourCal()\n",
    "b=FourCal()\n",
    "\n",
    "a.setdata(4,2)\n",
    "b.setdata(3,8)\n",
    "\n",
    "print(a.add())\n",
    "print(a.mul())\n",
    "print(a.sub())\n",
    "print(a.div())\n",
    "\n",
    "print(b.add())\n",
    "print(b.mul())\n",
    "print(b.sub())\n",
    "print(b.div())"
   ]
  },
  {
   "cell_type": "markdown",
   "id": "a86622fa",
   "metadata": {},
   "source": [
    "## 생성자"
   ]
  },
  {
   "cell_type": "code",
   "execution_count": 37,
   "id": "62c183c8",
   "metadata": {},
   "outputs": [],
   "source": [
    "class FourCal:\n",
    "    def __init__(self, first,second):   #생성자로 인식되어 객체가 생성되는 시점에 자동 호출\n",
    "        self.first=first\n",
    "        self.second=second\n",
    "    \n",
    "    def setdata(self, first, second):\n",
    "        self.first=first\n",
    "        self.second=second\n",
    "    \n",
    "    def add(self):\n",
    "        result=self.first+self.second\n",
    "        return result\n",
    "    \n",
    "    def sub(self):\n",
    "        result=self.first-self.second\n",
    "        return result\n",
    "    \n",
    "    def mul(self):\n",
    "        result=self.first * self.second\n",
    "        return result\n",
    "    \n",
    "    def div(self):\n",
    "        result=self.first/self.second\n",
    "        return result"
   ]
  },
  {
   "cell_type": "code",
   "execution_count": 38,
   "id": "8e71eede",
   "metadata": {},
   "outputs": [
    {
     "ename": "TypeError",
     "evalue": "FourCal.__init__() missing 2 required positional arguments: 'first' and 'second'",
     "output_type": "error",
     "traceback": [
      "\u001b[1;31m---------------------------------------------------------------------------\u001b[0m",
      "\u001b[1;31mTypeError\u001b[0m                                 Traceback (most recent call last)",
      "Cell \u001b[1;32mIn[38], line 1\u001b[0m\n\u001b[1;32m----> 1\u001b[0m a\u001b[38;5;241m=\u001b[39mFourCal()\n",
      "\u001b[1;31mTypeError\u001b[0m: FourCal.__init__() missing 2 required positional arguments: 'first' and 'second'"
     ]
    }
   ],
   "source": [
    "a=FourCal()   # 오류 발생 이유 : 생성자의 매개변수 first와 second에 해당하는 값이 전달되지 않았기 때문"
   ]
  },
  {
   "cell_type": "code",
   "execution_count": 39,
   "id": "0a112223",
   "metadata": {},
   "outputs": [],
   "source": [
    "a=FourCal(4,2)"
   ]
  },
  {
   "cell_type": "code",
   "execution_count": 40,
   "id": "7a3c420e",
   "metadata": {},
   "outputs": [
    {
     "data": {
      "text/plain": [
       "4"
      ]
     },
     "execution_count": 40,
     "metadata": {},
     "output_type": "execute_result"
    }
   ],
   "source": [
    "a.first"
   ]
  },
  {
   "cell_type": "code",
   "execution_count": 41,
   "id": "875873ee",
   "metadata": {},
   "outputs": [
    {
     "data": {
      "text/plain": [
       "2"
      ]
     },
     "execution_count": 41,
     "metadata": {},
     "output_type": "execute_result"
    }
   ],
   "source": [
    "a.second"
   ]
  },
  {
   "cell_type": "code",
   "execution_count": 42,
   "id": "55f49cbc",
   "metadata": {},
   "outputs": [
    {
     "data": {
      "text/plain": [
       "6"
      ]
     },
     "execution_count": 42,
     "metadata": {},
     "output_type": "execute_result"
    }
   ],
   "source": [
    "a.add()"
   ]
  },
  {
   "cell_type": "code",
   "execution_count": 43,
   "id": "cf5f7067",
   "metadata": {},
   "outputs": [
    {
     "data": {
      "text/plain": [
       "2.0"
      ]
     },
     "execution_count": 43,
     "metadata": {},
     "output_type": "execute_result"
    }
   ],
   "source": [
    "a.div()"
   ]
  },
  {
   "cell_type": "markdown",
   "id": "77775181",
   "metadata": {},
   "source": [
    "### 예제) 은행 예금 출금 클래스를 만들어 보자"
   ]
  },
  {
   "cell_type": "markdown",
   "id": "c5ca873a",
   "metadata": {},
   "source": [
    "* input : 계좌번호, 계좌소유자명, 잔액\n",
    "* 기능 1 : 입금\n",
    "* 기능 2 : 출금\n",
    "* 기능 3 : 조회\n"
   ]
  },
  {
   "cell_type": "code",
   "execution_count": 46,
   "id": "498c408c",
   "metadata": {},
   "outputs": [],
   "source": [
    "class Account():\n",
    "    company='한국은행'  #클래스 변수\n",
    "    \n",
    "    def __init__(self,no,name):\n",
    "        self.no=no\n",
    "        self.name=name\n",
    "        self.balance=0\n",
    "        \n",
    "    def deposit(self,money):   #입금\n",
    "        self.balance+=money\n",
    "    \n",
    "    def withdraw(self,money):   #출금\n",
    "        self.balance-=money\n",
    "        \n",
    "    def __str__(self):\n",
    "        return f'계좌번호 : {self.no}, 계좌소유자 : {self.name}, 잔액 : {self.balance}'\n"
   ]
  },
  {
   "cell_type": "code",
   "execution_count": 47,
   "id": "d3fa0d40",
   "metadata": {},
   "outputs": [
    {
     "name": "stdout",
     "output_type": "stream",
     "text": [
      "계좌번호 : 1234, 계좌소유자 : jy, 잔액 : 0\n"
     ]
    }
   ],
   "source": [
    "#a1=Account()\n",
    "a1=Account(1234,'jy')\n",
    "print(a1)"
   ]
  },
  {
   "cell_type": "code",
   "execution_count": 48,
   "id": "85270c35",
   "metadata": {},
   "outputs": [
    {
     "name": "stdout",
     "output_type": "stream",
     "text": [
      "계좌번호 : 1234, 계좌소유자 : jy, 잔액 : 1000\n"
     ]
    }
   ],
   "source": [
    "#입금\n",
    "\n",
    "a1.deposit(1000)\n",
    "print(a1)"
   ]
  },
  {
   "cell_type": "code",
   "execution_count": 49,
   "id": "be3b2b48",
   "metadata": {},
   "outputs": [
    {
     "name": "stdout",
     "output_type": "stream",
     "text": [
      "계좌번호 : 1234, 계좌소유자 : jy, 잔액 : 900\n"
     ]
    }
   ],
   "source": [
    "#출금\n",
    "\n",
    "a1.withdraw(100)\n",
    "print(a1)"
   ]
  },
  {
   "cell_type": "code",
   "execution_count": 51,
   "id": "61742f79",
   "metadata": {},
   "outputs": [
    {
     "data": {
      "text/plain": [
       "'계좌번호 : 1234, 계좌소유자 : jy, 잔액 : 900'"
      ]
     },
     "execution_count": 51,
     "metadata": {},
     "output_type": "execute_result"
    }
   ],
   "source": [
    "#조회\n",
    "\n",
    "a1.__str__()"
   ]
  },
  {
   "cell_type": "code",
   "execution_count": null,
   "id": "f3f4c7b1",
   "metadata": {},
   "outputs": [],
   "source": []
  }
 ],
 "metadata": {
  "kernelspec": {
   "display_name": "Python 3 (ipykernel)",
   "language": "python",
   "name": "python3"
  },
  "language_info": {
   "codemirror_mode": {
    "name": "ipython",
    "version": 3
   },
   "file_extension": ".py",
   "mimetype": "text/x-python",
   "name": "python",
   "nbconvert_exporter": "python",
   "pygments_lexer": "ipython3",
   "version": "3.11.5"
  },
  "toc": {
   "base_numbering": 1,
   "nav_menu": {},
   "number_sections": true,
   "sideBar": true,
   "skip_h1_title": false,
   "title_cell": "Table of Contents",
   "title_sidebar": "Contents",
   "toc_cell": false,
   "toc_position": {},
   "toc_section_display": true,
   "toc_window_display": false
  }
 },
 "nbformat": 4,
 "nbformat_minor": 5
}
