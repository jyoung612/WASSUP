{
 "cells": [
  {
   "cell_type": "markdown",
   "id": "c8d466e9",
   "metadata": {},
   "source": [
    "# 제어문"
   ]
  },
  {
   "cell_type": "markdown",
   "id": "efe52f49",
   "metadata": {},
   "source": [
    "## IF문"
   ]
  },
  {
   "cell_type": "markdown",
   "id": "3e62edc5",
   "metadata": {},
   "source": [
    "### 비교 연산자"
   ]
  },
  {
   "cell_type": "code",
   "execution_count": 1,
   "id": "b08f9173",
   "metadata": {},
   "outputs": [
    {
     "data": {
      "text/plain": [
       "True"
      ]
     },
     "execution_count": 1,
     "metadata": {},
     "output_type": "execute_result"
    }
   ],
   "source": [
    "x=3\n",
    "y=2\n",
    "x>y"
   ]
  },
  {
   "cell_type": "code",
   "execution_count": 2,
   "id": "69483d25",
   "metadata": {},
   "outputs": [
    {
     "data": {
      "text/plain": [
       "False"
      ]
     },
     "execution_count": 2,
     "metadata": {},
     "output_type": "execute_result"
    }
   ],
   "source": [
    "x<y"
   ]
  },
  {
   "cell_type": "code",
   "execution_count": 3,
   "id": "54652555",
   "metadata": {},
   "outputs": [
    {
     "data": {
      "text/plain": [
       "False"
      ]
     },
     "execution_count": 3,
     "metadata": {},
     "output_type": "execute_result"
    }
   ],
   "source": [
    "x==y"
   ]
  },
  {
   "cell_type": "code",
   "execution_count": 4,
   "id": "53a6937d",
   "metadata": {},
   "outputs": [
    {
     "data": {
      "text/plain": [
       "True"
      ]
     },
     "execution_count": 4,
     "metadata": {},
     "output_type": "execute_result"
    }
   ],
   "source": [
    "x!=y"
   ]
  },
  {
   "cell_type": "code",
   "execution_count": 5,
   "id": "86b3f58c",
   "metadata": {},
   "outputs": [
    {
     "name": "stdout",
     "output_type": "stream",
     "text": [
      "걸어가라\n"
     ]
    }
   ],
   "source": [
    "money=2000\n",
    "if money>=3000:\n",
    "    print(\"택시를 타고 가라\")\n",
    "else:\n",
    "    print(\"걸어가라\")"
   ]
  },
  {
   "cell_type": "markdown",
   "id": "be40b9cb",
   "metadata": {},
   "source": [
    "### and, or, not"
   ]
  },
  {
   "cell_type": "code",
   "execution_count": 6,
   "id": "3a0d583c",
   "metadata": {},
   "outputs": [
    {
     "name": "stdout",
     "output_type": "stream",
     "text": [
      "택시를 타고 가라\n"
     ]
    }
   ],
   "source": [
    "money=2000\n",
    "card=True\n",
    "if money>=3000 or card:\n",
    "    print(\"택시를 타고 가라\")\n",
    "else:\n",
    "    print(\"걸어가라\")"
   ]
  },
  {
   "cell_type": "markdown",
   "id": "c84ad167",
   "metadata": {},
   "source": [
    "### 시퀀스 연산(in, not in)"
   ]
  },
  {
   "cell_type": "code",
   "execution_count": 7,
   "id": "2f6bfa63",
   "metadata": {},
   "outputs": [
    {
     "data": {
      "text/plain": [
       "True"
      ]
     },
     "execution_count": 7,
     "metadata": {},
     "output_type": "execute_result"
    }
   ],
   "source": [
    "1 in [1,2,3]"
   ]
  },
  {
   "cell_type": "code",
   "execution_count": 8,
   "id": "a132ccc7",
   "metadata": {},
   "outputs": [
    {
     "data": {
      "text/plain": [
       "False"
      ]
     },
     "execution_count": 8,
     "metadata": {},
     "output_type": "execute_result"
    }
   ],
   "source": [
    "1 not in [1,2,3]"
   ]
  },
  {
   "cell_type": "code",
   "execution_count": 9,
   "id": "6830bd56",
   "metadata": {},
   "outputs": [
    {
     "data": {
      "text/plain": [
       "True"
      ]
     },
     "execution_count": 9,
     "metadata": {},
     "output_type": "execute_result"
    }
   ],
   "source": [
    "'a' in ('a','b','c')"
   ]
  },
  {
   "cell_type": "code",
   "execution_count": 10,
   "id": "267564ad",
   "metadata": {},
   "outputs": [
    {
     "data": {
      "text/plain": [
       "True"
      ]
     },
     "execution_count": 10,
     "metadata": {},
     "output_type": "execute_result"
    }
   ],
   "source": [
    "'j' not in 'python'"
   ]
  },
  {
   "cell_type": "code",
   "execution_count": 11,
   "id": "54d4bd33",
   "metadata": {},
   "outputs": [
    {
     "name": "stdout",
     "output_type": "stream",
     "text": [
      "택시를 타고 가라\n"
     ]
    }
   ],
   "source": [
    "pocket=['paper','cellphone','money']\n",
    "if 'money' in pocket:\n",
    "    print(\"택시를 타고 가라\")\n",
    "else:\n",
    "    print(\"걸어가라\")"
   ]
  },
  {
   "cell_type": "code",
   "execution_count": 12,
   "id": "f5fbf952",
   "metadata": {},
   "outputs": [],
   "source": [
    "pocket=['paper','money','cellphone']\n",
    "if 'money' in pocket:\n",
    "    pass  #아무런 일도 하지 않도록 설정\n",
    "else:\n",
    "    print(\"카드를 꺼내라\")"
   ]
  },
  {
   "cell_type": "markdown",
   "id": "10c47458",
   "metadata": {},
   "source": [
    "## 다양한 조건 판단하는 elif"
   ]
  },
  {
   "cell_type": "code",
   "execution_count": 13,
   "id": "48bd2552",
   "metadata": {},
   "outputs": [
    {
     "name": "stdout",
     "output_type": "stream",
     "text": [
      "택시를 타고 가라\n"
     ]
    }
   ],
   "source": [
    "pocket=['paper','cellphone']\n",
    "card=True\n",
    "if 'money' in pocket:\n",
    "    print(\"택시를 타고가라\")\n",
    "else:\n",
    "    if card:\n",
    "        print(\"택시를 타고 가라\")\n",
    "    else:\n",
    "        print(\"걸어가라\")"
   ]
  },
  {
   "cell_type": "code",
   "execution_count": 14,
   "id": "14b72a5c",
   "metadata": {},
   "outputs": [
    {
     "name": "stdout",
     "output_type": "stream",
     "text": [
      "택시를 타고 가라\n"
     ]
    }
   ],
   "source": [
    "pocket=['paper','cellphone']\n",
    "card=True\n",
    "if 'money' in pocket:\n",
    "    print(\"택시를 타고가라\")\n",
    "elif card:\n",
    "    print(\"택시를 타고 가라\")\n",
    "else:\n",
    "    print(\"걸어가라\")"
   ]
  },
  {
   "cell_type": "code",
   "execution_count": 15,
   "id": "c694fe4b",
   "metadata": {},
   "outputs": [],
   "source": [
    "pocket=['paper','money','cellphone']\n",
    "if 'money' in pocket:pass\n",
    "else: print(\"카드를 꺼내라\")"
   ]
  },
  {
   "cell_type": "markdown",
   "id": "05735d6b",
   "metadata": {},
   "source": [
    "## 조건부 표현식"
   ]
  },
  {
   "cell_type": "code",
   "execution_count": 16,
   "id": "0df65961",
   "metadata": {},
   "outputs": [
    {
     "name": "stdout",
     "output_type": "stream",
     "text": [
      "failure\n"
     ]
    }
   ],
   "source": [
    "score=57\n",
    "if score>=60:\n",
    "    message=\"success\"\n",
    "else:\n",
    "    message=\"failure\"\n",
    "print(message)"
   ]
  },
  {
   "cell_type": "code",
   "execution_count": 17,
   "id": "a335a60a",
   "metadata": {},
   "outputs": [
    {
     "name": "stdout",
     "output_type": "stream",
     "text": [
      "falilure\n"
     ]
    }
   ],
   "source": [
    "message=\"success\" if score>=60 else \"falilure\"\n",
    "print(message)"
   ]
  },
  {
   "cell_type": "markdown",
   "id": "e3bd1d18",
   "metadata": {},
   "source": [
    "## while문"
   ]
  },
  {
   "cell_type": "code",
   "execution_count": 18,
   "id": "f1352583",
   "metadata": {},
   "outputs": [
    {
     "name": "stdout",
     "output_type": "stream",
     "text": [
      "나무를 1번 찍었습니다.\n",
      "나무를 2번 찍었습니다.\n",
      "나무를 3번 찍었습니다.\n",
      "나무를 4번 찍었습니다.\n",
      "나무를 5번 찍었습니다.\n",
      "나무를 6번 찍었습니다.\n",
      "나무를 7번 찍었습니다.\n",
      "나무를 8번 찍었습니다.\n",
      "나무를 9번 찍었습니다.\n",
      "나무를 10번 찍었습니다.\n",
      "나무 넘어갑니다.\n"
     ]
    }
   ],
   "source": [
    "treeHit=0\n",
    "while treeHit<10:\n",
    "    treeHit=treeHit+1\n",
    "    print(\"나무를 %d번 찍었습니다.\" % treeHit)\n",
    "    if treeHit==10:\n",
    "        print(\"나무 넘어갑니다.\")"
   ]
  },
  {
   "cell_type": "code",
   "execution_count": 19,
   "id": "d119683a",
   "metadata": {},
   "outputs": [
    {
     "name": "stdout",
     "output_type": "stream",
     "text": [
      "나무를 1번 찍었습니다.\n",
      "나무를 2번 찍었습니다.\n",
      "나무를 3번 찍었습니다.\n",
      "나무를 4번 찍었습니다.\n",
      "나무를 5번 찍었습니다.\n",
      "나무를 6번 찍었습니다.\n",
      "나무를 7번 찍었습니다.\n",
      "나무를 8번 찍었습니다.\n",
      "나무를 9번 찍었습니다.\n",
      "나무를 10번 찍었습니다.\n",
      "나무 넘어갑니다.\n"
     ]
    }
   ],
   "source": [
    "treeHit=1  #treeHIt이 1일때\n",
    "while treeHit<11:  #혹은 while treeHit<=10:\n",
    "    print(\"나무를 %d번 찍었습니다.\" % treeHit)\n",
    "    if treeHit==10:\n",
    "        print(\"나무 넘어갑니다.\")\n",
    "    treeHit=treeHit+1\n"
   ]
  },
  {
   "cell_type": "code",
   "execution_count": 20,
   "id": "4b14a445",
   "metadata": {},
   "outputs": [],
   "source": [
    "prompt = \"\"\"\n",
    "1.Add\n",
    "2.Del\n",
    "3.List\n",
    "4.Quit\n",
    "\n",
    "Enter number: \"\"\""
   ]
  },
  {
   "cell_type": "code",
   "execution_count": 21,
   "id": "37e2da7b",
   "metadata": {},
   "outputs": [
    {
     "name": "stdout",
     "output_type": "stream",
     "text": [
      "\n",
      "1.Add\n",
      "2.Del\n",
      "3.List\n",
      "4.Quit\n",
      "\n",
      "Enter number: \n",
      "3\n",
      "\n",
      "1.Add\n",
      "2.Del\n",
      "3.List\n",
      "4.Quit\n",
      "\n",
      "Enter number: \n",
      "4\n"
     ]
    }
   ],
   "source": [
    "number=0\n",
    "while number !=4:\n",
    "    print(prompt)\n",
    "    number=int(input())"
   ]
  },
  {
   "cell_type": "markdown",
   "id": "5a8b2d61",
   "metadata": {},
   "source": [
    "## while문 강제로 빠져나오기 break문"
   ]
  },
  {
   "cell_type": "code",
   "execution_count": 22,
   "id": "ef792220",
   "metadata": {},
   "outputs": [
    {
     "name": "stdout",
     "output_type": "stream",
     "text": [
      "돈을 받았으니 커피를 줍니다.\n",
      "남은 커피의 양은 9개 입니다.\n",
      "돈을 받았으니 커피를 줍니다.\n",
      "남은 커피의 양은 8개 입니다.\n",
      "돈을 받았으니 커피를 줍니다.\n",
      "남은 커피의 양은 7개 입니다.\n",
      "돈을 받았으니 커피를 줍니다.\n",
      "남은 커피의 양은 6개 입니다.\n",
      "돈을 받았으니 커피를 줍니다.\n",
      "남은 커피의 양은 5개 입니다.\n",
      "돈을 받았으니 커피를 줍니다.\n",
      "남은 커피의 양은 4개 입니다.\n",
      "돈을 받았으니 커피를 줍니다.\n",
      "남은 커피의 양은 3개 입니다.\n",
      "돈을 받았으니 커피를 줍니다.\n",
      "남은 커피의 양은 2개 입니다.\n",
      "돈을 받았으니 커피를 줍니다.\n",
      "남은 커피의 양은 1개 입니다.\n",
      "돈을 받았으니 커피를 줍니다.\n",
      "남은 커피의 양은 0개 입니다.\n",
      "커피가 다 떨어졌습니다. 판매를 중지합니다.\n"
     ]
    }
   ],
   "source": [
    "coffee=10\n",
    "money-300\n",
    "while money:\n",
    "    print(\"돈을 받았으니 커피를 줍니다.\")\n",
    "    coffee=coffee-1\n",
    "    print(\"남은 커피의 양은 %d개 입니다.\" % coffee)\n",
    "    if coffee==0:\n",
    "        print(\"커피가 다 떨어졌습니다. 판매를 중지합니다.\")\n",
    "        break"
   ]
  },
  {
   "cell_type": "code",
   "execution_count": 24,
   "id": "6304fe45",
   "metadata": {},
   "outputs": [
    {
     "name": "stdout",
     "output_type": "stream",
     "text": [
      "돈을 넣어 주세요: 300\n",
      "커피를 줍니다.\n",
      "돈을 넣어 주세요: 200\n",
      "돈을 다시 돌려주고 커피를 주지 않습니다.\n",
      "남은 커피의 양은 9개 입니다.\n",
      "돈을 넣어 주세요: 500\n",
      "거스름돈 200를 주고 커피를 줍니다.\n",
      "돈을 넣어 주세요: 0\n",
      "돈을 다시 돌려주고 커피를 주지 않습니다.\n",
      "남은 커피의 양은 8개 입니다.\n"
     ]
    },
    {
     "ename": "KeyboardInterrupt",
     "evalue": "Interrupted by user",
     "output_type": "error",
     "traceback": [
      "\u001b[1;31m---------------------------------------------------------------------------\u001b[0m",
      "\u001b[1;31mKeyboardInterrupt\u001b[0m                         Traceback (most recent call last)",
      "Cell \u001b[1;32mIn[24], line 3\u001b[0m\n\u001b[0;32m      1\u001b[0m coffee\u001b[38;5;241m=\u001b[39m\u001b[38;5;241m10\u001b[39m\n\u001b[0;32m      2\u001b[0m \u001b[38;5;28;01mwhile\u001b[39;00m \u001b[38;5;28;01mTrue\u001b[39;00m:\n\u001b[1;32m----> 3\u001b[0m     money\u001b[38;5;241m=\u001b[39m\u001b[38;5;28mint\u001b[39m(\u001b[38;5;28minput\u001b[39m(\u001b[38;5;124m\"\u001b[39m\u001b[38;5;124m돈을 넣어 주세요: \u001b[39m\u001b[38;5;124m\"\u001b[39m))\n\u001b[0;32m      4\u001b[0m     \u001b[38;5;28;01mif\u001b[39;00m money\u001b[38;5;241m==\u001b[39m\u001b[38;5;241m300\u001b[39m:\n\u001b[0;32m      5\u001b[0m         \u001b[38;5;28mprint\u001b[39m(\u001b[38;5;124m\"\u001b[39m\u001b[38;5;124m커피를 줍니다.\u001b[39m\u001b[38;5;124m\"\u001b[39m)\n",
      "File \u001b[1;32m~\\anaconda3\\Lib\\site-packages\\ipykernel\\kernelbase.py:1202\u001b[0m, in \u001b[0;36mKernel.raw_input\u001b[1;34m(self, prompt)\u001b[0m\n\u001b[0;32m   1200\u001b[0m     msg \u001b[38;5;241m=\u001b[39m \u001b[38;5;124m\"\u001b[39m\u001b[38;5;124mraw_input was called, but this frontend does not support input requests.\u001b[39m\u001b[38;5;124m\"\u001b[39m\n\u001b[0;32m   1201\u001b[0m     \u001b[38;5;28;01mraise\u001b[39;00m StdinNotImplementedError(msg)\n\u001b[1;32m-> 1202\u001b[0m \u001b[38;5;28;01mreturn\u001b[39;00m \u001b[38;5;28mself\u001b[39m\u001b[38;5;241m.\u001b[39m_input_request(\n\u001b[0;32m   1203\u001b[0m     \u001b[38;5;28mstr\u001b[39m(prompt),\n\u001b[0;32m   1204\u001b[0m     \u001b[38;5;28mself\u001b[39m\u001b[38;5;241m.\u001b[39m_parent_ident[\u001b[38;5;124m\"\u001b[39m\u001b[38;5;124mshell\u001b[39m\u001b[38;5;124m\"\u001b[39m],\n\u001b[0;32m   1205\u001b[0m     \u001b[38;5;28mself\u001b[39m\u001b[38;5;241m.\u001b[39mget_parent(\u001b[38;5;124m\"\u001b[39m\u001b[38;5;124mshell\u001b[39m\u001b[38;5;124m\"\u001b[39m),\n\u001b[0;32m   1206\u001b[0m     password\u001b[38;5;241m=\u001b[39m\u001b[38;5;28;01mFalse\u001b[39;00m,\n\u001b[0;32m   1207\u001b[0m )\n",
      "File \u001b[1;32m~\\anaconda3\\Lib\\site-packages\\ipykernel\\kernelbase.py:1245\u001b[0m, in \u001b[0;36mKernel._input_request\u001b[1;34m(self, prompt, ident, parent, password)\u001b[0m\n\u001b[0;32m   1242\u001b[0m \u001b[38;5;28;01mexcept\u001b[39;00m \u001b[38;5;167;01mKeyboardInterrupt\u001b[39;00m:\n\u001b[0;32m   1243\u001b[0m     \u001b[38;5;66;03m# re-raise KeyboardInterrupt, to truncate traceback\u001b[39;00m\n\u001b[0;32m   1244\u001b[0m     msg \u001b[38;5;241m=\u001b[39m \u001b[38;5;124m\"\u001b[39m\u001b[38;5;124mInterrupted by user\u001b[39m\u001b[38;5;124m\"\u001b[39m\n\u001b[1;32m-> 1245\u001b[0m     \u001b[38;5;28;01mraise\u001b[39;00m \u001b[38;5;167;01mKeyboardInterrupt\u001b[39;00m(msg) \u001b[38;5;28;01mfrom\u001b[39;00m \u001b[38;5;28;01mNone\u001b[39;00m\n\u001b[0;32m   1246\u001b[0m \u001b[38;5;28;01mexcept\u001b[39;00m \u001b[38;5;167;01mException\u001b[39;00m:\n\u001b[0;32m   1247\u001b[0m     \u001b[38;5;28mself\u001b[39m\u001b[38;5;241m.\u001b[39mlog\u001b[38;5;241m.\u001b[39mwarning(\u001b[38;5;124m\"\u001b[39m\u001b[38;5;124mInvalid Message:\u001b[39m\u001b[38;5;124m\"\u001b[39m, exc_info\u001b[38;5;241m=\u001b[39m\u001b[38;5;28;01mTrue\u001b[39;00m)\n",
      "\u001b[1;31mKeyboardInterrupt\u001b[0m: Interrupted by user"
     ]
    }
   ],
   "source": [
    "coffee=10\n",
    "while True:\n",
    "    money=int(input(\"돈을 넣어 주세요: \"))\n",
    "    if money==300:\n",
    "        print(\"커피를 줍니다.\")\n",
    "        coffee=coffee-1\n",
    "    elif money>300:\n",
    "        print(\"거스름돈 %d를 주고 커피를 줍니다.\" % (money-300))\n",
    "        coffee=coffee-1\n",
    "    else:\n",
    "        print(\"돈을 다시 돌려주고 커피를 주지 않습니다.\")\n",
    "        print(\"남은 커피의 양은 %d개 입니다.\" % coffee)\n",
    "    if coffee==0:\n",
    "        print(\"커피가 다 떨어졌습니다. 판매를 중지합니다.\")\n",
    "        break"
   ]
  },
  {
   "cell_type": "markdown",
   "id": "c5dee5a2",
   "metadata": {},
   "source": [
    "## while문의 맨 처음으로 돌아가기 continue"
   ]
  },
  {
   "cell_type": "code",
   "execution_count": 25,
   "id": "8e2acbac",
   "metadata": {},
   "outputs": [
    {
     "name": "stdout",
     "output_type": "stream",
     "text": [
      "1\n",
      "3\n",
      "5\n",
      "7\n",
      "9\n"
     ]
    }
   ],
   "source": [
    "a=0\n",
    "while a<10:\n",
    "    a+=1\n",
    "    if a%2==0: continue #조건문이 성립하면 while문의 맨 처음으로 돌아가라\n",
    "    print(a)"
   ]
  },
  {
   "cell_type": "code",
   "execution_count": 41,
   "id": "8c4540dc",
   "metadata": {},
   "outputs": [
    {
     "name": "stdout",
     "output_type": "stream",
     "text": [
      "1\n",
      "3\n",
      "5\n",
      "7\n",
      "9\n"
     ]
    }
   ],
   "source": [
    "a=1 #a가 1부터 시작\n",
    "print(a)\n",
    "while a<10:\n",
    "    a+=1\n",
    "    if a%2==0: continue #조건문이 성립하면 while문의 맨 처음으로 돌아가라\n",
    "    print(a)\n"
   ]
  },
  {
   "cell_type": "markdown",
   "id": "ddf97619",
   "metadata": {},
   "source": [
    "## 전형적인 for문"
   ]
  },
  {
   "cell_type": "code",
   "execution_count": 27,
   "id": "f7204a57",
   "metadata": {},
   "outputs": [
    {
     "name": "stdout",
     "output_type": "stream",
     "text": [
      "one\n",
      "two\n",
      "three\n"
     ]
    }
   ],
   "source": [
    "test_list=['one','two','three']\n",
    "for i in test_list:\n",
    "    print(i)"
   ]
  },
  {
   "cell_type": "markdown",
   "id": "07a52523",
   "metadata": {},
   "source": [
    "## 다양한 for문의 사용\n"
   ]
  },
  {
   "cell_type": "code",
   "execution_count": 28,
   "id": "0ef3fbd9",
   "metadata": {},
   "outputs": [
    {
     "name": "stdout",
     "output_type": "stream",
     "text": [
      "3\n",
      "7\n",
      "11\n"
     ]
    }
   ],
   "source": [
    "a=[(1,2),(3,4),(5,6)]\n",
    "for (first,last) in a:\n",
    "    print(first+last)"
   ]
  },
  {
   "cell_type": "markdown",
   "id": "5538f6ef",
   "metadata": {},
   "source": [
    "## for문의 응용"
   ]
  },
  {
   "cell_type": "code",
   "execution_count": 29,
   "id": "036bb416",
   "metadata": {},
   "outputs": [
    {
     "name": "stdout",
     "output_type": "stream",
     "text": [
      "1번 학생 합격\n",
      "2번 학생 불합격\n",
      "3번 학생 합격\n",
      "4번 학생 불합격\n",
      "5번 학생 합격\n"
     ]
    }
   ],
   "source": [
    "marks=[90,25,67,45,80]\n",
    "\n",
    "num=0\n",
    "for i in marks:\n",
    "    num+=1\n",
    "    if i>=60:\n",
    "        print(\"%d번 학생 합격\" %num )\n",
    "    else:\n",
    "        print(\"%d번 학생 불합격\" %num )"
   ]
  },
  {
   "cell_type": "code",
   "execution_count": 30,
   "id": "0595014f",
   "metadata": {},
   "outputs": [
    {
     "name": "stdout",
     "output_type": "stream",
     "text": [
      "1번 학생 축하합니다. 합격\n",
      "3번 학생 축하합니다. 합격\n",
      "5번 학생 축하합니다. 합격\n"
     ]
    }
   ],
   "source": [
    "marks=[90,25,67,45,80]\n",
    "\n",
    "number=0\n",
    "for mark in marks:\n",
    "    number=number+1\n",
    "    if mark<60:\n",
    "        continue\n",
    "    print(\"%d번 학생 축하합니다. 합격\" %number)"
   ]
  },
  {
   "cell_type": "markdown",
   "id": "27e94aa5",
   "metadata": {},
   "source": [
    "## range 함수\n"
   ]
  },
  {
   "cell_type": "code",
   "execution_count": 31,
   "id": "e266f4d2",
   "metadata": {},
   "outputs": [
    {
     "data": {
      "text/plain": [
       "range(0, 10)"
      ]
     },
     "execution_count": 31,
     "metadata": {},
     "output_type": "execute_result"
    }
   ],
   "source": [
    "a=range(10)\n",
    "a"
   ]
  },
  {
   "cell_type": "code",
   "execution_count": 32,
   "id": "311822dd",
   "metadata": {},
   "outputs": [
    {
     "data": {
      "text/plain": [
       "range(1, 11)"
      ]
     },
     "execution_count": 32,
     "metadata": {},
     "output_type": "execute_result"
    }
   ],
   "source": [
    "a=range(1,11)\n",
    "a"
   ]
  },
  {
   "cell_type": "code",
   "execution_count": 33,
   "id": "67237c12",
   "metadata": {},
   "outputs": [
    {
     "name": "stdout",
     "output_type": "stream",
     "text": [
      "55\n"
     ]
    }
   ],
   "source": [
    "add=0\n",
    "for i in range(1,11):\n",
    "    add+=i\n",
    "\n",
    "print(add)"
   ]
  },
  {
   "cell_type": "code",
   "execution_count": 34,
   "id": "bc9a163a",
   "metadata": {},
   "outputs": [
    {
     "name": "stdout",
     "output_type": "stream",
     "text": [
      "1번 학생 축하합니다. 합격입니다.\n",
      "3번 학생 축하합니다. 합격입니다.\n",
      "5번 학생 축하합니다. 합격입니다.\n"
     ]
    }
   ],
   "source": [
    "marks=[90,25,67,45,80]\n",
    "for number in range(len(marks)):\n",
    "    if marks[number]<60:\n",
    "        continue\n",
    "    print(\"%d번 학생 축하합니다. 합격입니다.\" %(number+1))"
   ]
  },
  {
   "cell_type": "markdown",
   "id": "69142b4b",
   "metadata": {},
   "source": [
    "### 구구단 예제"
   ]
  },
  {
   "cell_type": "code",
   "execution_count": 35,
   "id": "a81d7d1c",
   "metadata": {},
   "outputs": [
    {
     "name": "stdout",
     "output_type": "stream",
     "text": [
      "구구단\n",
      "< 2 단 >\n",
      "2 * 1 = 2\n",
      "2 * 2 = 4\n",
      "2 * 3 = 6\n",
      "2 * 4 = 8\n",
      "2 * 5 = 10\n",
      "2 * 6 = 12\n",
      "2 * 7 = 14\n",
      "2 * 8 = 16\n",
      "2 * 9 = 18\n",
      "\n",
      "< 3 단 >\n",
      "3 * 1 = 3\n",
      "3 * 2 = 6\n",
      "3 * 3 = 9\n",
      "3 * 4 = 12\n",
      "3 * 5 = 15\n",
      "3 * 6 = 18\n",
      "3 * 7 = 21\n",
      "3 * 8 = 24\n",
      "3 * 9 = 27\n",
      "\n",
      "< 4 단 >\n",
      "4 * 1 = 4\n",
      "4 * 2 = 8\n",
      "4 * 3 = 12\n",
      "4 * 4 = 16\n",
      "4 * 5 = 20\n",
      "4 * 6 = 24\n",
      "4 * 7 = 28\n",
      "4 * 8 = 32\n",
      "4 * 9 = 36\n",
      "\n",
      "< 5 단 >\n",
      "5 * 1 = 5\n",
      "5 * 2 = 10\n",
      "5 * 3 = 15\n",
      "5 * 4 = 20\n",
      "5 * 5 = 25\n",
      "5 * 6 = 30\n",
      "5 * 7 = 35\n",
      "5 * 8 = 40\n",
      "5 * 9 = 45\n",
      "\n",
      "< 6 단 >\n",
      "6 * 1 = 6\n",
      "6 * 2 = 12\n",
      "6 * 3 = 18\n",
      "6 * 4 = 24\n",
      "6 * 5 = 30\n",
      "6 * 6 = 36\n",
      "6 * 7 = 42\n",
      "6 * 8 = 48\n",
      "6 * 9 = 54\n",
      "\n",
      "< 7 단 >\n",
      "7 * 1 = 7\n",
      "7 * 2 = 14\n",
      "7 * 3 = 21\n",
      "7 * 4 = 28\n",
      "7 * 5 = 35\n",
      "7 * 6 = 42\n",
      "7 * 7 = 49\n",
      "7 * 8 = 56\n",
      "7 * 9 = 63\n",
      "\n",
      "< 8 단 >\n",
      "8 * 1 = 8\n",
      "8 * 2 = 16\n",
      "8 * 3 = 24\n",
      "8 * 4 = 32\n",
      "8 * 5 = 40\n",
      "8 * 6 = 48\n",
      "8 * 7 = 56\n",
      "8 * 8 = 64\n",
      "8 * 9 = 72\n",
      "\n",
      "< 9 단 >\n",
      "9 * 1 = 9\n",
      "9 * 2 = 18\n",
      "9 * 3 = 27\n",
      "9 * 4 = 36\n",
      "9 * 5 = 45\n",
      "9 * 6 = 54\n",
      "9 * 7 = 63\n",
      "9 * 8 = 72\n",
      "9 * 9 = 81\n",
      "\n"
     ]
    }
   ],
   "source": [
    "print(\"구구단\")\n",
    "for i in range (2,10):\n",
    "    print(\"<\", i,'단',\">\")\n",
    "\n",
    "    for j in range(1,10):\n",
    "        print(i,\"*\",j,\"=\",i*j)\n",
    "\n",
    "    print()"
   ]
  },
  {
   "cell_type": "code",
   "execution_count": 1,
   "id": "3469f553",
   "metadata": {},
   "outputs": [
    {
     "name": "stdout",
     "output_type": "stream",
     "text": [
      "[3, 6, 9, 12]\n"
     ]
    }
   ],
   "source": [
    "a=[1,2,3,4]\n",
    "result=[]\n",
    "for num in a:\n",
    "    result.append(num*3)\n",
    "\n",
    "\n",
    "print(result)"
   ]
  },
  {
   "cell_type": "code",
   "execution_count": 2,
   "id": "37a850c7",
   "metadata": {},
   "outputs": [
    {
     "name": "stdout",
     "output_type": "stream",
     "text": [
      "[3, 6, 9, 12]\n"
     ]
    }
   ],
   "source": [
    "a=[1,2,3,4]\n",
    "result=[num*3 for num in a]\n",
    "print(result)"
   ]
  },
  {
   "cell_type": "markdown",
   "id": "7dd87a63",
   "metadata": {},
   "source": [
    "## 리스트 컴프리헨션 사용"
   ]
  },
  {
   "cell_type": "code",
   "execution_count": 3,
   "id": "b3495d90",
   "metadata": {},
   "outputs": [
    {
     "name": "stdout",
     "output_type": "stream",
     "text": [
      "[6, 12]\n"
     ]
    }
   ],
   "source": [
    "result=[num*3 for num in a if num%2==0]\n",
    "print(result)"
   ]
  },
  {
   "cell_type": "code",
   "execution_count": 6,
   "id": "1fbc3675",
   "metadata": {},
   "outputs": [
    {
     "name": "stdout",
     "output_type": "stream",
     "text": [
      "[2, 4, 6, 8, 10, 12, 14, 16, 18, 3, 6, 9, 12, 15, 18, 21, 24, 27, 4, 8, 12, 16, 20, 24, 28, 32, 36, 5, 10, 15, 20, 25, 30, 35, 40, 45, 6, 12, 18, 24, 30, 36, 42, 48, 54, 7, 14, 21, 28, 35, 42, 49, 56, 63, 8, 16, 24, 32, 40, 48, 56, 64, 72, 9, 18, 27, 36, 45, 54, 63, 72, 81]\n"
     ]
    }
   ],
   "source": [
    "result=[x*y for x in range(2,10)\n",
    "            for y in range(1,10)]\n",
    "print(result)"
   ]
  },
  {
   "cell_type": "markdown",
   "id": "664f9f75",
   "metadata": {},
   "source": [
    "### 리스트 컴프리헨션 퍼포먼스"
   ]
  },
  {
   "cell_type": "code",
   "execution_count": 8,
   "id": "7ad1a8f2",
   "metadata": {},
   "outputs": [
    {
     "name": "stdout",
     "output_type": "stream",
     "text": [
      "List Comprehension Time: 0.09000110626220703\n",
      "For loop Time: 0.1714026927947998\n"
     ]
    }
   ],
   "source": [
    "#시간 측정을 위한 코드, 100만까지 단순 추출, 2배 넘게 차이남\n",
    "import time #time 모듈을 사용하겠다.\n",
    "\n",
    "start = time.time() \n",
    "numbers = [i for i in range(1000000)] \n",
    "end = time.time() \n",
    "print('List Comprehension Time:', end-start)\n",
    "\n",
    "start = time.time() \n",
    "numbers = []\n",
    "for i in range(1000000):\n",
    "    numbers.append(i)\n",
    "end = time.time() \n",
    "print('For loop Time:', end-start)"
   ]
  },
  {
   "cell_type": "code",
   "execution_count": null,
   "id": "bd7b597b",
   "metadata": {},
   "outputs": [],
   "source": []
  }
 ],
 "metadata": {
  "kernelspec": {
   "display_name": "Python 3 (ipykernel)",
   "language": "python",
   "name": "python3"
  },
  "language_info": {
   "codemirror_mode": {
    "name": "ipython",
    "version": 3
   },
   "file_extension": ".py",
   "mimetype": "text/x-python",
   "name": "python",
   "nbconvert_exporter": "python",
   "pygments_lexer": "ipython3",
   "version": "3.11.5"
  },
  "toc": {
   "base_numbering": 1,
   "nav_menu": {},
   "number_sections": true,
   "sideBar": true,
   "skip_h1_title": false,
   "title_cell": "Table of Contents",
   "title_sidebar": "Contents",
   "toc_cell": false,
   "toc_position": {},
   "toc_section_display": true,
   "toc_window_display": false
  }
 },
 "nbformat": 4,
 "nbformat_minor": 5
}
