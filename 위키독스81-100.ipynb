{
 "cells": [
  {
   "cell_type": "markdown",
   "id": "71273b83",
   "metadata": {},
   "source": [
    "# 딕셔너리"
   ]
  },
  {
   "cell_type": "markdown",
   "id": "ca821b59",
   "metadata": {},
   "source": [
    "* 81 ~ 90"
   ]
  },
  {
   "cell_type": "code",
   "execution_count": 1,
   "id": "e5bf5dbd",
   "metadata": {},
   "outputs": [
    {
     "name": "stdout",
     "output_type": "stream",
     "text": [
      "[8.8, 8.9, 8.7, 9.2, 9.3, 9.7, 9.9, 9.5]\n"
     ]
    }
   ],
   "source": [
    "scores=[8.8,8.9,8.7,9.2,9.3,9.7,9.9,9.5,7.8,9.4]\n",
    "*valid_score,_,_=scores\n",
    "print(valid_score)"
   ]
  },
  {
   "cell_type": "code",
   "execution_count": 2,
   "id": "853f0ec9",
   "metadata": {},
   "outputs": [
    {
     "name": "stdout",
     "output_type": "stream",
     "text": [
      "[8.7, 9.2, 9.3, 9.7, 9.9, 9.5, 7.8, 9.4]\n"
     ]
    }
   ],
   "source": [
    "scores=[8.8,8.9,8.7,9.2,9.3,9.7,9.9,9.5,7.8,9.4]\n",
    "a,b,*valid_score=scores\n",
    "print(valid_score)"
   ]
  },
  {
   "cell_type": "code",
   "execution_count": 3,
   "id": "067908a4",
   "metadata": {},
   "outputs": [
    {
     "name": "stdout",
     "output_type": "stream",
     "text": [
      "[8.9, 8.7, 9.2, 9.3, 9.7, 9.9, 9.5, 7.8]\n"
     ]
    }
   ],
   "source": [
    "scores=[8.8,8.9,8.7,9.2,9.3,9.7,9.9,9.5,7.8,9.4]\n",
    "_,*valid_score,_=scores\n",
    "print(valid_score)"
   ]
  },
  {
   "cell_type": "code",
   "execution_count": 5,
   "id": "f1af6cdb",
   "metadata": {},
   "outputs": [],
   "source": [
    "temp={ }"
   ]
  },
  {
   "cell_type": "code",
   "execution_count": 6,
   "id": "ae3b6a5b",
   "metadata": {},
   "outputs": [
    {
     "name": "stdout",
     "output_type": "stream",
     "text": [
      "{'메로나': 1000, '폴라포': 1200, '빵빠레': 1800}\n"
     ]
    }
   ],
   "source": [
    "ice_cream={'메로나':1000,'폴라포':1200,'빵빠레':1800}\n",
    "print(ice_cream)"
   ]
  },
  {
   "cell_type": "code",
   "execution_count": 8,
   "id": "4b144569",
   "metadata": {},
   "outputs": [
    {
     "name": "stdout",
     "output_type": "stream",
     "text": [
      "{'메로나': 1000, '폴라포': 1200, '빵빠레': 1800, '죠스바': 1200, '월드콘': 1200}\n"
     ]
    }
   ],
   "source": [
    "ice_cream[\"죠스바\"]=1200\n",
    "ice_cream[\"월드콘\"]=1500\n",
    "print(ice_cream)"
   ]
  },
  {
   "cell_type": "code",
   "execution_count": 9,
   "id": "be9785aa",
   "metadata": {},
   "outputs": [
    {
     "name": "stdout",
     "output_type": "stream",
     "text": [
      "메로나 가격 : 1000\n"
     ]
    }
   ],
   "source": [
    "ice_cream={'메로나':1000,'폴라포':1200,'빵빠레':1800,'죠스바':1200,\"월드콘\":1500}\n",
    "print(\"메로나 가격 :\",ice_cream['메로나'])"
   ]
  },
  {
   "cell_type": "code",
   "execution_count": 10,
   "id": "bd05d280",
   "metadata": {},
   "outputs": [],
   "source": [
    "ice_cream={'메로나':1000,'폴라포':1200,'빵빠레':1800,'죠스바':1200,\"월드콘\":1500}\n",
    "ice_cream['메로나']=1300"
   ]
  },
  {
   "cell_type": "code",
   "execution_count": 14,
   "id": "79470034",
   "metadata": {},
   "outputs": [
    {
     "name": "stdout",
     "output_type": "stream",
     "text": [
      "{'폴라포': 1200, '빵빠레': 1800, '죠스바': 1200, '월드콘': 1500}\n"
     ]
    }
   ],
   "source": [
    "ice_cream={'메로나':1000,'폴라포':1200,'빵빠레':1800,'죠스바':1200,\"월드콘\":1500}\n",
    "del ice_cream['메로나']\n",
    "print(ice_cream)"
   ]
  },
  {
   "cell_type": "code",
   "execution_count": 11,
   "id": "f746b534",
   "metadata": {},
   "outputs": [
    {
     "ename": "KeyError",
     "evalue": "'누가바'",
     "output_type": "error",
     "traceback": [
      "\u001b[1;31m---------------------------------------------------------------------------\u001b[0m",
      "\u001b[1;31mKeyError\u001b[0m                                  Traceback (most recent call last)",
      "Cell \u001b[1;32mIn[11], line 2\u001b[0m\n\u001b[0;32m      1\u001b[0m ice_cream\u001b[38;5;241m=\u001b[39m{\u001b[38;5;124m'\u001b[39m\u001b[38;5;124m폴라포\u001b[39m\u001b[38;5;124m'\u001b[39m:\u001b[38;5;241m1200\u001b[39m,\u001b[38;5;124m'\u001b[39m\u001b[38;5;124m빵빠레\u001b[39m\u001b[38;5;124m'\u001b[39m:\u001b[38;5;241m1800\u001b[39m,\u001b[38;5;124m'\u001b[39m\u001b[38;5;124m죠스바\u001b[39m\u001b[38;5;124m'\u001b[39m:\u001b[38;5;241m1200\u001b[39m,\u001b[38;5;124m\"\u001b[39m\u001b[38;5;124m월드콘\u001b[39m\u001b[38;5;124m\"\u001b[39m:\u001b[38;5;241m1500\u001b[39m}\n\u001b[1;32m----> 2\u001b[0m ice_cream[\u001b[38;5;124m'\u001b[39m\u001b[38;5;124m누가바\u001b[39m\u001b[38;5;124m'\u001b[39m]\n",
      "\u001b[1;31mKeyError\u001b[0m: '누가바'"
     ]
    }
   ],
   "source": [
    "ice_cream={'폴라포':1200,'빵빠레':1800,'죠스바':1200,\"월드콘\":1500}\n",
    "ice_cream['누가바']\n",
    "#에러 발생 원인: ice_cream 딕셔너리에 '누가바'에 해당하는 밸류값이 없음."
   ]
  },
  {
   "cell_type": "markdown",
   "id": "17fc0a65",
   "metadata": {},
   "source": [
    "* 91 ~ 100"
   ]
  },
  {
   "cell_type": "code",
   "execution_count": 18,
   "id": "8ab0a110",
   "metadata": {},
   "outputs": [
    {
     "data": {
      "text/plain": [
       "{'메로나': [300, 20], '비비빅': [400, 3], '죠스바': [250, 100]}"
      ]
     },
     "execution_count": 18,
     "metadata": {},
     "output_type": "execute_result"
    }
   ],
   "source": [
    "ice={\"메로나\":[300,20],\"비비빅\":[400,3],\"죠스바\":[250,100]}\n",
    "ice"
   ]
  },
  {
   "cell_type": "code",
   "execution_count": 26,
   "id": "d497faef",
   "metadata": {},
   "outputs": [
    {
     "name": "stdout",
     "output_type": "stream",
     "text": [
      "실행 예시:  300 원\n"
     ]
    }
   ],
   "source": [
    "print(\"실행 예시: \",ice[\"메로나\"][0],\"원\")"
   ]
  },
  {
   "cell_type": "code",
   "execution_count": 27,
   "id": "a5a85c26",
   "metadata": {},
   "outputs": [
    {
     "name": "stdout",
     "output_type": "stream",
     "text": [
      "20 개\n"
     ]
    }
   ],
   "source": [
    "ice={\"메로나\":[300,20],\"비비빅\":[400,3],\"죠스바\":[250,100]}\n",
    "print(ice[\"메로나\"][1], \"개\")"
   ]
  },
  {
   "cell_type": "code",
   "execution_count": 30,
   "id": "d35269d0",
   "metadata": {},
   "outputs": [
    {
     "name": "stdout",
     "output_type": "stream",
     "text": [
      "{'메로나': [300, 20], '비비빅': [400, 3], '죠스바': [250, 100], '월드콘': [500, 7]}\n"
     ]
    }
   ],
   "source": [
    "ice={\"메로나\":[300,20],\"비비빅\":[400,3],\"죠스바\":[250,100]}\n",
    "ice[\"월드콘\"]=[500,7]\n",
    "print(ice)"
   ]
  },
  {
   "cell_type": "code",
   "execution_count": 37,
   "id": "5d39c8a8",
   "metadata": {},
   "outputs": [
    {
     "name": "stdout",
     "output_type": "stream",
     "text": [
      "['탱크보이', '폴라포', '빵빠레', '월드콘', '메로나']\n"
     ]
    }
   ],
   "source": [
    "icecream={'탱크보이':1200,'폴라포':1200,'빵빠레':1800,'월드콘':1500,'메로나':1000}\n",
    "icecream=list(icecream.keys())\n",
    "print(icecream)"
   ]
  },
  {
   "cell_type": "code",
   "execution_count": 38,
   "id": "8c288b61",
   "metadata": {},
   "outputs": [
    {
     "name": "stdout",
     "output_type": "stream",
     "text": [
      "[1200, 1200, 1800, 1500, 1000]\n"
     ]
    }
   ],
   "source": [
    "icecream={'탱크보이':1200,'폴라포':1200,'빵빠레':1800,'월드콘':1500,'메로나':1000}\n",
    "icecream=list(icecream.values())\n",
    "print(icecream)"
   ]
  },
  {
   "cell_type": "code",
   "execution_count": 40,
   "id": "8393c0dc",
   "metadata": {},
   "outputs": [
    {
     "name": "stdout",
     "output_type": "stream",
     "text": [
      "6700\n"
     ]
    }
   ],
   "source": [
    "icecream={'탱크보이':1200,'폴라포':1200,'빵빠레':1800,'월드콘':1500,'메로나':1000}\n",
    "print(sum(icecream.values()))"
   ]
  },
  {
   "cell_type": "code",
   "execution_count": 41,
   "id": "a3694f43",
   "metadata": {},
   "outputs": [
    {
     "name": "stdout",
     "output_type": "stream",
     "text": [
      "{'탱크보이': 1200, '폴라포': 1200, '빵빠레': 1800, '월드콘': 1500, '메로나': 1000, '팥빙수': 2700, '아맛나': 1000}\n"
     ]
    }
   ],
   "source": [
    "icecream={'탱크보이':1200,'폴라포':1200,'빵빠레':1800,'월드콘':1500,'메로나':1000}\n",
    "new_product={'팥빙수':2700,'아맛나':1000}\n",
    "icecream.update(new_product)\n",
    "print(icecream)"
   ]
  },
  {
   "cell_type": "code",
   "execution_count": 49,
   "id": "59b93d7a",
   "metadata": {},
   "outputs": [
    {
     "name": "stdout",
     "output_type": "stream",
     "text": [
      "{'apple': 300, 'pear': 250, 'peach': 400}\n"
     ]
    }
   ],
   "source": [
    "keys=(\"apple\",\"pear\",\"peach\")\n",
    "vals=(300,250,400)\n",
    "result=dict(zip(keys,vals))\n",
    "print(result)"
   ]
  },
  {
   "cell_type": "code",
   "execution_count": 48,
   "id": "edc36c1e",
   "metadata": {},
   "outputs": [
    {
     "name": "stdout",
     "output_type": "stream",
     "text": [
      "{'09/05': 10500, '09/06': 10300, '09/07': 10100, '09/08': 10800, '09/09': 11000}\n"
     ]
    }
   ],
   "source": [
    "date=['09/05','09/06','09/07','09/08','09/09']\n",
    "close_price=[10500,10300,10100,10800,11000]\n",
    "close_price=dict(zip(date,close_price))\n",
    "print(close_price)"
   ]
  },
  {
   "cell_type": "code",
   "execution_count": null,
   "id": "c34dbd08",
   "metadata": {},
   "outputs": [],
   "source": []
  }
 ],
 "metadata": {
  "kernelspec": {
   "display_name": "Python 3 (ipykernel)",
   "language": "python",
   "name": "python3"
  },
  "language_info": {
   "codemirror_mode": {
    "name": "ipython",
    "version": 3
   },
   "file_extension": ".py",
   "mimetype": "text/x-python",
   "name": "python",
   "nbconvert_exporter": "python",
   "pygments_lexer": "ipython3",
   "version": "3.11.5"
  },
  "toc": {
   "base_numbering": 1,
   "nav_menu": {},
   "number_sections": true,
   "sideBar": true,
   "skip_h1_title": false,
   "title_cell": "Table of Contents",
   "title_sidebar": "Contents",
   "toc_cell": false,
   "toc_position": {},
   "toc_section_display": true,
   "toc_window_display": false
  }
 },
 "nbformat": 4,
 "nbformat_minor": 5
}
