{
 "cells": [
  {
   "cell_type": "markdown",
   "id": "b888742d",
   "metadata": {},
   "source": [
    "# 파이썬 분기문"
   ]
  },
  {
   "cell_type": "markdown",
   "id": "d3151a16",
   "metadata": {},
   "source": [
    "* 101~110"
   ]
  },
  {
   "cell_type": "code",
   "execution_count": 1,
   "id": "0764ee06",
   "metadata": {},
   "outputs": [],
   "source": [
    "#파이썬에서 True 혹은 False를 갖는 데이터 타입 : bool"
   ]
  },
  {
   "cell_type": "code",
   "execution_count": 2,
   "id": "8079162f",
   "metadata": {},
   "outputs": [
    {
     "name": "stdout",
     "output_type": "stream",
     "text": [
      "False\n"
     ]
    }
   ],
   "source": [
    "print(3==5)\n",
    "#출력 결과 예상 : False"
   ]
  },
  {
   "cell_type": "code",
   "execution_count": 3,
   "id": "4c0f4a26",
   "metadata": {},
   "outputs": [
    {
     "name": "stdout",
     "output_type": "stream",
     "text": [
      "True\n"
     ]
    }
   ],
   "source": [
    "print(3<5)\n",
    "#출력 결과 예상 : True"
   ]
  },
  {
   "cell_type": "code",
   "execution_count": 4,
   "id": "4d8d9022",
   "metadata": {},
   "outputs": [
    {
     "name": "stdout",
     "output_type": "stream",
     "text": [
      "True\n"
     ]
    }
   ],
   "source": [
    "x=4\n",
    "print(1<x<5)\n",
    "#출력 결과 예상 : True"
   ]
  },
  {
   "cell_type": "code",
   "execution_count": 5,
   "id": "66450986",
   "metadata": {},
   "outputs": [
    {
     "name": "stdout",
     "output_type": "stream",
     "text": [
      "True\n"
     ]
    }
   ],
   "source": [
    "print((3==3) and (4!=3))\n",
    "#출력 결과 예상 : True and True -> True"
   ]
  },
  {
   "cell_type": "code",
   "execution_count": 6,
   "id": "d67d6f14",
   "metadata": {},
   "outputs": [
    {
     "ename": "SyntaxError",
     "evalue": "expression cannot contain assignment, perhaps you meant \"==\"? (3293388867.py, line 1)",
     "output_type": "error",
     "traceback": [
      "\u001b[1;36m  Cell \u001b[1;32mIn[6], line 1\u001b[1;36m\u001b[0m\n\u001b[1;33m    print(3=>4)\u001b[0m\n\u001b[1;37m          ^\u001b[0m\n\u001b[1;31mSyntaxError\u001b[0m\u001b[1;31m:\u001b[0m expression cannot contain assignment, perhaps you meant \"==\"?\n"
     ]
    }
   ],
   "source": [
    "print(3=>4)\n",
    "#에러 원인 : 기준이 되는 대상으로부터 등호(=)는 부등호 뒤에 위치해야 함. \n",
    "#'=>'는 지원하지 않는 연산자임"
   ]
  },
  {
   "cell_type": "code",
   "execution_count": 7,
   "id": "74e2a702",
   "metadata": {},
   "outputs": [],
   "source": [
    "if 4<3:\n",
    "    print(\"Hello World\")\n",
    "\n",
    "#출력 결과 예상 : 조건을 만족하지 않아 아무것도 출력되지 않음."
   ]
  },
  {
   "cell_type": "code",
   "execution_count": 9,
   "id": "e60c1ec9",
   "metadata": {},
   "outputs": [
    {
     "name": "stdout",
     "output_type": "stream",
     "text": [
      "Hi, there.\n"
     ]
    }
   ],
   "source": [
    "if 4<3:\n",
    "    print(\"Hello World.\")\n",
    "else : \n",
    "    print(\"Hi, there.\")\n",
    "    \n",
    "# 출력결과 예상 : 조건식이 False이므로 Hi, there 출력"
   ]
  },
  {
   "cell_type": "code",
   "execution_count": 10,
   "id": "e58dc7dd",
   "metadata": {},
   "outputs": [
    {
     "name": "stdout",
     "output_type": "stream",
     "text": [
      "1\n",
      "2\n",
      "4\n"
     ]
    }
   ],
   "source": [
    "if True:\n",
    "    print(\"1\")\n",
    "    print(\"2\")\n",
    "else:\n",
    "    print(\"3\")\n",
    "print(\"4\")\n",
    "\n",
    "#출력결과 예상 : 1\\n2\\n4"
   ]
  },
  {
   "cell_type": "code",
   "execution_count": 13,
   "id": "4a3188f9",
   "metadata": {},
   "outputs": [
    {
     "name": "stdout",
     "output_type": "stream",
     "text": [
      "3\n",
      "5\n"
     ]
    }
   ],
   "source": [
    "if True:\n",
    "    if False:\n",
    "        print(\"1\")\n",
    "        print(\"2\")\n",
    "    else:\n",
    "        print(\"3\")\n",
    "else:\n",
    "    print(\"4\")\n",
    "print(\"5\")\n",
    "\n",
    "#출력결과 예상 : 3\\n5"
   ]
  },
  {
   "cell_type": "markdown",
   "id": "08946d34",
   "metadata": {},
   "source": [
    "* 111~120"
   ]
  },
  {
   "cell_type": "code",
   "execution_count": 14,
   "id": "6204fbf0",
   "metadata": {},
   "outputs": [
    {
     "name": "stdout",
     "output_type": "stream",
     "text": [
      "안녕하세요\n",
      "안녕하세요안녕하세요\n"
     ]
    }
   ],
   "source": [
    "user=input()\n",
    "print(user*2)"
   ]
  },
  {
   "cell_type": "code",
   "execution_count": 16,
   "id": "be7949b2",
   "metadata": {},
   "outputs": [
    {
     "name": "stdout",
     "output_type": "stream",
     "text": [
      "숫자를 입력하세요: 30\n",
      "40\n"
     ]
    }
   ],
   "source": [
    "num=input(\"숫자를 입력하세요: \")\n",
    "num=int(num)\n",
    "print(num+10)"
   ]
  },
  {
   "cell_type": "code",
   "execution_count": 17,
   "id": "72662bf6",
   "metadata": {},
   "outputs": [
    {
     "name": "stdout",
     "output_type": "stream",
     "text": [
      "숫자 입력 : 30\n",
      "짝수\n"
     ]
    }
   ],
   "source": [
    "num=int(input(\"숫자 입력 : \"))\n",
    "if num%2==0:\n",
    "    print(\"짝수\")\n",
    "else : \n",
    "    print(\"홀수\")"
   ]
  },
  {
   "cell_type": "code",
   "execution_count": 18,
   "id": "7e353ccb",
   "metadata": {},
   "outputs": [
    {
     "name": "stdout",
     "output_type": "stream",
     "text": [
      "입력값 : 200\n",
      "출력값 : 220\n"
     ]
    }
   ],
   "source": [
    "user=int(input(\"입력값 : \"))\n",
    "user+=20\n",
    "if user>255:\n",
    "    print(\"출력값 : 255\")\n",
    "else:\n",
    "    print(\"출력값 :\",user)\n"
   ]
  },
  {
   "cell_type": "code",
   "execution_count": 20,
   "id": "1228825c",
   "metadata": {},
   "outputs": [
    {
     "name": "stdout",
     "output_type": "stream",
     "text": [
      "입력값 : 15\n",
      "출력값 : 0\n"
     ]
    }
   ],
   "source": [
    "user=int(input(\"입력값 : \"))\n",
    "user-=20\n",
    "if user<0:\n",
    "    print(\"출력값 : 0\")\n",
    "elif user>255:\n",
    "    print(\"출력값 : 255\")\n",
    "else:\n",
    "    print(\"출력값 :\",user)"
   ]
  },
  {
   "cell_type": "code",
   "execution_count": 26,
   "id": "e21dd9bf",
   "metadata": {},
   "outputs": [
    {
     "name": "stdout",
     "output_type": "stream",
     "text": [
      "현재시간 : 03:10\n",
      "정각이 아닙니다.\n"
     ]
    }
   ],
   "source": [
    "what_time=input(\"현재시간 : \")\n",
    "if what_time[-2:]=='00':\n",
    "    print(\"정각입니다.\")\n",
    "else :\n",
    "    print(\"정각이 아닙니다.\")"
   ]
  },
  {
   "cell_type": "code",
   "execution_count": 29,
   "id": "3918d731",
   "metadata": {},
   "outputs": [
    {
     "name": "stdout",
     "output_type": "stream",
     "text": [
      "좋아하는 과일은? 사과\n",
      "정답입니다.\n"
     ]
    }
   ],
   "source": [
    "fruit=[\"사과\", \"포도\",\" 홍시\"]\n",
    "user=input(\"좋아하는 과일은? \")\n",
    "if user in fruit:\n",
    "    print(\"정답입니다.\")\n",
    "else:\n",
    "    print(\"오답입니다.\")"
   ]
  },
  {
   "cell_type": "code",
   "execution_count": 31,
   "id": "b3dc3701",
   "metadata": {},
   "outputs": [
    {
     "name": "stdout",
     "output_type": "stream",
     "text": [
      "종목명 : Google\n",
      "투자 경고 종목입니다.\n"
     ]
    }
   ],
   "source": [
    "warn_investment_list=[\"Microsoft\",\"Google\",\"Naver\"<\"Kakao\",\"SAMSUNG\",\"LG\"]\n",
    "종목명=input(\"종목명 : \")\n",
    "if 종목명 in warn_investment_list:\n",
    "    print(\"투자 경고 종목입니다.\")\n",
    "else:\n",
    "    print(\"투자 경고 종목이 아닙니다.\")"
   ]
  },
  {
   "cell_type": "code",
   "execution_count": 32,
   "id": "38e87421",
   "metadata": {},
   "outputs": [
    {
     "name": "stdout",
     "output_type": "stream",
     "text": [
      "제가 좋아하는 계절은 : 가을\n",
      "정답입니다.\n"
     ]
    }
   ],
   "source": [
    "fruit={\"봄\":\"딸기\",\"여럼\":\"토마토\",\"가을\":\"사과\"}\n",
    "user=input(\"제가 좋아하는 계절은 : \")\n",
    "if user in fruit:\n",
    "    print(\"정답입니다.\")\n",
    "else:\n",
    "    print(\"오답입니다.\")"
   ]
  },
  {
   "cell_type": "code",
   "execution_count": 35,
   "id": "87098160",
   "metadata": {},
   "outputs": [
    {
     "name": "stdout",
     "output_type": "stream",
     "text": [
      "좋아하는 과일은 ? 딸기\n",
      "정답입니다.\n"
     ]
    }
   ],
   "source": [
    "fruit={\"봄\":\"딸기\",\"여름\":\"토마토\",\"가을\":\"사과\"}\n",
    "user=input(\"좋아하는 과일은 ? \")\n",
    "if user in fruit.values():\n",
    "    print(\"정답입니다.\")\n",
    "else:\n",
    "    print(\"오답입니다.\")"
   ]
  },
  {
   "cell_type": "markdown",
   "id": "9eb810c1",
   "metadata": {},
   "source": [
    "* 121~130"
   ]
  },
  {
   "cell_type": "code",
   "execution_count": 36,
   "id": "602d58d4",
   "metadata": {},
   "outputs": [
    {
     "name": "stdout",
     "output_type": "stream",
     "text": [
      "a\n",
      "A\n"
     ]
    }
   ],
   "source": [
    "user=input()\n",
    "if user.islower():\n",
    "    print(user.upper())\n",
    "else:\n",
    "    print(user.lower())"
   ]
  },
  {
   "cell_type": "code",
   "execution_count": 38,
   "id": "72915eac",
   "metadata": {},
   "outputs": [
    {
     "name": "stdout",
     "output_type": "stream",
     "text": [
      "score: 80\n",
      "B\n"
     ]
    }
   ],
   "source": [
    "user=int(input(\"score: \"))\n",
    "if 100>=user>=81:\n",
    "    print(\"A\")\n",
    "elif user>=61:\n",
    "    print(\"B\")\n",
    "elif user>=41:\n",
    "    print(\"C\")\n",
    "elif user>=21:\n",
    "    print(\"D\")\n",
    "else:\n",
    "    print(\"E\")"
   ]
  },
  {
   "cell_type": "code",
   "execution_count": 40,
   "id": "7bca86f9",
   "metadata": {},
   "outputs": [
    {
     "name": "stdout",
     "output_type": "stream",
     "text": [
      "입력 : 13 유로\n",
      "16484.0 원\n"
     ]
    }
   ],
   "source": [
    "환율={\"달러\":1167,\"엔\":1.096,\"유로\":1268,\"위안\":171}\n",
    "user=input(\"입력 : \")\n",
    "num,currency = user.split()\n",
    "print(float(num)*환율[currency], \"원\")"
   ]
  },
  {
   "cell_type": "code",
   "execution_count": 41,
   "id": "5124195f",
   "metadata": {},
   "outputs": [
    {
     "name": "stdout",
     "output_type": "stream",
     "text": [
      "input number1: 10\n",
      "input number2: 20\n",
      "input number3: 30\n",
      "30\n"
     ]
    }
   ],
   "source": [
    "num1=int(input(\"input number1: \"))\n",
    "num2=int(input(\"input number2: \"))\n",
    "num3=int(input(\"input number3: \"))\n",
    "\n",
    "if num1>=num2  and num1>=num3:\n",
    "    print(num1)\n",
    "elif num2>=num1 and num2>=num3:\n",
    "    print(num2)\n",
    "else:\n",
    "    print(num3)\n"
   ]
  },
  {
   "cell_type": "code",
   "execution_count": 44,
   "id": "e835528a",
   "metadata": {},
   "outputs": [
    {
     "name": "stdout",
     "output_type": "stream",
     "text": [
      "휴대전화 번호 입력: 010-5474-9364\n",
      "당신은 알수없음 사용자입니다.\n"
     ]
    }
   ],
   "source": [
    "phone=input(\"휴대전화 번호 입력: \")\n",
    "phone=phone.split('-')[0]\n",
    "if phone=='011':\n",
    "    com=\"SKT\"\n",
    "elif phone=='016':\n",
    "    com==\"KT\"\n",
    "elif phone=='019':\n",
    "    com='LGU'\n",
    "else:\n",
    "    com='알수없음'\n",
    "\n",
    "print('당신은',com,'사용자입니다.')"
   ]
  },
  {
   "cell_type": "code",
   "execution_count": 47,
   "id": "43232130",
   "metadata": {},
   "outputs": [
    {
     "name": "stdout",
     "output_type": "stream",
     "text": [
      "우편번호: 01400\n",
      "도봉구\n"
     ]
    }
   ],
   "source": [
    "num=input(\"우편번호: \")\n",
    "num=num[:3]\n",
    "if num in [\"010\",\"011\",\"012\"]:\n",
    "    print(\"강북구\")\n",
    "elif num in [\"013\",\"014\",\"015\"]:\n",
    "    print(\"도봉구\")\n",
    "else:\n",
    "    print(\"노원구\")\n"
   ]
  },
  {
   "cell_type": "code",
   "execution_count": 49,
   "id": "4ed8cb2f",
   "metadata": {},
   "outputs": [
    {
     "name": "stdout",
     "output_type": "stream",
     "text": [
      "주민등록번호: 821010-1635210\n",
      "여자\n"
     ]
    }
   ],
   "source": [
    "num=input(\"주민등록번호: \")\n",
    "num=num.split(\"-\")[1][0]\n",
    "if num in (1,3):\n",
    "    print(\"남자\")\n",
    "else:\n",
    "    print(\"여자\")"
   ]
  },
  {
   "cell_type": "code",
   "execution_count": 54,
   "id": "04d4460f",
   "metadata": {},
   "outputs": [
    {
     "name": "stdout",
     "output_type": "stream",
     "text": [
      "주민등록번호 : 846130-1056431\n",
      "서울입니다.\n"
     ]
    }
   ],
   "source": [
    "주민번호=input('주민등록번호 : ')\n",
    "뒷자리=int(주민번호.split('-')[1][1:3])\n",
    "if 0<=뒷자리<=8:\n",
    "    print(\"서울입니다.\")\n",
    "else:\n",
    "    print(\"서울이 아닙니다.\")"
   ]
  },
  {
   "cell_type": "code",
   "execution_count": 64,
   "id": "220a322b",
   "metadata": {},
   "outputs": [
    {
     "name": "stdout",
     "output_type": "stream",
     "text": [
      "주민등록번호: 821013-1654110\n",
      "유효하지 않은 주민등록번호입니다.\n"
     ]
    }
   ],
   "source": [
    "num=input(\"주민등록번호: \")\n",
    "계산1 = int(num[0]) * 2 + int(num[1]) * 3 + int(num[2]) * 4 + int(num[3]) * 5 + int(num[4]) * 6 + \\\n",
    "        int(num[5]) * 7 + int(num[7]) * 8 + int(num[8]) * 9 + int(num[9]) * 2 + int(num[10])* 3 + \\\n",
    "        int(num[11])* 4 + int(num[12]) * 5\n",
    "계산2 = 11 - (계산1 % 11)\n",
    "계산3 = str(계산2)\n",
    "\n",
    "if num[-1] == 계산3[-1]:\n",
    "    print(\"유효한 주민등록번호입니다.\")\n",
    "else:\n",
    "    print(\"유효하지 않은 주민등록번호입니다.\")"
   ]
  },
  {
   "cell_type": "code",
   "execution_count": 57,
   "id": "bb593949",
   "metadata": {
    "scrolled": false
   },
   "outputs": [
    {
     "name": "stdout",
     "output_type": "stream",
     "text": [
      "Requirement already satisfied: requests in c:\\users\\admin\\anaconda3\\lib\\site-packages (2.31.0)\n",
      "Requirement already satisfied: charset-normalizer<4,>=2 in c:\\users\\admin\\anaconda3\\lib\\site-packages (from requests) (2.0.4)\n",
      "Requirement already satisfied: idna<4,>=2.5 in c:\\users\\admin\\anaconda3\\lib\\site-packages (from requests) (3.4)\n",
      "Requirement already satisfied: urllib3<3,>=1.21.1 in c:\\users\\admin\\anaconda3\\lib\\site-packages (from requests) (1.26.16)\n",
      "Requirement already satisfied: certifi>=2017.4.17 in c:\\users\\admin\\anaconda3\\lib\\site-packages (from requests) (2023.7.22)\n",
      "Note: you may need to restart the kernel to use updated packages.\n"
     ]
    }
   ],
   "source": [
    "pip install requests"
   ]
  },
  {
   "cell_type": "code",
   "execution_count": 61,
   "id": "695e9336",
   "metadata": {},
   "outputs": [
    {
     "name": "stdout",
     "output_type": "stream",
     "text": [
      "상승장\n"
     ]
    }
   ],
   "source": [
    "import requests\n",
    "btc=requests.get(\"https://api.bithumb.com/public/ticker/\").json()['data']\n",
    "\n",
    "변동폭=float(btc['max_price'])-float(btc['min_price'])\n",
    "시가=float(btc['opening_price'])\n",
    "최고가=float(btc['max_price'])\n",
    "\n",
    "if (시가+변동폭)>최고가:\n",
    "    print(\"상승장\")\n",
    "else:\n",
    "    print(\"하락장\")"
   ]
  },
  {
   "cell_type": "code",
   "execution_count": null,
   "id": "ee53511d",
   "metadata": {},
   "outputs": [],
   "source": []
  }
 ],
 "metadata": {
  "kernelspec": {
   "display_name": "Python 3 (ipykernel)",
   "language": "python",
   "name": "python3"
  },
  "language_info": {
   "codemirror_mode": {
    "name": "ipython",
    "version": 3
   },
   "file_extension": ".py",
   "mimetype": "text/x-python",
   "name": "python",
   "nbconvert_exporter": "python",
   "pygments_lexer": "ipython3",
   "version": "3.11.5"
  },
  "toc": {
   "base_numbering": 1,
   "nav_menu": {},
   "number_sections": true,
   "sideBar": true,
   "skip_h1_title": false,
   "title_cell": "Table of Contents",
   "title_sidebar": "Contents",
   "toc_cell": false,
   "toc_position": {},
   "toc_section_display": true,
   "toc_window_display": false
  }
 },
 "nbformat": 4,
 "nbformat_minor": 5
}
