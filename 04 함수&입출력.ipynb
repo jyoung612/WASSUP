{
 "cells": [
  {
   "cell_type": "markdown",
   "id": "b581a011",
   "metadata": {},
   "source": [
    "# 파이썬의 입출력"
   ]
  },
  {
   "cell_type": "markdown",
   "id": "31213019",
   "metadata": {},
   "source": [
    "## 파일 읽고 쓰기"
   ]
  },
  {
   "cell_type": "code",
   "execution_count": 2,
   "id": "f6afad3d",
   "metadata": {},
   "outputs": [],
   "source": [
    "f=open(\"새파일.txt\",'w')\n",
    "f.close()"
   ]
  },
  {
   "cell_type": "code",
   "execution_count": 6,
   "id": "26b0bb43",
   "metadata": {},
   "outputs": [],
   "source": [
    "#경로 지정해서 파일 만들기\n",
    "\n",
    "f=open(\"C:/Users/ADMIN/OneDrive/바탕 화면/새파일.txt\",'w')\n",
    "f.close()"
   ]
  },
  {
   "cell_type": "markdown",
   "id": "be54c161",
   "metadata": {},
   "source": [
    "### 파일을 쓰기 모드로 열어 내용 쓰기"
   ]
  },
  {
   "cell_type": "code",
   "execution_count": 8,
   "id": "72317375",
   "metadata": {},
   "outputs": [],
   "source": [
    "f=open(\"C:/Users/ADMIN/OneDrive/바탕 화면/새파일.txt\",'w')\n",
    "for i in range(1,11):\n",
    "    data='%d번째 줄입니다. \\n' %i\n",
    "    f.write(data)\n",
    "f.close()"
   ]
  },
  {
   "cell_type": "code",
   "execution_count": 9,
   "id": "6466e342",
   "metadata": {},
   "outputs": [
    {
     "name": "stdout",
     "output_type": "stream",
     "text": [
      "1번째 줄입니다. \n",
      "\n",
      "2번째 줄입니다. \n",
      "\n",
      "3번째 줄입니다. \n",
      "\n",
      "4번째 줄입니다. \n",
      "\n",
      "5번째 줄입니다. \n",
      "\n",
      "6번째 줄입니다. \n",
      "\n",
      "7번째 줄입니다. \n",
      "\n",
      "8번째 줄입니다. \n",
      "\n",
      "9번째 줄입니다. \n",
      "\n",
      "10번째 줄입니다. \n",
      "\n"
     ]
    }
   ],
   "source": [
    "for i in range(1,11):\n",
    "    data=\"%d번째 줄입니다. \\n\"%i\n",
    "    print(data)"
   ]
  },
  {
   "cell_type": "markdown",
   "id": "526c2f89",
   "metadata": {},
   "source": [
    "### 파일 읽는 여러가지 방법 "
   ]
  },
  {
   "cell_type": "markdown",
   "id": "f2cdab01",
   "metadata": {},
   "source": [
    "* readline 함수 이용"
   ]
  },
  {
   "cell_type": "code",
   "execution_count": 11,
   "id": "d5d40613",
   "metadata": {},
   "outputs": [
    {
     "name": "stdout",
     "output_type": "stream",
     "text": [
      "1번째 줄입니다. \n",
      "\n"
     ]
    }
   ],
   "source": [
    "f=open(\"C://Users/ADMIN/OneDrive/바탕 화면/새파일.txt\",'r')\n",
    "line=f.readline()   #readline() : 파일의 첫 번째 줄을 읽어 출력\n",
    "print(line)\n",
    "f.close()"
   ]
  },
  {
   "cell_type": "code",
   "execution_count": 13,
   "id": "63c5e84f",
   "metadata": {},
   "outputs": [
    {
     "name": "stdout",
     "output_type": "stream",
     "text": [
      "1번째 줄입니다. \n",
      "\n",
      "2번째 줄입니다. \n",
      "\n",
      "3번째 줄입니다. \n",
      "\n",
      "4번째 줄입니다. \n",
      "\n",
      "5번째 줄입니다. \n",
      "\n",
      "6번째 줄입니다. \n",
      "\n",
      "7번째 줄입니다. \n",
      "\n",
      "8번째 줄입니다. \n",
      "\n",
      "9번째 줄입니다. \n",
      "\n",
      "10번째 줄입니다. \n",
      "\n"
     ]
    }
   ],
   "source": [
    "f=open(\"C:/Users/ADMIN/OneDrive/바탕 화면/새파일.txt\",'r')\n",
    "while True : \n",
    "    line=f.readline()\n",
    "    if not line: break\n",
    "    print(line)\n",
    "f.close()"
   ]
  },
  {
   "cell_type": "markdown",
   "id": "74552f86",
   "metadata": {},
   "source": [
    "* readlines 함수 이용"
   ]
  },
  {
   "cell_type": "code",
   "execution_count": 15,
   "id": "daedc876",
   "metadata": {},
   "outputs": [
    {
     "name": "stdout",
     "output_type": "stream",
     "text": [
      "1번째 줄입니다. \n",
      "\n",
      "2번째 줄입니다. \n",
      "\n",
      "3번째 줄입니다. \n",
      "\n",
      "4번째 줄입니다. \n",
      "\n",
      "5번째 줄입니다. \n",
      "\n",
      "6번째 줄입니다. \n",
      "\n",
      "7번째 줄입니다. \n",
      "\n",
      "8번째 줄입니다. \n",
      "\n",
      "9번째 줄입니다. \n",
      "\n",
      "10번째 줄입니다. \n",
      "\n"
     ]
    }
   ],
   "source": [
    "# 리스트로 리턴\n",
    "\n",
    "f=open(\"C:/Users/ADMIN/OneDrive/바탕 화면/새파일.txt\",'r')\n",
    "lines=f.readlines()\n",
    "for line in lines:\n",
    "    print(line)\n",
    "f.close()"
   ]
  },
  {
   "cell_type": "code",
   "execution_count": 19,
   "id": "917fc503",
   "metadata": {},
   "outputs": [
    {
     "data": {
      "text/plain": [
       "list"
      ]
     },
     "execution_count": 19,
     "metadata": {},
     "output_type": "execute_result"
    }
   ],
   "source": [
    "type(lines)"
   ]
  },
  {
   "cell_type": "markdown",
   "id": "a747bd6a",
   "metadata": {},
   "source": [
    "* read 함수 이용"
   ]
  },
  {
   "cell_type": "code",
   "execution_count": 16,
   "id": "b21ada30",
   "metadata": {},
   "outputs": [
    {
     "name": "stdout",
     "output_type": "stream",
     "text": [
      "1번째 줄입니다. \n",
      "2번째 줄입니다. \n",
      "3번째 줄입니다. \n",
      "4번째 줄입니다. \n",
      "5번째 줄입니다. \n",
      "6번째 줄입니다. \n",
      "7번째 줄입니다. \n",
      "8번째 줄입니다. \n",
      "9번째 줄입니다. \n",
      "10번째 줄입니다. \n",
      "\n"
     ]
    }
   ],
   "source": [
    "f=open(\"C:/Users/ADMIN/OneDrive/바탕 화면/새파일.txt\",'r')\n",
    "data=f.read()\n",
    "print(data)\n",
    "f.close()"
   ]
  },
  {
   "cell_type": "code",
   "execution_count": 17,
   "id": "032c7d97",
   "metadata": {},
   "outputs": [
    {
     "data": {
      "text/plain": [
       "str"
      ]
     },
     "execution_count": 17,
     "metadata": {},
     "output_type": "execute_result"
    }
   ],
   "source": [
    "type(data)"
   ]
  },
  {
   "cell_type": "markdown",
   "id": "935c129c",
   "metadata": {},
   "source": [
    "### 파일 새로운 내용 추가하기"
   ]
  },
  {
   "cell_type": "code",
   "execution_count": 20,
   "id": "14701146",
   "metadata": {},
   "outputs": [],
   "source": [
    "f=open(\"C:/Users/ADMIN/OneDrive/바탕 화면/새파일.txt\",'a')  #w: 덮어씌워짐, a: 추가\n",
    "for i in range(11,20):\n",
    "    data=\"%d번째 줄입니다. \\n\" %i\n",
    "    f.write(data)\n",
    "f.close()"
   ]
  },
  {
   "cell_type": "markdown",
   "id": "2c55cfca",
   "metadata": {},
   "source": [
    "### with문과 함께 사용하기"
   ]
  },
  {
   "cell_type": "code",
   "execution_count": 21,
   "id": "fff787c3",
   "metadata": {},
   "outputs": [],
   "source": [
    "f=open(\"새파일.txt\",'w')\n",
    "f.write(\"Life is too short, you need python\")\n",
    "f.close()"
   ]
  },
  {
   "cell_type": "code",
   "execution_count": 22,
   "id": "89671137",
   "metadata": {},
   "outputs": [],
   "source": [
    "with open(\"새파일.txt\",'w') as f:\n",
    "    f.write(\"Life is too short, you need python\")  #자동으로 close해줌"
   ]
  },
  {
   "cell_type": "code",
   "execution_count": null,
   "id": "02216683",
   "metadata": {},
   "outputs": [],
   "source": []
  }
 ],
 "metadata": {
  "kernelspec": {
   "display_name": "Python 3 (ipykernel)",
   "language": "python",
   "name": "python3"
  },
  "language_info": {
   "codemirror_mode": {
    "name": "ipython",
    "version": 3
   },
   "file_extension": ".py",
   "mimetype": "text/x-python",
   "name": "python",
   "nbconvert_exporter": "python",
   "pygments_lexer": "ipython3",
   "version": "3.11.5"
  },
  "toc": {
   "base_numbering": 1,
   "nav_menu": {},
   "number_sections": true,
   "sideBar": true,
   "skip_h1_title": false,
   "title_cell": "Table of Contents",
   "title_sidebar": "Contents",
   "toc_cell": false,
   "toc_position": {},
   "toc_section_display": true,
   "toc_window_display": false
  }
 },
 "nbformat": 4,
 "nbformat_minor": 5
}
