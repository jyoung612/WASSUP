{
 "cells": [
  {
   "cell_type": "markdown",
   "id": "71f8fa4e",
   "metadata": {},
   "source": [
    "# 파이썬 클래스"
   ]
  },
  {
   "cell_type": "code",
   "execution_count": 1,
   "id": "ca915918",
   "metadata": {},
   "outputs": [],
   "source": [
    "# 클래스와 객체\n",
    "# 클래스 : 일종의 설계도로, 하나의 타입을 정의하는 방법. 클래스에는 관련있는 데이터와 함수를 모아 정의 가능\n",
    "# 객체 : 클래스로 만들어진 결과물"
   ]
  },
  {
   "cell_type": "code",
   "execution_count": 2,
   "id": "ecbf72a6",
   "metadata": {},
   "outputs": [],
   "source": [
    "#비어있는 사람(Human) 클래스 정의\n",
    "\n",
    "class Human:\n",
    "    pass"
   ]
  },
  {
   "cell_type": "code",
   "execution_count": 3,
   "id": "528c7efe",
   "metadata": {},
   "outputs": [],
   "source": [
    "class Human:\n",
    "    pass\n",
    "\n",
    "areum=Human()"
   ]
  },
  {
   "cell_type": "code",
   "execution_count": 4,
   "id": "35493ea7",
   "metadata": {},
   "outputs": [
    {
     "name": "stdout",
     "output_type": "stream",
     "text": [
      "응애응애\n"
     ]
    }
   ],
   "source": [
    "class Human:\n",
    "    def __init__(self):\n",
    "        print(\"응애응애\")\n",
    "\n",
    "areum=Human()"
   ]
  },
  {
   "cell_type": "code",
   "execution_count": 6,
   "id": "29e07f67",
   "metadata": {},
   "outputs": [
    {
     "name": "stdout",
     "output_type": "stream",
     "text": [
      "아름\n",
      "25\n",
      "여자\n"
     ]
    }
   ],
   "source": [
    "class Human:\n",
    "    def __init__(self,이름, 나이, 성별):\n",
    "        self.이름=이름\n",
    "        self.나이=나이\n",
    "        self.성별=성별\n",
    "\n",
    "areum=Human(\"아름\",25,\"여자\")\n",
    "print(areum.이름)\n",
    "print(areum.나이)\n",
    "print(areum.성별)"
   ]
  },
  {
   "cell_type": "code",
   "execution_count": 8,
   "id": "ac224095",
   "metadata": {},
   "outputs": [
    {
     "name": "stdout",
     "output_type": "stream",
     "text": [
      "이름: 아름 나이: 25 성별: 여자\n"
     ]
    }
   ],
   "source": [
    "class Human:\n",
    "    def __init__(self,name,age,sex):\n",
    "        self.name=name\n",
    "        self.age=age\n",
    "        self.sex=sex\n",
    "    \n",
    "    def who(self):\n",
    "        # format함수와 {}를 통해 다른 문자열을 추가\n",
    "        print(\"이름: {} 나이: {} 성별: {}\".format(self.name, self.age, self.sex))\n",
    "        \n",
    "areum=Human(\"아름\",25,\"여자\")\n",
    "areum.who()"
   ]
  },
  {
   "cell_type": "code",
   "execution_count": 16,
   "id": "cd7b76fb",
   "metadata": {},
   "outputs": [
    {
     "name": "stdout",
     "output_type": "stream",
     "text": [
      "이름: 모름 나이: 0 성별: 모름\n",
      "이름: 아름 나이: 25 성별: 여자\n"
     ]
    }
   ],
   "source": [
    "class Human:\n",
    "    def __init__(self,name,age,sex):\n",
    "        self.name=name\n",
    "        self.age=age\n",
    "        self.sex=sex\n",
    "        \n",
    "    def who(self):\n",
    "        print(\"이름: {} 나이: {} 성별: {}\".format(self.name, self.age, self.sex))\n",
    "\n",
    "        \n",
    "    def setInfo(self, name, age, sex):\n",
    "        self.name=name\n",
    "        self.age=age\n",
    "        self.sex=sex\n",
    "        \n",
    "areum=Human(\"모름\",0,\"모름\")\n",
    "areum.who()\n",
    "areum.setInfo(\"아름\",25,\"여자\")\n",
    "areum.who()"
   ]
  },
  {
   "cell_type": "code",
   "execution_count": 22,
   "id": "1ea8de6d",
   "metadata": {},
   "outputs": [
    {
     "name": "stdout",
     "output_type": "stream",
     "text": [
      "이름: 아름 나이: 25 성별: 여자\n",
      "나의 죽음을 알리지 말라\n"
     ]
    }
   ],
   "source": [
    "class Human:\n",
    "    def __init__(self,name,age,sex):   #생성자\n",
    "        self.name=name\n",
    "        self.age=age\n",
    "        self.sex=sex\n",
    "        \n",
    "    def __del__(self):   #소멸자\n",
    "        print(\"나의 죽음을 알리지 말라\")\n",
    "        \n",
    "    def who(self):\n",
    "        print(\"이름: {} 나이: {} 성별: {}\".format(self.name,self.age,self.sex))\n",
    "    \n",
    "areum=Human(\"아름\",25,\"여자\")\n",
    "areum.who()\n",
    "del areum"
   ]
  },
  {
   "cell_type": "code",
   "execution_count": 31,
   "id": "2957ab6d",
   "metadata": {},
   "outputs": [
    {
     "ename": "TypeError",
     "evalue": "OMG.print() takes 0 positional arguments but 1 was given",
     "output_type": "error",
     "traceback": [
      "\u001b[1;31m---------------------------------------------------------------------------\u001b[0m",
      "\u001b[1;31mTypeError\u001b[0m                                 Traceback (most recent call last)",
      "Cell \u001b[1;32mIn[31], line 6\u001b[0m\n\u001b[0;32m      3\u001b[0m         \u001b[38;5;28mprint\u001b[39m(\u001b[38;5;124m\"\u001b[39m\u001b[38;5;124mOh my god\u001b[39m\u001b[38;5;124m\"\u001b[39m)\n\u001b[0;32m      5\u001b[0m mystock\u001b[38;5;241m=\u001b[39mOMG()\n\u001b[1;32m----> 6\u001b[0m mystock\u001b[38;5;241m.\u001b[39mprint()\n",
      "\u001b[1;31mTypeError\u001b[0m: OMG.print() takes 0 positional arguments but 1 was given"
     ]
    }
   ],
   "source": [
    "class OMG:\n",
    "    def print():\n",
    "        print(\"Oh my god\")\n",
    "\n",
    "mystock=OMG()\n",
    "mystock.print() \n",
    "\n",
    "# 에러 해결 : myStock.print() -> OMG.prnt() 수정\n"
   ]
  },
  {
   "cell_type": "code",
   "execution_count": 32,
   "id": "3a16170e",
   "metadata": {},
   "outputs": [
    {
     "name": "stdout",
     "output_type": "stream",
     "text": [
      "Oh my god\n"
     ]
    }
   ],
   "source": [
    "class OMG:\n",
    "    def print():\n",
    "        print(\"Oh my god\")\n",
    "\n",
    "mystock=OMG() \n",
    "OMG.print()"
   ]
  },
  {
   "cell_type": "markdown",
   "id": "41e3dfff",
   "metadata": {},
   "source": [
    "* 261~270"
   ]
  },
  {
   "cell_type": "code",
   "execution_count": 33,
   "id": "a0119565",
   "metadata": {},
   "outputs": [],
   "source": [
    "class Stock:\n",
    "    pass"
   ]
  },
  {
   "cell_type": "code",
   "execution_count": 34,
   "id": "f0fa219d",
   "metadata": {},
   "outputs": [
    {
     "name": "stdout",
     "output_type": "stream",
     "text": [
      "삼성전자\n",
      "005930\n"
     ]
    }
   ],
   "source": [
    "class Stock:\n",
    "    def __init__(self, name, code):\n",
    "        self.name=name\n",
    "        self.code=code\n",
    "\n",
    "삼성 = Stock(\"삼성전자\",\"005930\")\n",
    "print(삼성.name)\n",
    "print(삼성.code)"
   ]
  },
  {
   "cell_type": "code",
   "execution_count": 36,
   "id": "06fcd18e",
   "metadata": {},
   "outputs": [
    {
     "name": "stdout",
     "output_type": "stream",
     "text": [
      "삼성전자\n"
     ]
    }
   ],
   "source": [
    "class Stock:\n",
    "    def __init__(self, name, code):\n",
    "        self.name=name\n",
    "        self.code=code\n",
    "        \n",
    "    def set_name(self,name):\n",
    "        self.name=name\n",
    "\n",
    "a=Stock(None,None)\n",
    "a.set_name(\"삼성전자\")\n",
    "print(a.name)"
   ]
  },
  {
   "cell_type": "code",
   "execution_count": 42,
   "id": "e12e4026",
   "metadata": {},
   "outputs": [
    {
     "name": "stdout",
     "output_type": "stream",
     "text": [
      "005930\n"
     ]
    }
   ],
   "source": [
    "class Stock:\n",
    "    def __init__(self, name, code):\n",
    "        self.name = name\n",
    "        self.code = code\n",
    "\n",
    "    def set_name(self, name):\n",
    "        self.name = name\n",
    "\n",
    "    def set_code(self, code):\n",
    "        self.code = code\n",
    "\n",
    "a = Stock(None, None)\n",
    "a.set_code(\"005930\")\n",
    "print(a.code)"
   ]
  },
  {
   "cell_type": "code",
   "execution_count": 47,
   "id": "ad5c4630",
   "metadata": {},
   "outputs": [
    {
     "name": "stdout",
     "output_type": "stream",
     "text": [
      "삼성전자\n",
      "005930\n",
      "삼성전자\n",
      "005930\n"
     ]
    }
   ],
   "source": [
    "class Stock:\n",
    "    def __init__(self, name, code):\n",
    "        self.name = name\n",
    "        self.code = code\n",
    "\n",
    "    def set_name(self, name):\n",
    "        self.name = name\n",
    "\n",
    "    def set_code(self, code):\n",
    "        self.code = code\n",
    "        \n",
    "    def get_name(self):  \n",
    "        return self.name\n",
    "    \n",
    "    def get_code(self):\n",
    "        return self.code\n",
    "    \n",
    "삼성=Stock(\"삼성전자\",\"005930\")\n",
    "print(삼성.name)\n",
    "print(삼성.code)\n",
    "print(삼성.get_name())\n",
    "print(삼성.get_code())"
   ]
  },
  {
   "cell_type": "code",
   "execution_count": 48,
   "id": "2bec6747",
   "metadata": {},
   "outputs": [],
   "source": [
    "class Stock:\n",
    "    def __init__(self, name, code, per, pbr, 배당수익률):\n",
    "        self.name = name\n",
    "        self.code = code\n",
    "        self.per=per\n",
    "        self.pbr=pbr\n",
    "        self.배당수익률=배당수익률\n",
    "\n",
    "    def set_name(self, name):\n",
    "        self.name = name\n",
    "\n",
    "    def set_code(self, code):\n",
    "        self.code = code\n",
    "        \n",
    "    def get_name(self):  \n",
    "        return self.name\n",
    "    \n",
    "    def get_code(self):\n",
    "        return self.code\n",
    "    "
   ]
  },
  {
   "cell_type": "code",
   "execution_count": 50,
   "id": "295bd88f",
   "metadata": {},
   "outputs": [],
   "source": [
    "class Stock:\n",
    "    def __init__(self, name, code, per, pbr, 배당수익률):\n",
    "        self.name = name\n",
    "        self.code = code\n",
    "        self.per=per\n",
    "        self.pbr=pbr\n",
    "        self.배당수익률=배당수익률\n",
    "\n",
    "    def set_name(self, name):\n",
    "        self.name = name\n",
    "\n",
    "    def set_code(self, code):\n",
    "        self.code = code\n",
    "        \n",
    "    def get_name(self):  \n",
    "        return self.name\n",
    "    \n",
    "    def get_code(self):\n",
    "        return self.code\n",
    "    \n",
    "삼성=Stock('삼성전자','005930',15.79,1.33,2.83)"
   ]
  },
  {
   "cell_type": "code",
   "execution_count": 51,
   "id": "eec0b889",
   "metadata": {},
   "outputs": [],
   "source": [
    "class Stock:\n",
    "    def __init__(self, name, code, per, pbr, dividend):\n",
    "        self.name = name\n",
    "        self.code = code\n",
    "        self.per=per\n",
    "        self.pbr=pbr\n",
    "        self.dividend=dividend\n",
    "\n",
    "    def set_name(self, name):\n",
    "        self.name = name\n",
    "\n",
    "    def set_code(self, code):\n",
    "        self.code = code\n",
    "        \n",
    "    def set_per(self,per):\n",
    "        self.per=per\n",
    "    \n",
    "    def set_pbr(self,pbr):\n",
    "        self.pbr=pbr\n",
    "        \n",
    "    def set_dividend(self,dividend):\n",
    "        self.dividend=dividend\n",
    "        \n",
    "    def get_name(self):  \n",
    "        return self.name\n",
    "    \n",
    "    def get_code(self):\n",
    "        return self.code\n",
    "    \n",
    "    "
   ]
  },
  {
   "cell_type": "code",
   "execution_count": 54,
   "id": "ddf70467",
   "metadata": {},
   "outputs": [
    {
     "name": "stdout",
     "output_type": "stream",
     "text": [
      "12.75\n"
     ]
    }
   ],
   "source": [
    "class Stock:\n",
    "    def __init__(self, name, code, per, pbr, dividend):\n",
    "        self.name = name\n",
    "        self.code = code\n",
    "        self.per=per\n",
    "        self.pbr=pbr\n",
    "        self.dividend=dividend\n",
    "\n",
    "    def set_name(self, name):\n",
    "        self.name = name\n",
    "\n",
    "    def set_code(self, code):\n",
    "        self.code = code\n",
    "        \n",
    "    def set_per(self,per):\n",
    "        self.per=per\n",
    "    \n",
    "    def set_pbr(self,pbr):\n",
    "        self.pbr=pbr\n",
    "        \n",
    "    def set_dividend(self,dividend):\n",
    "        self.dividend=dividend\n",
    "        \n",
    "    def get_name(self):  \n",
    "        return self.name\n",
    "    \n",
    "    def get_code(self):\n",
    "        return self.code\n",
    "    \n",
    "삼성=Stock('삼성전자','005930',15.79,1.33,2.83)\n",
    "삼성.set_per(12.75)\n",
    "print(삼성.per)"
   ]
  },
  {
   "cell_type": "code",
   "execution_count": 55,
   "id": "1604e2a7",
   "metadata": {},
   "outputs": [
    {
     "name": "stdout",
     "output_type": "stream",
     "text": [
      "005930 15.79\n",
      "005380 8.7\n",
      "066570 317.34\n"
     ]
    }
   ],
   "source": [
    "class Stock:\n",
    "    def __init__(self, name, code, per, pbr, dividend):\n",
    "        self.name = name\n",
    "        self.code = code\n",
    "        self.per=per\n",
    "        self.pbr=pbr\n",
    "        self.dividend=dividend\n",
    "\n",
    "    def set_name(self, name):\n",
    "        self.name = name\n",
    "\n",
    "    def set_code(self, code):\n",
    "        self.code = code\n",
    "        \n",
    "    def set_per(self,per):\n",
    "        self.per=per\n",
    "    \n",
    "    def set_pbr(self,pbr):\n",
    "        self.pbr=pbr\n",
    "        \n",
    "    def set_dividend(self,dividend):\n",
    "        self.dividend=dividend\n",
    "        \n",
    "    def get_name(self):  \n",
    "        return self.name\n",
    "    \n",
    "    def get_code(self):\n",
    "        return self.code\n",
    "    \n",
    "종목=[]\n",
    "\n",
    "삼성=Stock(\"삼성전자\",'005930',15.79,1.33,2.83)\n",
    "현대=Stock(\"현대차\",\"005380\",8.70,0.35,4.27)\n",
    "LG=Stock(\"LG전자\",'066570',317.34,0.69,1.37)\n",
    "\n",
    "종목.append(삼성)\n",
    "종목.append(현대)\n",
    "종목.append(LG)\n",
    "\n",
    "for i in 종목:\n",
    "    print(i.code, i.per)"
   ]
  },
  {
   "cell_type": "code",
   "execution_count": null,
   "id": "4af22c07",
   "metadata": {},
   "outputs": [],
   "source": []
  }
 ],
 "metadata": {
  "kernelspec": {
   "display_name": "Python 3 (ipykernel)",
   "language": "python",
   "name": "python3"
  },
  "language_info": {
   "codemirror_mode": {
    "name": "ipython",
    "version": 3
   },
   "file_extension": ".py",
   "mimetype": "text/x-python",
   "name": "python",
   "nbconvert_exporter": "python",
   "pygments_lexer": "ipython3",
   "version": "3.11.5"
  },
  "toc": {
   "base_numbering": 1,
   "nav_menu": {},
   "number_sections": true,
   "sideBar": true,
   "skip_h1_title": false,
   "title_cell": "Table of Contents",
   "title_sidebar": "Contents",
   "toc_cell": false,
   "toc_position": {},
   "toc_section_display": true,
   "toc_window_display": false
  }
 },
 "nbformat": 4,
 "nbformat_minor": 5
}
